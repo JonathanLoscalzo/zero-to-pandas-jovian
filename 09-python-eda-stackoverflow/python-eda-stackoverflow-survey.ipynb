{
 "cells": [
  {
   "cell_type": "markdown",
   "metadata": {
    "id": "wLN-hITKTuSC"
   },
   "source": [
    "# Exploratory Data Analysis using Python - A Case Study\n",
    "\n",
    "*Analyzing responses from the Stack Overflow Annual Developer Survey 2020*\n",
    "\n",
    "### Part 9 of \"Data Analysis with Python: Zero to Pandas\"\n",
    "\n",
    "This tutorial is the ninth in a series on the introduction to programming and data analysis using the Python language. These tutorials take a practical coding-based approach, and the best way to learn the material is to execute the code and experiment with the examples. Check out the full series here: \n",
    "\n",
    "1. [First Steps with Python and Jupyter](https://jovian.ml/aakashns/first-steps-with-python)\n",
    "2. [A Quick Tour of Variables and Data Types](https://jovian.ml/aakashns/python-variables-and-data-types)\n",
    "3. [Branching using Conditional Statements and Loops](https://jovian.ml/aakashns/python-branching-and-loops)\n",
    "4. [Writing Reusable Code Using Functions](https://jovian.ml/aakashns/python-functions-and-scope)\n",
    "5. [Reading from and Writing to Files](https://jovian.ml/aakashns/python-os-and-filesystem)\n",
    "6. [Numerical Computing with Python and Numpy](https://jovian.ml/aakashns/python-numerical-computing-with-numpy)\n",
    "7. [Analyzing Tabular Data using Pandas](https://jovian.ml/aakashns/python-pandas-data-analysis)\n",
    "8. [Data Visulation using Matplotlib & Seaborn](https://jovian.ml/aakashns/python-matplotlib-data-visualization)\n",
    "9. [Exploratory Data Analysis - A Case Study](https://jovian.ml/aakashns/python-eda-stackoverflow-survey)"
   ]
  },
  {
   "cell_type": "markdown",
   "metadata": {
    "id": "RCpdW54ITuSD"
   },
   "source": [
    "## How to run the code\n",
    "\n",
    "This tutorial hosted on [Jovian.ml](https://www.jovian.ml), a platform for sharing data science projects online. You can \"run\" this tutorial and experiment with the code examples in a couple of ways: *using free online resources* (recommended) or *on your own computer*.\n",
    "\n",
    ">  This tutorial is a [Jupyter notebook](https://jupyter.org) - a document made of \"cells\", which can contain explanations in text or code written in Python. Code cells can be executed and their outputs e.g. numbers, messages, graphs, tables, files etc. can be viewed within the notebook, which makes it a really powerful platform for experimentation and analysis. Don't afraid to experiment with the code & break things - you'll learn a lot by encoutering and fixing errors. You can use the \"Kernel > Restart & Clear Output\" menu option to clear all outputs and start again from the top of the notebook.\n",
    "\n",
    "### Option 1: Running using free online resources (1-click, recommended)\n",
    "\n",
    "The easiest way to start executing this notebook is to click the \"Run\" button at the top of this page, and select \"Run on Binder\". This will run the notebook on [mybinder.org](https://mybinder.org), a free online service for running Jupyter notebooks. You can also select \"Run on Colab\" or \"Run on Kaggle\", but you'll need to create an account on [Google Colab](https://colab.research.google.com) or [Kaggle](https://kaggle.com) to use these platforms.\n",
    "\n",
    "\n",
    "### Option 2: Running on your computer locally\n",
    "\n",
    "You'll need to install Python and download this notebook on your computer to run in locally. We recommend using the [Conda](https://docs.conda.io/en/latest/) distribution of Python. Here's what you need to do to get started:\n",
    "\n",
    "1. Install Conda by [following these instructions](https://conda.io/projects/conda/en/latest/user-guide/install/index.html). Make sure to add Conda binaries to your system `PATH` to be able to run the `conda` command line tool from your Mac/Linux terminal or Windows command prompt. \n",
    "\n",
    "\n",
    "2. Create and activate a [Conda virtual environment](https://docs.conda.io/projects/conda/en/latest/user-guide/tasks/manage-environments.html) called `zerotopandas` which you can use for this tutorial series:\n",
    "```\n",
    "conda create -n zerotopandas -y python=3.8 \n",
    "conda activate zerotopandas\n",
    "```\n",
    "You'll need to create the environment only once, but you'll have to activate it every time want to run the notebook. When the environment is activated, you should be able to see a prefix `(zerotopandas)` within your terminal or command prompt.\n",
    "\n",
    "\n",
    "3. Install the required Python libraries within the environment by the running the following command on your  terminal or command prompt:\n",
    "```\n",
    "pip install jovian jupyter numpy pandas matplotlib seaborn opendatasets --upgrade\n",
    "```\n",
    "\n",
    "4. Download the notebook for this tutorial using the `jovian clone` command:\n",
    "```\n",
    "jovian clone aakashns/python-eda-stackoverflow-survey\n",
    "```\n",
    "The notebook is downloaded to the directory `python-eda-stackoverflow-survey`.\n",
    "\n",
    "\n",
    "5. Enter the project directory and start the Jupyter notebook:\n",
    "```\n",
    "cd python-eda-stackoverflow-survey\n",
    "jupyter notebook\n",
    "```\n",
    "\n",
    "6. You can now access Jupyter's web interface by clicking the link that shows up on the terminal or by visiting http://localhost:8888 on your browser. Click on the notebook `python-eda-stackoverflow-survey.ipynb` to open it and run the code. If you want to type out the code yourself, you can also create a new notebook using the \"New\" button."
   ]
  },
  {
   "cell_type": "markdown",
   "metadata": {
    "id": "5jTIZaUvTuSF"
   },
   "source": [
    "## Introduction\n",
    "\n",
    "We'll use the StackOverflow developer survey dataset for our analysis. This is an annual survey conducted by StackOverflow, and you can find the raw data & results here: https://insights.stackoverflow.com/survey.\n",
    "\n",
    "There are several options for getting the dataset into Jupyter:\n",
    "\n",
    "- Download the CSV manually and upload it via Jupyter's GUI\n",
    "- Use the `urlretrieve` function from the `urllib.request` to download CSV files from a raw URL directly\n",
    "- Use a helper library e.g. [`opendatasets`](https://github.com/JovianML/opendatasets), which contains a collection of curated datasets and provides a function for directly download.\n",
    "\n",
    "We'll use the `opendatasets` helper library to download the files."
   ]
  },
  {
   "cell_type": "code",
   "execution_count": 1,
   "metadata": {
    "executionInfo": {
     "elapsed": 865,
     "status": "ok",
     "timestamp": 1601659418395,
     "user": {
      "displayName": "Jonathan Loscalzo",
      "photoUrl": "https://lh3.googleusercontent.com/a-/AOh14GivbM-9DpHz0-Jl7KXptCwUFRftS0nHXTawHVNVGg=s64",
      "userId": "01585398269152205627"
     },
     "user_tz": 180
    },
    "id": "jYxoZzFlTuSH"
   },
   "outputs": [],
   "source": [
    "import opendatasets as od"
   ]
  },
  {
   "cell_type": "code",
   "execution_count": 2,
   "metadata": {
    "colab": {
     "base_uri": "https://localhost:8080/",
     "height": 123
    },
    "executionInfo": {
     "elapsed": 3072,
     "status": "ok",
     "timestamp": 1601659422803,
     "user": {
      "displayName": "Jonathan Loscalzo",
      "photoUrl": "https://lh3.googleusercontent.com/a-/AOh14GivbM-9DpHz0-Jl7KXptCwUFRftS0nHXTawHVNVGg=s64",
      "userId": "01585398269152205627"
     },
     "user_tz": 180
    },
    "id": "s7uwboS7TuSV",
    "outputId": "2c5b44f6-f539-412d-e1e3-5606c290bf03"
   },
   "outputs": [
    {
     "name": "stderr",
     "output_type": "stream",
     "text": [
      "\r",
      "0it [00:00, ?it/s]"
     ]
    },
    {
     "name": "stdout",
     "output_type": "stream",
     "text": [
      "Downloading https://raw.githubusercontent.com/JovianML/opendatasets/master/data/stackoverflow-developer-survey-2020/survey_results_public.csv to ./stackoverflow-developer-survey-2020/survey_results_public.csv\n"
     ]
    },
    {
     "name": "stderr",
     "output_type": "stream",
     "text": [
      "94609408it [00:12, 7524205.82it/s]                               \n",
      "0it [00:00, ?it/s]"
     ]
    },
    {
     "name": "stdout",
     "output_type": "stream",
     "text": [
      "Downloading https://raw.githubusercontent.com/JovianML/opendatasets/master/data/stackoverflow-developer-survey-2020/survey_results_schema.csv to ./stackoverflow-developer-survey-2020/survey_results_schema.csv\n"
     ]
    },
    {
     "name": "stderr",
     "output_type": "stream",
     "text": [
      "16384it [00:00, 40866.02it/s]           \n",
      "0it [00:00, ?it/s]"
     ]
    },
    {
     "name": "stdout",
     "output_type": "stream",
     "text": [
      "Downloading https://raw.githubusercontent.com/JovianML/opendatasets/master/data/stackoverflow-developer-survey-2020/README.txt to ./stackoverflow-developer-survey-2020/README.txt\n"
     ]
    },
    {
     "name": "stderr",
     "output_type": "stream",
     "text": [
      "8192it [00:00, 17564.78it/s]            \n"
     ]
    }
   ],
   "source": [
    "od.download('stackoverflow-developer-survey-2020')"
   ]
  },
  {
   "cell_type": "markdown",
   "metadata": {
    "id": "__Tc6hAQTuSy"
   },
   "source": [
    "Let's verify that the dataset was downloaded into the directory `stackoverflow-developer-survey-2020`, and retrieve the list of files in the dataset."
   ]
  },
  {
   "cell_type": "code",
   "execution_count": 3,
   "metadata": {
    "executionInfo": {
     "elapsed": 588,
     "status": "ok",
     "timestamp": 1601659562324,
     "user": {
      "displayName": "Jonathan Loscalzo",
      "photoUrl": "https://lh3.googleusercontent.com/a-/AOh14GivbM-9DpHz0-Jl7KXptCwUFRftS0nHXTawHVNVGg=s64",
      "userId": "01585398269152205627"
     },
     "user_tz": 180
    },
    "id": "x4U_VNl2TuS0"
   },
   "outputs": [],
   "source": [
    "import os"
   ]
  },
  {
   "cell_type": "code",
   "execution_count": 4,
   "metadata": {
    "colab": {
     "base_uri": "https://localhost:8080/",
     "height": 34
    },
    "executionInfo": {
     "elapsed": 703,
     "status": "ok",
     "timestamp": 1601659562640,
     "user": {
      "displayName": "Jonathan Loscalzo",
      "photoUrl": "https://lh3.googleusercontent.com/a-/AOh14GivbM-9DpHz0-Jl7KXptCwUFRftS0nHXTawHVNVGg=s64",
      "userId": "01585398269152205627"
     },
     "user_tz": 180
    },
    "id": "pT5SbZp5TuTN",
    "outputId": "22701788-3b5e-41ed-c752-a6d66bc52c77",
    "scrolled": true
   },
   "outputs": [
    {
     "data": {
      "text/plain": [
       "['survey_results_public.csv', 'README.txt', 'survey_results_schema.csv']"
      ]
     },
     "execution_count": 4,
     "metadata": {},
     "output_type": "execute_result"
    }
   ],
   "source": [
    "os.listdir('stackoverflow-developer-survey-2020')"
   ]
  },
  {
   "cell_type": "markdown",
   "metadata": {
    "id": "85wmAdcbTuTU"
   },
   "source": [
    "You can through the downloaded files using `File > Open` menu option in Jupyter. It seems like the dataset contains 3 files:\n",
    "\n",
    "- `README.txt` - containing information about the dataset\n",
    "- `survey_results_schema.csv` - containing the list of questions (and short codes for each question)\n",
    "- `survey_results_public.csv` - the full list of responses to the questions \n",
    "\n",
    "Let's load the CSV files using the Pandas library. We'll use the name `survey_raw_df` for the data frame, to indicate that this is unprocessed data that which we might clean, filter and modify to prepare a data frame that's ready for analysis."
   ]
  },
  {
   "cell_type": "code",
   "execution_count": 5,
   "metadata": {
    "executionInfo": {
     "elapsed": 1052,
     "status": "ok",
     "timestamp": 1601659910749,
     "user": {
      "displayName": "Jonathan Loscalzo",
      "photoUrl": "https://lh3.googleusercontent.com/a-/AOh14GivbM-9DpHz0-Jl7KXptCwUFRftS0nHXTawHVNVGg=s64",
      "userId": "01585398269152205627"
     },
     "user_tz": 180
    },
    "id": "xJxTfhXpTuTX"
   },
   "outputs": [],
   "source": [
    "import pandas as pd"
   ]
  },
  {
   "cell_type": "code",
   "execution_count": 6,
   "metadata": {
    "executionInfo": {
     "elapsed": 2699,
     "status": "ok",
     "timestamp": 1601659912594,
     "user": {
      "displayName": "Jonathan Loscalzo",
      "photoUrl": "https://lh3.googleusercontent.com/a-/AOh14GivbM-9DpHz0-Jl7KXptCwUFRftS0nHXTawHVNVGg=s64",
      "userId": "01585398269152205627"
     },
     "user_tz": 180
    },
    "id": "gYWILCrOTuTg"
   },
   "outputs": [],
   "source": [
    "survey_raw_df = pd.read_csv('stackoverflow-developer-survey-2020/survey_results_public.csv')"
   ]
  },
  {
   "cell_type": "code",
   "execution_count": 7,
   "metadata": {
    "colab": {
     "base_uri": "https://localhost:8080/",
     "height": 617
    },
    "executionInfo": {
     "elapsed": 784,
     "status": "ok",
     "timestamp": 1601659933272,
     "user": {
      "displayName": "Jonathan Loscalzo",
      "photoUrl": "https://lh3.googleusercontent.com/a-/AOh14GivbM-9DpHz0-Jl7KXptCwUFRftS0nHXTawHVNVGg=s64",
      "userId": "01585398269152205627"
     },
     "user_tz": 180
    },
    "id": "5FbZezKrTuTl",
    "outputId": "9f2e8165-d12e-4cb4-8568-13a4112dd7b5"
   },
   "outputs": [
    {
     "data": {
      "text/html": [
       "<div>\n",
       "<style scoped>\n",
       "    .dataframe tbody tr th:only-of-type {\n",
       "        vertical-align: middle;\n",
       "    }\n",
       "\n",
       "    .dataframe tbody tr th {\n",
       "        vertical-align: top;\n",
       "    }\n",
       "\n",
       "    .dataframe thead th {\n",
       "        text-align: right;\n",
       "    }\n",
       "</style>\n",
       "<table border=\"1\" class=\"dataframe\">\n",
       "  <thead>\n",
       "    <tr style=\"text-align: right;\">\n",
       "      <th></th>\n",
       "      <th>Respondent</th>\n",
       "      <th>MainBranch</th>\n",
       "      <th>Hobbyist</th>\n",
       "      <th>Age</th>\n",
       "      <th>Age1stCode</th>\n",
       "      <th>CompFreq</th>\n",
       "      <th>CompTotal</th>\n",
       "      <th>ConvertedComp</th>\n",
       "      <th>Country</th>\n",
       "      <th>CurrencyDesc</th>\n",
       "      <th>...</th>\n",
       "      <th>SurveyEase</th>\n",
       "      <th>SurveyLength</th>\n",
       "      <th>Trans</th>\n",
       "      <th>UndergradMajor</th>\n",
       "      <th>WebframeDesireNextYear</th>\n",
       "      <th>WebframeWorkedWith</th>\n",
       "      <th>WelcomeChange</th>\n",
       "      <th>WorkWeekHrs</th>\n",
       "      <th>YearsCode</th>\n",
       "      <th>YearsCodePro</th>\n",
       "    </tr>\n",
       "  </thead>\n",
       "  <tbody>\n",
       "    <tr>\n",
       "      <th>0</th>\n",
       "      <td>1</td>\n",
       "      <td>I am a developer by profession</td>\n",
       "      <td>Yes</td>\n",
       "      <td>NaN</td>\n",
       "      <td>13</td>\n",
       "      <td>Monthly</td>\n",
       "      <td>NaN</td>\n",
       "      <td>NaN</td>\n",
       "      <td>Germany</td>\n",
       "      <td>European Euro</td>\n",
       "      <td>...</td>\n",
       "      <td>Neither easy nor difficult</td>\n",
       "      <td>Appropriate in length</td>\n",
       "      <td>No</td>\n",
       "      <td>Computer science, computer engineering, or sof...</td>\n",
       "      <td>ASP.NET Core</td>\n",
       "      <td>ASP.NET;ASP.NET Core</td>\n",
       "      <td>Just as welcome now as I felt last year</td>\n",
       "      <td>50.0</td>\n",
       "      <td>36</td>\n",
       "      <td>27</td>\n",
       "    </tr>\n",
       "    <tr>\n",
       "      <th>1</th>\n",
       "      <td>2</td>\n",
       "      <td>I am a developer by profession</td>\n",
       "      <td>No</td>\n",
       "      <td>NaN</td>\n",
       "      <td>19</td>\n",
       "      <td>NaN</td>\n",
       "      <td>NaN</td>\n",
       "      <td>NaN</td>\n",
       "      <td>United Kingdom</td>\n",
       "      <td>Pound sterling</td>\n",
       "      <td>...</td>\n",
       "      <td>NaN</td>\n",
       "      <td>NaN</td>\n",
       "      <td>NaN</td>\n",
       "      <td>Computer science, computer engineering, or sof...</td>\n",
       "      <td>NaN</td>\n",
       "      <td>NaN</td>\n",
       "      <td>Somewhat more welcome now than last year</td>\n",
       "      <td>NaN</td>\n",
       "      <td>7</td>\n",
       "      <td>4</td>\n",
       "    </tr>\n",
       "    <tr>\n",
       "      <th>2</th>\n",
       "      <td>3</td>\n",
       "      <td>I code primarily as a hobby</td>\n",
       "      <td>Yes</td>\n",
       "      <td>NaN</td>\n",
       "      <td>15</td>\n",
       "      <td>NaN</td>\n",
       "      <td>NaN</td>\n",
       "      <td>NaN</td>\n",
       "      <td>Russian Federation</td>\n",
       "      <td>NaN</td>\n",
       "      <td>...</td>\n",
       "      <td>Neither easy nor difficult</td>\n",
       "      <td>Appropriate in length</td>\n",
       "      <td>NaN</td>\n",
       "      <td>NaN</td>\n",
       "      <td>NaN</td>\n",
       "      <td>NaN</td>\n",
       "      <td>Somewhat more welcome now than last year</td>\n",
       "      <td>NaN</td>\n",
       "      <td>4</td>\n",
       "      <td>NaN</td>\n",
       "    </tr>\n",
       "    <tr>\n",
       "      <th>3</th>\n",
       "      <td>4</td>\n",
       "      <td>I am a developer by profession</td>\n",
       "      <td>Yes</td>\n",
       "      <td>25.0</td>\n",
       "      <td>18</td>\n",
       "      <td>NaN</td>\n",
       "      <td>NaN</td>\n",
       "      <td>NaN</td>\n",
       "      <td>Albania</td>\n",
       "      <td>Albanian lek</td>\n",
       "      <td>...</td>\n",
       "      <td>NaN</td>\n",
       "      <td>NaN</td>\n",
       "      <td>No</td>\n",
       "      <td>Computer science, computer engineering, or sof...</td>\n",
       "      <td>NaN</td>\n",
       "      <td>NaN</td>\n",
       "      <td>Somewhat less welcome now than last year</td>\n",
       "      <td>40.0</td>\n",
       "      <td>7</td>\n",
       "      <td>4</td>\n",
       "    </tr>\n",
       "    <tr>\n",
       "      <th>4</th>\n",
       "      <td>5</td>\n",
       "      <td>I used to be a developer by profession, but no...</td>\n",
       "      <td>Yes</td>\n",
       "      <td>31.0</td>\n",
       "      <td>16</td>\n",
       "      <td>NaN</td>\n",
       "      <td>NaN</td>\n",
       "      <td>NaN</td>\n",
       "      <td>United States</td>\n",
       "      <td>NaN</td>\n",
       "      <td>...</td>\n",
       "      <td>Easy</td>\n",
       "      <td>Too short</td>\n",
       "      <td>No</td>\n",
       "      <td>Computer science, computer engineering, or sof...</td>\n",
       "      <td>Django;Ruby on Rails</td>\n",
       "      <td>Ruby on Rails</td>\n",
       "      <td>Just as welcome now as I felt last year</td>\n",
       "      <td>NaN</td>\n",
       "      <td>15</td>\n",
       "      <td>8</td>\n",
       "    </tr>\n",
       "  </tbody>\n",
       "</table>\n",
       "<p>5 rows × 61 columns</p>\n",
       "</div>"
      ],
      "text/plain": [
       "   Respondent                                         MainBranch Hobbyist  \\\n",
       "0           1                     I am a developer by profession      Yes   \n",
       "1           2                     I am a developer by profession       No   \n",
       "2           3                        I code primarily as a hobby      Yes   \n",
       "3           4                     I am a developer by profession      Yes   \n",
       "4           5  I used to be a developer by profession, but no...      Yes   \n",
       "\n",
       "    Age Age1stCode CompFreq  CompTotal  ConvertedComp             Country  \\\n",
       "0   NaN         13  Monthly        NaN            NaN             Germany   \n",
       "1   NaN         19      NaN        NaN            NaN      United Kingdom   \n",
       "2   NaN         15      NaN        NaN            NaN  Russian Federation   \n",
       "3  25.0         18      NaN        NaN            NaN             Albania   \n",
       "4  31.0         16      NaN        NaN            NaN       United States   \n",
       "\n",
       "     CurrencyDesc  ...                  SurveyEase           SurveyLength  \\\n",
       "0   European Euro  ...  Neither easy nor difficult  Appropriate in length   \n",
       "1  Pound sterling  ...                         NaN                    NaN   \n",
       "2             NaN  ...  Neither easy nor difficult  Appropriate in length   \n",
       "3    Albanian lek  ...                         NaN                    NaN   \n",
       "4             NaN  ...                        Easy              Too short   \n",
       "\n",
       "  Trans                                     UndergradMajor  \\\n",
       "0    No  Computer science, computer engineering, or sof...   \n",
       "1   NaN  Computer science, computer engineering, or sof...   \n",
       "2   NaN                                                NaN   \n",
       "3    No  Computer science, computer engineering, or sof...   \n",
       "4    No  Computer science, computer engineering, or sof...   \n",
       "\n",
       "  WebframeDesireNextYear    WebframeWorkedWith  \\\n",
       "0           ASP.NET Core  ASP.NET;ASP.NET Core   \n",
       "1                    NaN                   NaN   \n",
       "2                    NaN                   NaN   \n",
       "3                    NaN                   NaN   \n",
       "4   Django;Ruby on Rails         Ruby on Rails   \n",
       "\n",
       "                              WelcomeChange WorkWeekHrs YearsCode YearsCodePro  \n",
       "0   Just as welcome now as I felt last year        50.0        36           27  \n",
       "1  Somewhat more welcome now than last year         NaN         7            4  \n",
       "2  Somewhat more welcome now than last year         NaN         4          NaN  \n",
       "3  Somewhat less welcome now than last year        40.0         7            4  \n",
       "4   Just as welcome now as I felt last year         NaN        15            8  \n",
       "\n",
       "[5 rows x 61 columns]"
      ]
     },
     "execution_count": 7,
     "metadata": {},
     "output_type": "execute_result"
    }
   ],
   "source": [
    "survey_raw_df.head()"
   ]
  },
  {
   "cell_type": "markdown",
   "metadata": {
    "id": "AHCfhI1xTuTs"
   },
   "source": [
    "The dataset contains over 64,000 responses to 60 questions (although many questions are optional). The responses have been anonymized and there's no personally identifiable information available to us - although each respondent has been assigned a randomized respondent ID.\n",
    "\n",
    "Let's view the list of columns in the data frame. "
   ]
  },
  {
   "cell_type": "code",
   "execution_count": 8,
   "metadata": {
    "colab": {
     "base_uri": "https://localhost:8080/",
     "height": 318
    },
    "executionInfo": {
     "elapsed": 744,
     "status": "ok",
     "timestamp": 1601659942952,
     "user": {
      "displayName": "Jonathan Loscalzo",
      "photoUrl": "https://lh3.googleusercontent.com/a-/AOh14GivbM-9DpHz0-Jl7KXptCwUFRftS0nHXTawHVNVGg=s64",
      "userId": "01585398269152205627"
     },
     "user_tz": 180
    },
    "id": "En0wZuxWTuTt",
    "outputId": "f150e4bb-91ec-43f0-d879-f8162c2f0bab"
   },
   "outputs": [
    {
     "data": {
      "text/plain": [
       "Index(['Respondent', 'MainBranch', 'Hobbyist', 'Age', 'Age1stCode', 'CompFreq',\n",
       "       'CompTotal', 'ConvertedComp', 'Country', 'CurrencyDesc',\n",
       "       'CurrencySymbol', 'DatabaseDesireNextYear', 'DatabaseWorkedWith',\n",
       "       'DevType', 'EdLevel', 'Employment', 'Ethnicity', 'Gender', 'JobFactors',\n",
       "       'JobSat', 'JobSeek', 'LanguageDesireNextYear', 'LanguageWorkedWith',\n",
       "       'MiscTechDesireNextYear', 'MiscTechWorkedWith',\n",
       "       'NEWCollabToolsDesireNextYear', 'NEWCollabToolsWorkedWith', 'NEWDevOps',\n",
       "       'NEWDevOpsImpt', 'NEWEdImpt', 'NEWJobHunt', 'NEWJobHuntResearch',\n",
       "       'NEWLearn', 'NEWOffTopic', 'NEWOnboardGood', 'NEWOtherComms',\n",
       "       'NEWOvertime', 'NEWPurchaseResearch', 'NEWPurpleLink', 'NEWSOSites',\n",
       "       'NEWStuck', 'OpSys', 'OrgSize', 'PlatformDesireNextYear',\n",
       "       'PlatformWorkedWith', 'PurchaseWhat', 'Sexuality', 'SOAccount',\n",
       "       'SOComm', 'SOPartFreq', 'SOVisitFreq', 'SurveyEase', 'SurveyLength',\n",
       "       'Trans', 'UndergradMajor', 'WebframeDesireNextYear',\n",
       "       'WebframeWorkedWith', 'WelcomeChange', 'WorkWeekHrs', 'YearsCode',\n",
       "       'YearsCodePro'],\n",
       "      dtype='object')"
      ]
     },
     "execution_count": 8,
     "metadata": {},
     "output_type": "execute_result"
    }
   ],
   "source": [
    "survey_raw_df.columns"
   ]
  },
  {
   "cell_type": "markdown",
   "metadata": {
    "id": "_JW-w34YTuTz"
   },
   "source": [
    "It appears that short codes for questions are used as column names. \n",
    "\n",
    "We can refer to the schema file to see the full text of each question. The schema file contains only two columns: `Column` and `QuestionText`, so we can load it as Pandas Series with `Column` as the index and the  `QuestionText` as the value."
   ]
  },
  {
   "cell_type": "code",
   "execution_count": 9,
   "metadata": {
    "executionInfo": {
     "elapsed": 867,
     "status": "ok",
     "timestamp": 1601660674231,
     "user": {
      "displayName": "Jonathan Loscalzo",
      "photoUrl": "https://lh3.googleusercontent.com/a-/AOh14GivbM-9DpHz0-Jl7KXptCwUFRftS0nHXTawHVNVGg=s64",
      "userId": "01585398269152205627"
     },
     "user_tz": 180
    },
    "id": "B33d_s78TuT0"
   },
   "outputs": [],
   "source": [
    "schema_fname = 'stackoverflow-developer-survey-2020/survey_results_schema.csv'\n",
    "schema_raw = pd.read_csv(schema_fname, index_col='Column').QuestionText"
   ]
  },
  {
   "cell_type": "code",
   "execution_count": 10,
   "metadata": {
    "colab": {
     "base_uri": "https://localhost:8080/",
     "height": 247
    },
    "executionInfo": {
     "elapsed": 805,
     "status": "ok",
     "timestamp": 1601660674529,
     "user": {
      "displayName": "Jonathan Loscalzo",
      "photoUrl": "https://lh3.googleusercontent.com/a-/AOh14GivbM-9DpHz0-Jl7KXptCwUFRftS0nHXTawHVNVGg=s64",
      "userId": "01585398269152205627"
     },
     "user_tz": 180
    },
    "id": "nc4QAwhtTuT5",
    "outputId": "b4180c6e-471e-4fb0-a54f-de8e6d0c0376"
   },
   "outputs": [
    {
     "data": {
      "text/plain": [
       "Column\n",
       "Respondent            Randomized respondent ID number (not in order ...\n",
       "MainBranch            Which of the following options best describes ...\n",
       "Hobbyist                                        Do you code as a hobby?\n",
       "Age                   What is your age (in years)? If you prefer not...\n",
       "Age1stCode            At what age did you write your first line of c...\n",
       "                                            ...                        \n",
       "WebframeWorkedWith    Which web frameworks have you done extensive d...\n",
       "WelcomeChange         Compared to last year, how welcome do you feel...\n",
       "WorkWeekHrs           On average, how many hours per week do you wor...\n",
       "YearsCode             Including any education, how many years have y...\n",
       "YearsCodePro          NOT including education, how many years have y...\n",
       "Name: QuestionText, Length: 61, dtype: object"
      ]
     },
     "execution_count": 10,
     "metadata": {},
     "output_type": "execute_result"
    }
   ],
   "source": [
    "schema_raw"
   ]
  },
  {
   "cell_type": "markdown",
   "metadata": {
    "id": "5H1rFzTgTuT-"
   },
   "source": [
    "We can now use `schema_raw` to retrieve the full question text for any column in `survey_raw_df`."
   ]
  },
  {
   "cell_type": "code",
   "execution_count": 11,
   "metadata": {
    "colab": {
     "base_uri": "https://localhost:8080/",
     "height": 34
    },
    "executionInfo": {
     "elapsed": 825,
     "status": "ok",
     "timestamp": 1601660720224,
     "user": {
      "displayName": "Jonathan Loscalzo",
      "photoUrl": "https://lh3.googleusercontent.com/a-/AOh14GivbM-9DpHz0-Jl7KXptCwUFRftS0nHXTawHVNVGg=s64",
      "userId": "01585398269152205627"
     },
     "user_tz": 180
    },
    "id": "wZLNV7Xkaqz3",
    "outputId": "1bbae89d-cae0-4836-8d48-7947ca1ee2ba"
   },
   "outputs": [
    {
     "data": {
      "text/plain": [
       "pandas.core.series.Series"
      ]
     },
     "execution_count": 11,
     "metadata": {},
     "output_type": "execute_result"
    }
   ],
   "source": [
    "type(schema_raw)"
   ]
  },
  {
   "cell_type": "code",
   "execution_count": 12,
   "metadata": {
    "colab": {
     "base_uri": "https://localhost:8080/",
     "height": 35
    },
    "executionInfo": {
     "elapsed": 818,
     "status": "ok",
     "timestamp": 1601660678009,
     "user": {
      "displayName": "Jonathan Loscalzo",
      "photoUrl": "https://lh3.googleusercontent.com/a-/AOh14GivbM-9DpHz0-Jl7KXptCwUFRftS0nHXTawHVNVGg=s64",
      "userId": "01585398269152205627"
     },
     "user_tz": 180
    },
    "id": "eEAqLfCwTuT_",
    "outputId": "1e45c7b2-88d9-499b-86dc-7d240336a8ae"
   },
   "outputs": [
    {
     "data": {
      "text/plain": [
       "'NOT including education, how many years have you coded professionally (as a part of your work)?'"
      ]
     },
     "execution_count": 12,
     "metadata": {},
     "output_type": "execute_result"
    }
   ],
   "source": [
    "schema_raw['YearsCodePro']"
   ]
  },
  {
   "cell_type": "markdown",
   "metadata": {
    "id": "fXJSqKfjTuUD"
   },
   "source": [
    "We've now loaded the dataset, and we're ready to move on to the next step of preprocessing & cleaning the data for our analysis."
   ]
  },
  {
   "cell_type": "markdown",
   "metadata": {
    "id": "JGyAWWxjTuUE"
   },
   "source": [
    "### Save and upload your work\n",
    "\n",
    "Whether you're running this Jupyter notebook on an online service like Binder or on your local machine, it's important to save your work from time, so that you can access it later, or share it online. You can upload this notebook to your Jovian.ml account using the `jovian` Python library."
   ]
  },
  {
   "cell_type": "code",
   "execution_count": 13,
   "metadata": {
    "executionInfo": {
     "elapsed": 996,
     "status": "ok",
     "timestamp": 1601660893215,
     "user": {
      "displayName": "Jonathan Loscalzo",
      "photoUrl": "https://lh3.googleusercontent.com/a-/AOh14GivbM-9DpHz0-Jl7KXptCwUFRftS0nHXTawHVNVGg=s64",
      "userId": "01585398269152205627"
     },
     "user_tz": 180
    },
    "id": "4ibCEBjvTuUF"
   },
   "outputs": [],
   "source": [
    "# Select a project name\n",
    "project='09-python-eda-stackoverflow'"
   ]
  },
  {
   "cell_type": "code",
   "execution_count": 14,
   "metadata": {
    "executionInfo": {
     "elapsed": 4222,
     "status": "ok",
     "timestamp": 1601660896679,
     "user": {
      "displayName": "Jonathan Loscalzo",
      "photoUrl": "https://lh3.googleusercontent.com/a-/AOh14GivbM-9DpHz0-Jl7KXptCwUFRftS0nHXTawHVNVGg=s64",
      "userId": "01585398269152205627"
     },
     "user_tz": 180
    },
    "id": "IjY4JOmuTuUN"
   },
   "outputs": [
    {
     "name": "stdout",
     "output_type": "stream",
     "text": [
      "\u001b[33mWARNING: You are using pip version 20.2.2; however, version 20.2.3 is available.\r\n",
      "You should consider upgrading via the '/home/jloscalzo/.pyenv/versions/3.7.9/bin/python3.7 -m pip install --upgrade pip' command.\u001b[0m\r\n"
     ]
    }
   ],
   "source": [
    "# Install the Jovian library\n",
    "!pip install jovian --upgrade --quiet"
   ]
  },
  {
   "cell_type": "code",
   "execution_count": 15,
   "metadata": {
    "executionInfo": {
     "elapsed": 2766,
     "status": "ok",
     "timestamp": 1601660896681,
     "user": {
      "displayName": "Jonathan Loscalzo",
      "photoUrl": "https://lh3.googleusercontent.com/a-/AOh14GivbM-9DpHz0-Jl7KXptCwUFRftS0nHXTawHVNVGg=s64",
      "userId": "01585398269152205627"
     },
     "user_tz": 180
    },
    "id": "p1Gr826ZTuUV"
   },
   "outputs": [],
   "source": [
    "import jovian"
   ]
  },
  {
   "cell_type": "code",
   "execution_count": 16,
   "metadata": {
    "colab": {
     "base_uri": "https://localhost:8080/",
     "height": 124
    },
    "executionInfo": {
     "elapsed": 16877,
     "status": "ok",
     "timestamp": 1601660911913,
     "user": {
      "displayName": "Jonathan Loscalzo",
      "photoUrl": "https://lh3.googleusercontent.com/a-/AOh14GivbM-9DpHz0-Jl7KXptCwUFRftS0nHXTawHVNVGg=s64",
      "userId": "01585398269152205627"
     },
     "user_tz": 180
    },
    "id": "m0mEde3TTuUd",
    "outputId": "723e7ddd-62f6-4c1d-fe96-a5781525c4d6"
   },
   "outputs": [
    {
     "data": {
      "application/javascript": [
       "window.require && require([\"base/js/namespace\"],function(Jupyter){Jupyter.notebook.save_checkpoint()})"
      ],
      "text/plain": [
       "<IPython.core.display.Javascript object>"
      ]
     },
     "metadata": {},
     "output_type": "display_data"
    },
    {
     "name": "stdout",
     "output_type": "stream",
     "text": [
      "[jovian] Attempting to save notebook..\u001b[0m\n",
      "[jovian] Please enter your API key ( from https://jovian.ml/ ):\u001b[0m\n",
      "API KEY: ········\n",
      "[jovian] Updating notebook \"jonathanloscalzo/09-python-eda-stackoverflow\" on https://jovian.ml/\u001b[0m\n",
      "[jovian] Uploading notebook..\u001b[0m\n",
      "[jovian] Capturing environment..\u001b[0m\n"
     ]
    },
    {
     "name": "stderr",
     "output_type": "stream",
     "text": [
      "\u001b[31m[jovian] Error: Failed to read Anaconda environment using command: \"conda env export -n base --no-builds\"\u001b[0m\n"
     ]
    },
    {
     "name": "stdout",
     "output_type": "stream",
     "text": [
      "[jovian] Committed successfully! https://jovian.ml/jonathanloscalzo/09-python-eda-stackoverflow\u001b[0m\n"
     ]
    },
    {
     "data": {
      "text/plain": [
       "'https://jovian.ml/jonathanloscalzo/09-python-eda-stackoverflow'"
      ]
     },
     "execution_count": 16,
     "metadata": {},
     "output_type": "execute_result"
    }
   ],
   "source": [
    "jovian.commit(project=project)"
   ]
  },
  {
   "cell_type": "markdown",
   "metadata": {
    "id": "IOHoBoFbTuUi"
   },
   "source": [
    "`jovian.commit` uploads the notebook to your [Jovian.ml](https://jovian.ml) account, captures the Python environment and creates a shareable link for your notebook as shown above. You can use this link to share your work and let anyone (including you) run your notebooks and reproduce your work."
   ]
  },
  {
   "cell_type": "markdown",
   "metadata": {
    "id": "mO6X2QU4TuUj"
   },
   "source": [
    "## Data Preparation & Cleaning\n",
    "\n",
    "While the survey responses contain a wealth of information, we'll limit our analysis to the following areas:\n",
    "\n",
    "- Demographics of the survey respondents & the global programming community\n",
    "- Distribution of programming skills, experience and preferences\n",
    "- Employment-related information, preferences & opinions\n",
    "\n",
    "Let's select a subset of columns with the relevant data for our analysis."
   ]
  },
  {
   "cell_type": "code",
   "execution_count": 17,
   "metadata": {
    "executionInfo": {
     "elapsed": 697,
     "status": "ok",
     "timestamp": 1601661072644,
     "user": {
      "displayName": "Jonathan Loscalzo",
      "photoUrl": "https://lh3.googleusercontent.com/a-/AOh14GivbM-9DpHz0-Jl7KXptCwUFRftS0nHXTawHVNVGg=s64",
      "userId": "01585398269152205627"
     },
     "user_tz": 180
    },
    "id": "_Q6Sbm2jTuUk"
   },
   "outputs": [],
   "source": [
    "selected_columns = [\n",
    "    # Demographics\n",
    "    'Country',\n",
    "    'Age',\n",
    "    'Gender',\n",
    "    'EdLevel',\n",
    "    'UndergradMajor',\n",
    "    # Programming experience\n",
    "    'Hobbyist',\n",
    "    'Age1stCode',\n",
    "    'YearsCode',\n",
    "    'YearsCodePro',\n",
    "    'LanguageWorkedWith',\n",
    "    'LanguageDesireNextYear',\n",
    "    'NEWLearn',\n",
    "    'NEWStuck',\n",
    "    # Employment\n",
    "    'Employment',\n",
    "    'DevType',\n",
    "    'WorkWeekHrs',\n",
    "    'JobSat',\n",
    "    'JobFactors',\n",
    "    'NEWOvertime',\n",
    "    'NEWEdImpt'\n",
    "]"
   ]
  },
  {
   "cell_type": "code",
   "execution_count": 18,
   "metadata": {
    "colab": {
     "base_uri": "https://localhost:8080/",
     "height": 34
    },
    "executionInfo": {
     "elapsed": 546,
     "status": "ok",
     "timestamp": 1601661073054,
     "user": {
      "displayName": "Jonathan Loscalzo",
      "photoUrl": "https://lh3.googleusercontent.com/a-/AOh14GivbM-9DpHz0-Jl7KXptCwUFRftS0nHXTawHVNVGg=s64",
      "userId": "01585398269152205627"
     },
     "user_tz": 180
    },
    "id": "TtgN49qHTuUr",
    "outputId": "2ac57598-0fd1-4ff5-cc93-e9c148bd3c21"
   },
   "outputs": [
    {
     "data": {
      "text/plain": [
       "20"
      ]
     },
     "execution_count": 18,
     "metadata": {},
     "output_type": "execute_result"
    }
   ],
   "source": [
    "len(selected_columns)"
   ]
  },
  {
   "cell_type": "markdown",
   "metadata": {
    "id": "0x6WL3QeTuUy"
   },
   "source": [
    "Let's extract a copy of the data from these columns into a new data frame `survey_df`, which we can continue to modify further without affecting the original data frame."
   ]
  },
  {
   "cell_type": "code",
   "execution_count": 19,
   "metadata": {
    "executionInfo": {
     "elapsed": 904,
     "status": "ok",
     "timestamp": 1601661134455,
     "user": {
      "displayName": "Jonathan Loscalzo",
      "photoUrl": "https://lh3.googleusercontent.com/a-/AOh14GivbM-9DpHz0-Jl7KXptCwUFRftS0nHXTawHVNVGg=s64",
      "userId": "01585398269152205627"
     },
     "user_tz": 180
    },
    "id": "iO92KhnbTuUz"
   },
   "outputs": [],
   "source": [
    "survey_df = survey_raw_df[selected_columns].copy()"
   ]
  },
  {
   "cell_type": "code",
   "execution_count": 20,
   "metadata": {
    "executionInfo": {
     "elapsed": 721,
     "status": "ok",
     "timestamp": 1601661134457,
     "user": {
      "displayName": "Jonathan Loscalzo",
      "photoUrl": "https://lh3.googleusercontent.com/a-/AOh14GivbM-9DpHz0-Jl7KXptCwUFRftS0nHXTawHVNVGg=s64",
      "userId": "01585398269152205627"
     },
     "user_tz": 180
    },
    "id": "XW8wRZfSTuU4"
   },
   "outputs": [],
   "source": [
    "schema = schema_raw[selected_columns]"
   ]
  },
  {
   "cell_type": "code",
   "execution_count": 21,
   "metadata": {
    "colab": {
     "base_uri": "https://localhost:8080/",
     "height": 407
    },
    "executionInfo": {
     "elapsed": 545,
     "status": "ok",
     "timestamp": 1601661134458,
     "user": {
      "displayName": "Jonathan Loscalzo",
      "photoUrl": "https://lh3.googleusercontent.com/a-/AOh14GivbM-9DpHz0-Jl7KXptCwUFRftS0nHXTawHVNVGg=s64",
      "userId": "01585398269152205627"
     },
     "user_tz": 180
    },
    "id": "ieeeSSe9cM4v",
    "outputId": "6516b2ce-4531-4695-d9b2-2b114f0a520b"
   },
   "outputs": [
    {
     "data": {
      "text/plain": [
       "Column\n",
       "Country                                                  Where do you live?\n",
       "Age                       What is your age (in years)? If you prefer not...\n",
       "Gender                    Which of the following describe you, if any? P...\n",
       "EdLevel                   Which of the following best describes the high...\n",
       "UndergradMajor                        What was your primary field of study?\n",
       "Hobbyist                                            Do you code as a hobby?\n",
       "Age1stCode                At what age did you write your first line of c...\n",
       "YearsCode                 Including any education, how many years have y...\n",
       "YearsCodePro              NOT including education, how many years have y...\n",
       "LanguageWorkedWith        Which programming, scripting, and markup langu...\n",
       "LanguageDesireNextYear    Which programming, scripting, and markup langu...\n",
       "NEWLearn                  How frequently do you learn a new language or ...\n",
       "NEWStuck                  What do you do when you get stuck on a problem...\n",
       "Employment                Which of the following best describes your cur...\n",
       "DevType                   Which of the following describe you? Please se...\n",
       "WorkWeekHrs               On average, how many hours per week do you wor...\n",
       "JobSat                    How satisfied are you with your current job? (...\n",
       "JobFactors                Imagine that you are deciding between two job ...\n",
       "NEWOvertime               How often do you work overtime or beyond the f...\n",
       "NEWEdImpt                 How important is a formal education, such as a...\n",
       "Name: QuestionText, dtype: object"
      ]
     },
     "execution_count": 21,
     "metadata": {},
     "output_type": "execute_result"
    }
   ],
   "source": [
    "schema"
   ]
  },
  {
   "cell_type": "markdown",
   "metadata": {
    "id": "MlkpKDdKTuU8"
   },
   "source": [
    "Let's view some basic information about the data frame."
   ]
  },
  {
   "cell_type": "code",
   "execution_count": 22,
   "metadata": {
    "colab": {
     "base_uri": "https://localhost:8080/",
     "height": 34
    },
    "executionInfo": {
     "elapsed": 966,
     "status": "ok",
     "timestamp": 1601661776466,
     "user": {
      "displayName": "Jonathan Loscalzo",
      "photoUrl": "https://lh3.googleusercontent.com/a-/AOh14GivbM-9DpHz0-Jl7KXptCwUFRftS0nHXTawHVNVGg=s64",
      "userId": "01585398269152205627"
     },
     "user_tz": 180
    },
    "id": "fXPPYTyhTuU-",
    "outputId": "03d268c3-5883-4a58-fb9d-ea2f8645d2f5"
   },
   "outputs": [
    {
     "data": {
      "text/plain": [
       "(64461, 20)"
      ]
     },
     "execution_count": 22,
     "metadata": {},
     "output_type": "execute_result"
    }
   ],
   "source": [
    "survey_df.shape"
   ]
  },
  {
   "cell_type": "code",
   "execution_count": 23,
   "metadata": {
    "colab": {
     "base_uri": "https://localhost:8080/",
     "height": 496
    },
    "executionInfo": {
     "elapsed": 935,
     "status": "ok",
     "timestamp": 1601661782646,
     "user": {
      "displayName": "Jonathan Loscalzo",
      "photoUrl": "https://lh3.googleusercontent.com/a-/AOh14GivbM-9DpHz0-Jl7KXptCwUFRftS0nHXTawHVNVGg=s64",
      "userId": "01585398269152205627"
     },
     "user_tz": 180
    },
    "id": "--QBeTEUTuVJ",
    "outputId": "13210a7e-4139-454c-bcc5-a958b6e528b4"
   },
   "outputs": [
    {
     "name": "stdout",
     "output_type": "stream",
     "text": [
      "<class 'pandas.core.frame.DataFrame'>\n",
      "RangeIndex: 64461 entries, 0 to 64460\n",
      "Data columns (total 20 columns):\n",
      " #   Column                  Non-Null Count  Dtype  \n",
      "---  ------                  --------------  -----  \n",
      " 0   Country                 64072 non-null  object \n",
      " 1   Age                     45446 non-null  float64\n",
      " 2   Gender                  50557 non-null  object \n",
      " 3   EdLevel                 57431 non-null  object \n",
      " 4   UndergradMajor          50995 non-null  object \n",
      " 5   Hobbyist                64416 non-null  object \n",
      " 6   Age1stCode              57900 non-null  object \n",
      " 7   YearsCode               57684 non-null  object \n",
      " 8   YearsCodePro            46349 non-null  object \n",
      " 9   LanguageWorkedWith      57378 non-null  object \n",
      " 10  LanguageDesireNextYear  54113 non-null  object \n",
      " 11  NEWLearn                56156 non-null  object \n",
      " 12  NEWStuck                54983 non-null  object \n",
      " 13  Employment              63854 non-null  object \n",
      " 14  DevType                 49370 non-null  object \n",
      " 15  WorkWeekHrs             41151 non-null  float64\n",
      " 16  JobSat                  45194 non-null  object \n",
      " 17  JobFactors              49349 non-null  object \n",
      " 18  NEWOvertime             43231 non-null  object \n",
      " 19  NEWEdImpt               48465 non-null  object \n",
      "dtypes: float64(2), object(18)\n",
      "memory usage: 9.8+ MB\n"
     ]
    }
   ],
   "source": [
    "survey_df.info()"
   ]
  },
  {
   "cell_type": "markdown",
   "metadata": {
    "id": "78lCFbT3TuVP"
   },
   "source": [
    "Most columns have the data type `object`, either because they contain values of different types, or they contain empty values, which are represented using `NaN`. It appears that every column contains some empty values, since the Non-Null count for every column is lower than the total number of rows (64461). We'll need to deal with empty values and manually adjust the data type for each column on a case-by-case basis. \n",
    "\n",
    "Only two of the columns were detected as numeric columns (`Age` and `WorkWeekHrs`), even though there are a few other columns which have mostly numeric values. To make our analysis easier, let's convert some other columns into numeric data types, while ignoring any non-numeric value (they will get converted to NaNs)"
   ]
  },
  {
   "cell_type": "code",
   "execution_count": 24,
   "metadata": {
    "id": "_gT9PxrrTuVQ"
   },
   "outputs": [],
   "source": [
    "survey_df['Age1stCode'] = pd.to_numeric(survey_df.Age1stCode, errors='coerce')\n",
    "survey_df['YearsCode'] = pd.to_numeric(survey_df.YearsCode, errors='coerce')\n",
    "survey_df['YearsCodePro'] = pd.to_numeric(survey_df.YearsCodePro, errors='coerce')"
   ]
  },
  {
   "cell_type": "markdown",
   "metadata": {
    "id": "rDJiKFtZTuVX"
   },
   "source": [
    "Let's now view some basic statistics about the the numeric columns."
   ]
  },
  {
   "cell_type": "code",
   "execution_count": 25,
   "metadata": {
    "id": "zV7OEAJ2TuVY",
    "outputId": "9717da6b-fd1e-40a7-8b72-5c1dc4174883"
   },
   "outputs": [
    {
     "data": {
      "text/html": [
       "<div>\n",
       "<style scoped>\n",
       "    .dataframe tbody tr th:only-of-type {\n",
       "        vertical-align: middle;\n",
       "    }\n",
       "\n",
       "    .dataframe tbody tr th {\n",
       "        vertical-align: top;\n",
       "    }\n",
       "\n",
       "    .dataframe thead th {\n",
       "        text-align: right;\n",
       "    }\n",
       "</style>\n",
       "<table border=\"1\" class=\"dataframe\">\n",
       "  <thead>\n",
       "    <tr style=\"text-align: right;\">\n",
       "      <th></th>\n",
       "      <th>Age</th>\n",
       "      <th>Age1stCode</th>\n",
       "      <th>YearsCode</th>\n",
       "      <th>YearsCodePro</th>\n",
       "      <th>WorkWeekHrs</th>\n",
       "    </tr>\n",
       "  </thead>\n",
       "  <tbody>\n",
       "    <tr>\n",
       "      <th>count</th>\n",
       "      <td>45446.000000</td>\n",
       "      <td>57473.000000</td>\n",
       "      <td>56784.000000</td>\n",
       "      <td>44133.000000</td>\n",
       "      <td>41151.000000</td>\n",
       "    </tr>\n",
       "    <tr>\n",
       "      <th>mean</th>\n",
       "      <td>30.834111</td>\n",
       "      <td>15.476572</td>\n",
       "      <td>12.782051</td>\n",
       "      <td>8.869667</td>\n",
       "      <td>40.782174</td>\n",
       "    </tr>\n",
       "    <tr>\n",
       "      <th>std</th>\n",
       "      <td>9.585392</td>\n",
       "      <td>5.114081</td>\n",
       "      <td>9.490657</td>\n",
       "      <td>7.759961</td>\n",
       "      <td>17.816383</td>\n",
       "    </tr>\n",
       "    <tr>\n",
       "      <th>min</th>\n",
       "      <td>1.000000</td>\n",
       "      <td>5.000000</td>\n",
       "      <td>1.000000</td>\n",
       "      <td>1.000000</td>\n",
       "      <td>1.000000</td>\n",
       "    </tr>\n",
       "    <tr>\n",
       "      <th>25%</th>\n",
       "      <td>24.000000</td>\n",
       "      <td>12.000000</td>\n",
       "      <td>6.000000</td>\n",
       "      <td>3.000000</td>\n",
       "      <td>40.000000</td>\n",
       "    </tr>\n",
       "    <tr>\n",
       "      <th>50%</th>\n",
       "      <td>29.000000</td>\n",
       "      <td>15.000000</td>\n",
       "      <td>10.000000</td>\n",
       "      <td>6.000000</td>\n",
       "      <td>40.000000</td>\n",
       "    </tr>\n",
       "    <tr>\n",
       "      <th>75%</th>\n",
       "      <td>35.000000</td>\n",
       "      <td>18.000000</td>\n",
       "      <td>17.000000</td>\n",
       "      <td>12.000000</td>\n",
       "      <td>44.000000</td>\n",
       "    </tr>\n",
       "    <tr>\n",
       "      <th>max</th>\n",
       "      <td>279.000000</td>\n",
       "      <td>85.000000</td>\n",
       "      <td>50.000000</td>\n",
       "      <td>50.000000</td>\n",
       "      <td>475.000000</td>\n",
       "    </tr>\n",
       "  </tbody>\n",
       "</table>\n",
       "</div>"
      ],
      "text/plain": [
       "                Age    Age1stCode     YearsCode  YearsCodePro   WorkWeekHrs\n",
       "count  45446.000000  57473.000000  56784.000000  44133.000000  41151.000000\n",
       "mean      30.834111     15.476572     12.782051      8.869667     40.782174\n",
       "std        9.585392      5.114081      9.490657      7.759961     17.816383\n",
       "min        1.000000      5.000000      1.000000      1.000000      1.000000\n",
       "25%       24.000000     12.000000      6.000000      3.000000     40.000000\n",
       "50%       29.000000     15.000000     10.000000      6.000000     40.000000\n",
       "75%       35.000000     18.000000     17.000000     12.000000     44.000000\n",
       "max      279.000000     85.000000     50.000000     50.000000    475.000000"
      ]
     },
     "execution_count": 25,
     "metadata": {},
     "output_type": "execute_result"
    }
   ],
   "source": [
    "survey_df.describe()"
   ]
  },
  {
   "cell_type": "markdown",
   "metadata": {
    "id": "RQW81KLCTuVd"
   },
   "source": [
    "There seems to be a problem with the age column, as the minimum value is 1 and max value is 279. This is a common issues with surveys: responses may contain invalid values due to accidental or intentional errors while responding. A simple fix would be ignore the rows where the value in the age column is higher than 100 years or lower than 10 years as invalid survey responses. This can be done using the `.drop` method, [as explained here](https://www.geeksforgeeks.org/drop-rows-from-the-dataframe-based-on-certain-condition-applied-on-a-column/)."
   ]
  },
  {
   "cell_type": "code",
   "execution_count": 26,
   "metadata": {
    "executionInfo": {
     "elapsed": 855,
     "status": "ok",
     "timestamp": 1601662054834,
     "user": {
      "displayName": "Jonathan Loscalzo",
      "photoUrl": "https://lh3.googleusercontent.com/a-/AOh14GivbM-9DpHz0-Jl7KXptCwUFRftS0nHXTawHVNVGg=s64",
      "userId": "01585398269152205627"
     },
     "user_tz": 180
    },
    "id": "O1OLga1gTuVd"
   },
   "outputs": [],
   "source": [
    "survey_df.drop(survey_df[survey_df.Age < 10].index, inplace=True)\n",
    "survey_df.drop(survey_df[survey_df.Age > 100].index, inplace=True)"
   ]
  },
  {
   "cell_type": "markdown",
   "metadata": {
    "id": "LZWOB4n6TuVh"
   },
   "source": [
    "The same hold true for `WorkWeekHrs`. Let's ignore entries where the value for the column is higher than 140 hours. (~20 hours per day)."
   ]
  },
  {
   "cell_type": "code",
   "execution_count": 27,
   "metadata": {
    "executionInfo": {
     "elapsed": 554,
     "status": "ok",
     "timestamp": 1601662055297,
     "user": {
      "displayName": "Jonathan Loscalzo",
      "photoUrl": "https://lh3.googleusercontent.com/a-/AOh14GivbM-9DpHz0-Jl7KXptCwUFRftS0nHXTawHVNVGg=s64",
      "userId": "01585398269152205627"
     },
     "user_tz": 180
    },
    "id": "Axa4UlmpTuVi"
   },
   "outputs": [],
   "source": [
    "survey_df.drop(survey_df[survey_df.WorkWeekHrs > 140].index, inplace=True)"
   ]
  },
  {
   "cell_type": "markdown",
   "metadata": {
    "id": "gnjMUus5TuVl"
   },
   "source": [
    "The gender column also allows picking multiple options, but to simplify our analysis, we'll remove values containing more than option.\n"
   ]
  },
  {
   "cell_type": "code",
   "execution_count": 28,
   "metadata": {
    "colab": {
     "base_uri": "https://localhost:8080/",
     "height": 123
    },
    "executionInfo": {
     "elapsed": 600,
     "status": "ok",
     "timestamp": 1601662104494,
     "user": {
      "displayName": "Jonathan Loscalzo",
      "photoUrl": "https://lh3.googleusercontent.com/a-/AOh14GivbM-9DpHz0-Jl7KXptCwUFRftS0nHXTawHVNVGg=s64",
      "userId": "01585398269152205627"
     },
     "user_tz": 180
    },
    "id": "XiAXatCOf-l_",
    "outputId": "f18891f9-71ea-4388-95af-61f97aa55fa8"
   },
   "outputs": [
    {
     "data": {
      "text/plain": [
       "array(['Man', nan, 'Woman',\n",
       "       'Man;Non-binary, genderqueer, or gender non-conforming',\n",
       "       'Non-binary, genderqueer, or gender non-conforming',\n",
       "       'Woman;Non-binary, genderqueer, or gender non-conforming',\n",
       "       'Woman;Man;Non-binary, genderqueer, or gender non-conforming',\n",
       "       'Woman;Man'], dtype=object)"
      ]
     },
     "execution_count": 28,
     "metadata": {},
     "output_type": "execute_result"
    }
   ],
   "source": [
    "survey_df['Gender'].unique()"
   ]
  },
  {
   "cell_type": "code",
   "execution_count": 29,
   "metadata": {
    "colab": {
     "base_uri": "https://localhost:8080/",
     "height": 158
    },
    "executionInfo": {
     "elapsed": 877,
     "status": "ok",
     "timestamp": 1601662064433,
     "user": {
      "displayName": "Jonathan Loscalzo",
      "photoUrl": "https://lh3.googleusercontent.com/a-/AOh14GivbM-9DpHz0-Jl7KXptCwUFRftS0nHXTawHVNVGg=s64",
      "userId": "01585398269152205627"
     },
     "user_tz": 180
    },
    "id": "BSNnfuL5TuVm",
    "outputId": "9aea6db6-e614-4b2f-bc51-12b899fd96c3"
   },
   "outputs": [
    {
     "data": {
      "text/plain": [
       "Man                                                            45895\n",
       "Woman                                                           3835\n",
       "Non-binary, genderqueer, or gender non-conforming                385\n",
       "Man;Non-binary, genderqueer, or gender non-conforming            121\n",
       "Woman;Non-binary, genderqueer, or gender non-conforming           92\n",
       "Woman;Man                                                         73\n",
       "Woman;Man;Non-binary, genderqueer, or gender non-conforming       25\n",
       "Name: Gender, dtype: int64"
      ]
     },
     "execution_count": 29,
     "metadata": {},
     "output_type": "execute_result"
    }
   ],
   "source": [
    "survey_df['Gender'].value_counts()"
   ]
  },
  {
   "cell_type": "code",
   "execution_count": 30,
   "metadata": {
    "executionInfo": {
     "elapsed": 840,
     "status": "ok",
     "timestamp": 1601662123006,
     "user": {
      "displayName": "Jonathan Loscalzo",
      "photoUrl": "https://lh3.googleusercontent.com/a-/AOh14GivbM-9DpHz0-Jl7KXptCwUFRftS0nHXTawHVNVGg=s64",
      "userId": "01585398269152205627"
     },
     "user_tz": 180
    },
    "id": "-tr5y3KSTuVs"
   },
   "outputs": [],
   "source": [
    "import numpy as np"
   ]
  },
  {
   "cell_type": "code",
   "execution_count": 31,
   "metadata": {
    "colab": {
     "base_uri": "https://localhost:8080/",
     "height": 87
    },
    "executionInfo": {
     "elapsed": 771,
     "status": "ok",
     "timestamp": 1601662247918,
     "user": {
      "displayName": "Jonathan Loscalzo",
      "photoUrl": "https://lh3.googleusercontent.com/a-/AOh14GivbM-9DpHz0-Jl7KXptCwUFRftS0nHXTawHVNVGg=s64",
      "userId": "01585398269152205627"
     },
     "user_tz": 180
    },
    "id": "i1NPnVkKggGh",
    "outputId": "36bce59e-8a52-485d-a9b9-21aff3b227dc"
   },
   "outputs": [
    {
     "data": {
      "text/plain": [
       "array([nan, 'Man;Non-binary, genderqueer, or gender non-conforming',\n",
       "       'Woman;Non-binary, genderqueer, or gender non-conforming',\n",
       "       'Woman;Man;Non-binary, genderqueer, or gender non-conforming',\n",
       "       'Woman;Man'], dtype=object)"
      ]
     },
     "execution_count": 31,
     "metadata": {},
     "output_type": "execute_result"
    }
   ],
   "source": [
    "survey_df.where((survey_df.Gender.str.contains(';', na=False)), np.nan).Gender.unique()"
   ]
  },
  {
   "cell_type": "code",
   "execution_count": 32,
   "metadata": {
    "executionInfo": {
     "elapsed": 808,
     "status": "ok",
     "timestamp": 1601662505475,
     "user": {
      "displayName": "Jonathan Loscalzo",
      "photoUrl": "https://lh3.googleusercontent.com/a-/AOh14GivbM-9DpHz0-Jl7KXptCwUFRftS0nHXTawHVNVGg=s64",
      "userId": "01585398269152205627"
     },
     "user_tz": 180
    },
    "id": "UPW-nqNxTuV3"
   },
   "outputs": [],
   "source": [
    "# survey_df.where(~(survey_df.Gender.str.contains(';', na=False)), np.nan, inplace=True)\n",
    "survey_df.mask(survey_df.Gender.str.contains(';', na=False), np.nan, inplace=True)"
   ]
  },
  {
   "cell_type": "markdown",
   "metadata": {
    "id": "xKtLxXXDTuV7"
   },
   "source": [
    "We've now cleaned up and prepared the dataset for analysis. Let's take a look at sample of rows from the data frame."
   ]
  },
  {
   "cell_type": "code",
   "execution_count": 33,
   "metadata": {
    "colab": {
     "base_uri": "https://localhost:8080/",
     "height": 1000
    },
    "executionInfo": {
     "elapsed": 919,
     "status": "ok",
     "timestamp": 1601662508875,
     "user": {
      "displayName": "Jonathan Loscalzo",
      "photoUrl": "https://lh3.googleusercontent.com/a-/AOh14GivbM-9DpHz0-Jl7KXptCwUFRftS0nHXTawHVNVGg=s64",
      "userId": "01585398269152205627"
     },
     "user_tz": 180
    },
    "id": "ncKohAIFTuV8",
    "outputId": "79620a88-ba42-4ff9-9466-07ed6a243561"
   },
   "outputs": [
    {
     "data": {
      "text/html": [
       "<div>\n",
       "<style scoped>\n",
       "    .dataframe tbody tr th:only-of-type {\n",
       "        vertical-align: middle;\n",
       "    }\n",
       "\n",
       "    .dataframe tbody tr th {\n",
       "        vertical-align: top;\n",
       "    }\n",
       "\n",
       "    .dataframe thead th {\n",
       "        text-align: right;\n",
       "    }\n",
       "</style>\n",
       "<table border=\"1\" class=\"dataframe\">\n",
       "  <thead>\n",
       "    <tr style=\"text-align: right;\">\n",
       "      <th></th>\n",
       "      <th>Country</th>\n",
       "      <th>Age</th>\n",
       "      <th>Gender</th>\n",
       "      <th>EdLevel</th>\n",
       "      <th>UndergradMajor</th>\n",
       "      <th>Hobbyist</th>\n",
       "      <th>Age1stCode</th>\n",
       "      <th>YearsCode</th>\n",
       "      <th>YearsCodePro</th>\n",
       "      <th>LanguageWorkedWith</th>\n",
       "      <th>LanguageDesireNextYear</th>\n",
       "      <th>NEWLearn</th>\n",
       "      <th>NEWStuck</th>\n",
       "      <th>Employment</th>\n",
       "      <th>DevType</th>\n",
       "      <th>WorkWeekHrs</th>\n",
       "      <th>JobSat</th>\n",
       "      <th>JobFactors</th>\n",
       "      <th>NEWOvertime</th>\n",
       "      <th>NEWEdImpt</th>\n",
       "    </tr>\n",
       "  </thead>\n",
       "  <tbody>\n",
       "    <tr>\n",
       "      <th>25482</th>\n",
       "      <td>United States</td>\n",
       "      <td>NaN</td>\n",
       "      <td>Man</td>\n",
       "      <td>Bachelor’s degree (B.A., B.S., B.Eng., etc.)</td>\n",
       "      <td>Computer science, computer engineering, or sof...</td>\n",
       "      <td>No</td>\n",
       "      <td>19.0</td>\n",
       "      <td>10.0</td>\n",
       "      <td>6.0</td>\n",
       "      <td>C#;HTML/CSS;JavaScript;SQL</td>\n",
       "      <td>NaN</td>\n",
       "      <td>Every few months</td>\n",
       "      <td>Call a coworker or friend;Visit Stack Overflow...</td>\n",
       "      <td>Employed full-time</td>\n",
       "      <td>Developer, back-end;Developer, front-end;Devel...</td>\n",
       "      <td>40.0</td>\n",
       "      <td>Slightly satisfied</td>\n",
       "      <td>Languages, frameworks, and other technologies ...</td>\n",
       "      <td>Sometimes: 1-2 days per month but less than we...</td>\n",
       "      <td>Fairly important</td>\n",
       "    </tr>\n",
       "    <tr>\n",
       "      <th>20735</th>\n",
       "      <td>Kenya</td>\n",
       "      <td>23.0</td>\n",
       "      <td>Man</td>\n",
       "      <td>Bachelor’s degree (B.A., B.S., B.Eng., etc.)</td>\n",
       "      <td>Information systems, information technology, o...</td>\n",
       "      <td>Yes</td>\n",
       "      <td>20.0</td>\n",
       "      <td>3.0</td>\n",
       "      <td>NaN</td>\n",
       "      <td>HTML/CSS;JavaScript;PHP;SQL</td>\n",
       "      <td>Python</td>\n",
       "      <td>Every few months</td>\n",
       "      <td>Call a coworker or friend;Visit Stack Overflow...</td>\n",
       "      <td>Not employed, but looking for work</td>\n",
       "      <td>Database administrator;Developer, back-end;Dev...</td>\n",
       "      <td>NaN</td>\n",
       "      <td>NaN</td>\n",
       "      <td>Languages, frameworks, and other technologies ...</td>\n",
       "      <td>NaN</td>\n",
       "      <td>NaN</td>\n",
       "    </tr>\n",
       "    <tr>\n",
       "      <th>48180</th>\n",
       "      <td>Netherlands</td>\n",
       "      <td>37.0</td>\n",
       "      <td>Man</td>\n",
       "      <td>Master’s degree (M.A., M.S., M.Eng., MBA, etc.)</td>\n",
       "      <td>Computer science, computer engineering, or sof...</td>\n",
       "      <td>Yes</td>\n",
       "      <td>10.0</td>\n",
       "      <td>15.0</td>\n",
       "      <td>7.0</td>\n",
       "      <td>HTML/CSS;Java;JavaScript;SQL</td>\n",
       "      <td>Dart;HTML/CSS;Java;JavaScript;SQL</td>\n",
       "      <td>NaN</td>\n",
       "      <td>Meditate;Visit Stack Overflow;Do other work an...</td>\n",
       "      <td>Employed full-time</td>\n",
       "      <td>Database administrator;Developer, back-end;Dev...</td>\n",
       "      <td>40.0</td>\n",
       "      <td>Slightly satisfied</td>\n",
       "      <td>Specific department or team I’d be working on;...</td>\n",
       "      <td>Rarely: 1-2 days per year or less</td>\n",
       "      <td>Somewhat important</td>\n",
       "    </tr>\n",
       "    <tr>\n",
       "      <th>13460</th>\n",
       "      <td>Bulgaria</td>\n",
       "      <td>36.0</td>\n",
       "      <td>Man</td>\n",
       "      <td>Some college/university study without earning ...</td>\n",
       "      <td>A natural science (such as biology, chemistry,...</td>\n",
       "      <td>Yes</td>\n",
       "      <td>9.0</td>\n",
       "      <td>10.0</td>\n",
       "      <td>10.0</td>\n",
       "      <td>C#;HTML/CSS;JavaScript;SQL</td>\n",
       "      <td>Bash/Shell/PowerShell;C#;HTML/CSS;JavaScript;SQL</td>\n",
       "      <td>Once a year</td>\n",
       "      <td>Call a coworker or friend;Visit Stack Overflow...</td>\n",
       "      <td>Employed full-time</td>\n",
       "      <td>Developer, front-end;Developer, full-stack</td>\n",
       "      <td>40.0</td>\n",
       "      <td>Slightly dissatisfied</td>\n",
       "      <td>Languages, frameworks, and other technologies ...</td>\n",
       "      <td>Never</td>\n",
       "      <td>Somewhat important</td>\n",
       "    </tr>\n",
       "    <tr>\n",
       "      <th>63741</th>\n",
       "      <td>India</td>\n",
       "      <td>NaN</td>\n",
       "      <td>NaN</td>\n",
       "      <td>Bachelor’s degree (B.A., B.S., B.Eng., etc.)</td>\n",
       "      <td>Computer science, computer engineering, or sof...</td>\n",
       "      <td>Yes</td>\n",
       "      <td>22.0</td>\n",
       "      <td>3.0</td>\n",
       "      <td>2.0</td>\n",
       "      <td>Haskell;HTML/CSS</td>\n",
       "      <td>Haskell;HTML/CSS;JavaScript;Kotlin;Objective-C...</td>\n",
       "      <td>Every few months</td>\n",
       "      <td>Visit Stack Overflow</td>\n",
       "      <td>Employed full-time</td>\n",
       "      <td>Developer, full-stack;Developer, mobile</td>\n",
       "      <td>42.0</td>\n",
       "      <td>Neither satisfied nor dissatisfied</td>\n",
       "      <td>NaN</td>\n",
       "      <td>Occasionally: 1-2 days per quarter but less th...</td>\n",
       "      <td>Very important</td>\n",
       "    </tr>\n",
       "    <tr>\n",
       "      <th>39635</th>\n",
       "      <td>United States</td>\n",
       "      <td>NaN</td>\n",
       "      <td>NaN</td>\n",
       "      <td>Secondary school (e.g. American high school, G...</td>\n",
       "      <td>NaN</td>\n",
       "      <td>No</td>\n",
       "      <td>12.0</td>\n",
       "      <td>6.0</td>\n",
       "      <td>NaN</td>\n",
       "      <td>NaN</td>\n",
       "      <td>NaN</td>\n",
       "      <td>Once every few years</td>\n",
       "      <td>NaN</td>\n",
       "      <td>Student</td>\n",
       "      <td>NaN</td>\n",
       "      <td>NaN</td>\n",
       "      <td>NaN</td>\n",
       "      <td>Languages, frameworks, and other technologies ...</td>\n",
       "      <td>NaN</td>\n",
       "      <td>NaN</td>\n",
       "    </tr>\n",
       "    <tr>\n",
       "      <th>49863</th>\n",
       "      <td>France</td>\n",
       "      <td>28.0</td>\n",
       "      <td>Man</td>\n",
       "      <td>Some college/university study without earning ...</td>\n",
       "      <td>Fine arts or performing arts (such as graphic ...</td>\n",
       "      <td>Yes</td>\n",
       "      <td>7.0</td>\n",
       "      <td>21.0</td>\n",
       "      <td>10.0</td>\n",
       "      <td>Go;Ruby;SQL</td>\n",
       "      <td>Go;Rust;SQL</td>\n",
       "      <td>Every few months</td>\n",
       "      <td>Go for a walk or other physical activity;Do ot...</td>\n",
       "      <td>Employed full-time</td>\n",
       "      <td>Developer, back-end;DevOps specialist;Engineer...</td>\n",
       "      <td>40.0</td>\n",
       "      <td>Neither satisfied nor dissatisfied</td>\n",
       "      <td>Languages, frameworks, and other technologies ...</td>\n",
       "      <td>Occasionally: 1-2 days per quarter but less th...</td>\n",
       "      <td>Not at all important/not necessary</td>\n",
       "    </tr>\n",
       "    <tr>\n",
       "      <th>57447</th>\n",
       "      <td>Bangladesh</td>\n",
       "      <td>NaN</td>\n",
       "      <td>Man</td>\n",
       "      <td>Bachelor’s degree (B.A., B.S., B.Eng., etc.)</td>\n",
       "      <td>Computer science, computer engineering, or sof...</td>\n",
       "      <td>Yes</td>\n",
       "      <td>22.0</td>\n",
       "      <td>5.0</td>\n",
       "      <td>NaN</td>\n",
       "      <td>Dart</td>\n",
       "      <td>Dart</td>\n",
       "      <td>NaN</td>\n",
       "      <td>Watch help / tutorial videos</td>\n",
       "      <td>Employed full-time</td>\n",
       "      <td>Developer, full-stack;Developer, game or graph...</td>\n",
       "      <td>NaN</td>\n",
       "      <td>Very dissatisfied</td>\n",
       "      <td>NaN</td>\n",
       "      <td>Occasionally: 1-2 days per quarter but less th...</td>\n",
       "      <td>Not at all important/not necessary</td>\n",
       "    </tr>\n",
       "    <tr>\n",
       "      <th>37953</th>\n",
       "      <td>Lithuania</td>\n",
       "      <td>NaN</td>\n",
       "      <td>NaN</td>\n",
       "      <td>Bachelor’s degree (B.A., B.S., B.Eng., etc.)</td>\n",
       "      <td>Computer science, computer engineering, or sof...</td>\n",
       "      <td>Yes</td>\n",
       "      <td>19.0</td>\n",
       "      <td>5.0</td>\n",
       "      <td>1.0</td>\n",
       "      <td>Bash/Shell/PowerShell;C;C#;C++;HTML/CSS;JavaSc...</td>\n",
       "      <td>Bash/Shell/PowerShell;C#;HTML/CSS;JavaScript;P...</td>\n",
       "      <td>Once a year</td>\n",
       "      <td>NaN</td>\n",
       "      <td>Employed full-time</td>\n",
       "      <td>Developer, back-end;Developer, desktop or ente...</td>\n",
       "      <td>30.0</td>\n",
       "      <td>Slightly dissatisfied</td>\n",
       "      <td>Remote work options;How widely used or impactf...</td>\n",
       "      <td>Never</td>\n",
       "      <td>Somewhat important</td>\n",
       "    </tr>\n",
       "    <tr>\n",
       "      <th>48610</th>\n",
       "      <td>United States</td>\n",
       "      <td>55.0</td>\n",
       "      <td>Man</td>\n",
       "      <td>Some college/university study without earning ...</td>\n",
       "      <td>Computer science, computer engineering, or sof...</td>\n",
       "      <td>Yes</td>\n",
       "      <td>15.0</td>\n",
       "      <td>40.0</td>\n",
       "      <td>32.0</td>\n",
       "      <td>Bash/Shell/PowerShell</td>\n",
       "      <td>Bash/Shell/PowerShell</td>\n",
       "      <td>Once every few years</td>\n",
       "      <td>Visit Stack Overflow;Watch help / tutorial vid...</td>\n",
       "      <td>Independent contractor, freelancer, or self-em...</td>\n",
       "      <td>Data or business analyst;Database administrato...</td>\n",
       "      <td>50.0</td>\n",
       "      <td>Very satisfied</td>\n",
       "      <td>Flex time or a flexible schedule;Office enviro...</td>\n",
       "      <td>Often: 1-2 days per week or more</td>\n",
       "      <td>Somewhat important</td>\n",
       "    </tr>\n",
       "  </tbody>\n",
       "</table>\n",
       "</div>"
      ],
      "text/plain": [
       "             Country   Age Gender  \\\n",
       "25482  United States   NaN    Man   \n",
       "20735          Kenya  23.0    Man   \n",
       "48180    Netherlands  37.0    Man   \n",
       "13460       Bulgaria  36.0    Man   \n",
       "63741          India   NaN    NaN   \n",
       "39635  United States   NaN    NaN   \n",
       "49863         France  28.0    Man   \n",
       "57447     Bangladesh   NaN    Man   \n",
       "37953      Lithuania   NaN    NaN   \n",
       "48610  United States  55.0    Man   \n",
       "\n",
       "                                                 EdLevel  \\\n",
       "25482       Bachelor’s degree (B.A., B.S., B.Eng., etc.)   \n",
       "20735       Bachelor’s degree (B.A., B.S., B.Eng., etc.)   \n",
       "48180    Master’s degree (M.A., M.S., M.Eng., MBA, etc.)   \n",
       "13460  Some college/university study without earning ...   \n",
       "63741       Bachelor’s degree (B.A., B.S., B.Eng., etc.)   \n",
       "39635  Secondary school (e.g. American high school, G...   \n",
       "49863  Some college/university study without earning ...   \n",
       "57447       Bachelor’s degree (B.A., B.S., B.Eng., etc.)   \n",
       "37953       Bachelor’s degree (B.A., B.S., B.Eng., etc.)   \n",
       "48610  Some college/university study without earning ...   \n",
       "\n",
       "                                          UndergradMajor Hobbyist  Age1stCode  \\\n",
       "25482  Computer science, computer engineering, or sof...       No        19.0   \n",
       "20735  Information systems, information technology, o...      Yes        20.0   \n",
       "48180  Computer science, computer engineering, or sof...      Yes        10.0   \n",
       "13460  A natural science (such as biology, chemistry,...      Yes         9.0   \n",
       "63741  Computer science, computer engineering, or sof...      Yes        22.0   \n",
       "39635                                                NaN       No        12.0   \n",
       "49863  Fine arts or performing arts (such as graphic ...      Yes         7.0   \n",
       "57447  Computer science, computer engineering, or sof...      Yes        22.0   \n",
       "37953  Computer science, computer engineering, or sof...      Yes        19.0   \n",
       "48610  Computer science, computer engineering, or sof...      Yes        15.0   \n",
       "\n",
       "       YearsCode  YearsCodePro  \\\n",
       "25482       10.0           6.0   \n",
       "20735        3.0           NaN   \n",
       "48180       15.0           7.0   \n",
       "13460       10.0          10.0   \n",
       "63741        3.0           2.0   \n",
       "39635        6.0           NaN   \n",
       "49863       21.0          10.0   \n",
       "57447        5.0           NaN   \n",
       "37953        5.0           1.0   \n",
       "48610       40.0          32.0   \n",
       "\n",
       "                                      LanguageWorkedWith  \\\n",
       "25482                         C#;HTML/CSS;JavaScript;SQL   \n",
       "20735                        HTML/CSS;JavaScript;PHP;SQL   \n",
       "48180                       HTML/CSS;Java;JavaScript;SQL   \n",
       "13460                         C#;HTML/CSS;JavaScript;SQL   \n",
       "63741                                   Haskell;HTML/CSS   \n",
       "39635                                                NaN   \n",
       "49863                                        Go;Ruby;SQL   \n",
       "57447                                               Dart   \n",
       "37953  Bash/Shell/PowerShell;C;C#;C++;HTML/CSS;JavaSc...   \n",
       "48610                              Bash/Shell/PowerShell   \n",
       "\n",
       "                                  LanguageDesireNextYear  \\\n",
       "25482                                                NaN   \n",
       "20735                                             Python   \n",
       "48180                  Dart;HTML/CSS;Java;JavaScript;SQL   \n",
       "13460   Bash/Shell/PowerShell;C#;HTML/CSS;JavaScript;SQL   \n",
       "63741  Haskell;HTML/CSS;JavaScript;Kotlin;Objective-C...   \n",
       "39635                                                NaN   \n",
       "49863                                        Go;Rust;SQL   \n",
       "57447                                               Dart   \n",
       "37953  Bash/Shell/PowerShell;C#;HTML/CSS;JavaScript;P...   \n",
       "48610                              Bash/Shell/PowerShell   \n",
       "\n",
       "                   NEWLearn  \\\n",
       "25482      Every few months   \n",
       "20735      Every few months   \n",
       "48180                   NaN   \n",
       "13460           Once a year   \n",
       "63741      Every few months   \n",
       "39635  Once every few years   \n",
       "49863      Every few months   \n",
       "57447                   NaN   \n",
       "37953           Once a year   \n",
       "48610  Once every few years   \n",
       "\n",
       "                                                NEWStuck  \\\n",
       "25482  Call a coworker or friend;Visit Stack Overflow...   \n",
       "20735  Call a coworker or friend;Visit Stack Overflow...   \n",
       "48180  Meditate;Visit Stack Overflow;Do other work an...   \n",
       "13460  Call a coworker or friend;Visit Stack Overflow...   \n",
       "63741                               Visit Stack Overflow   \n",
       "39635                                                NaN   \n",
       "49863  Go for a walk or other physical activity;Do ot...   \n",
       "57447                       Watch help / tutorial videos   \n",
       "37953                                                NaN   \n",
       "48610  Visit Stack Overflow;Watch help / tutorial vid...   \n",
       "\n",
       "                                              Employment  \\\n",
       "25482                                 Employed full-time   \n",
       "20735                 Not employed, but looking for work   \n",
       "48180                                 Employed full-time   \n",
       "13460                                 Employed full-time   \n",
       "63741                                 Employed full-time   \n",
       "39635                                            Student   \n",
       "49863                                 Employed full-time   \n",
       "57447                                 Employed full-time   \n",
       "37953                                 Employed full-time   \n",
       "48610  Independent contractor, freelancer, or self-em...   \n",
       "\n",
       "                                                 DevType  WorkWeekHrs  \\\n",
       "25482  Developer, back-end;Developer, front-end;Devel...         40.0   \n",
       "20735  Database administrator;Developer, back-end;Dev...          NaN   \n",
       "48180  Database administrator;Developer, back-end;Dev...         40.0   \n",
       "13460         Developer, front-end;Developer, full-stack         40.0   \n",
       "63741            Developer, full-stack;Developer, mobile         42.0   \n",
       "39635                                                NaN          NaN   \n",
       "49863  Developer, back-end;DevOps specialist;Engineer...         40.0   \n",
       "57447  Developer, full-stack;Developer, game or graph...          NaN   \n",
       "37953  Developer, back-end;Developer, desktop or ente...         30.0   \n",
       "48610  Data or business analyst;Database administrato...         50.0   \n",
       "\n",
       "                                   JobSat  \\\n",
       "25482                  Slightly satisfied   \n",
       "20735                                 NaN   \n",
       "48180                  Slightly satisfied   \n",
       "13460               Slightly dissatisfied   \n",
       "63741  Neither satisfied nor dissatisfied   \n",
       "39635                                 NaN   \n",
       "49863  Neither satisfied nor dissatisfied   \n",
       "57447                   Very dissatisfied   \n",
       "37953               Slightly dissatisfied   \n",
       "48610                      Very satisfied   \n",
       "\n",
       "                                              JobFactors  \\\n",
       "25482  Languages, frameworks, and other technologies ...   \n",
       "20735  Languages, frameworks, and other technologies ...   \n",
       "48180  Specific department or team I’d be working on;...   \n",
       "13460  Languages, frameworks, and other technologies ...   \n",
       "63741                                                NaN   \n",
       "39635  Languages, frameworks, and other technologies ...   \n",
       "49863  Languages, frameworks, and other technologies ...   \n",
       "57447                                                NaN   \n",
       "37953  Remote work options;How widely used or impactf...   \n",
       "48610  Flex time or a flexible schedule;Office enviro...   \n",
       "\n",
       "                                             NEWOvertime  \\\n",
       "25482  Sometimes: 1-2 days per month but less than we...   \n",
       "20735                                                NaN   \n",
       "48180                  Rarely: 1-2 days per year or less   \n",
       "13460                                              Never   \n",
       "63741  Occasionally: 1-2 days per quarter but less th...   \n",
       "39635                                                NaN   \n",
       "49863  Occasionally: 1-2 days per quarter but less th...   \n",
       "57447  Occasionally: 1-2 days per quarter but less th...   \n",
       "37953                                              Never   \n",
       "48610                   Often: 1-2 days per week or more   \n",
       "\n",
       "                                NEWEdImpt  \n",
       "25482                    Fairly important  \n",
       "20735                                 NaN  \n",
       "48180                  Somewhat important  \n",
       "13460                  Somewhat important  \n",
       "63741                      Very important  \n",
       "39635                                 NaN  \n",
       "49863  Not at all important/not necessary  \n",
       "57447  Not at all important/not necessary  \n",
       "37953                  Somewhat important  \n",
       "48610                  Somewhat important  "
      ]
     },
     "execution_count": 33,
     "metadata": {},
     "output_type": "execute_result"
    }
   ],
   "source": [
    "survey_df.sample(10)"
   ]
  },
  {
   "cell_type": "markdown",
   "metadata": {
    "id": "_OHXfyekTuWC"
   },
   "source": [
    "Let's save and commit our work before continuing."
   ]
  },
  {
   "cell_type": "code",
   "execution_count": 34,
   "metadata": {
    "id": "c7ssvoU8TuWD"
   },
   "outputs": [],
   "source": [
    "import jovian"
   ]
  },
  {
   "cell_type": "code",
   "execution_count": 54,
   "metadata": {
    "colab": {
     "base_uri": "https://localhost:8080/",
     "height": 88
    },
    "executionInfo": {
     "elapsed": 3539,
     "status": "ok",
     "timestamp": 1601662530377,
     "user": {
      "displayName": "Jonathan Loscalzo",
      "photoUrl": "https://lh3.googleusercontent.com/a-/AOh14GivbM-9DpHz0-Jl7KXptCwUFRftS0nHXTawHVNVGg=s64",
      "userId": "01585398269152205627"
     },
     "user_tz": 180
    },
    "id": "Ivnv-gw6TuWL",
    "outputId": "c9b76439-f04f-47ce-aad8-2ee00c6f8b9b"
   },
   "outputs": [
    {
     "name": "stdout",
     "output_type": "stream",
     "text": [
      "[jovian] Detected Colab notebook...\u001b[0m\n",
      "[jovian] Uploading colab notebook to Jovian...\u001b[0m\n",
      "[jovian] Committed successfully! https://jovian.ml/jonathanloscalzo/python-eda-stackoverflow-survey\u001b[0m\n"
     ]
    },
    {
     "data": {
      "application/vnd.google.colaboratory.intrinsic+json": {
       "type": "string"
      },
      "text/plain": [
       "'https://jovian.ml/jonathanloscalzo/python-eda-stackoverflow-survey'"
      ]
     },
     "execution_count": 54,
     "metadata": {
      "tags": []
     },
     "output_type": "execute_result"
    }
   ],
   "source": [
    "jovian.commit(project=project)"
   ]
  },
  {
   "cell_type": "markdown",
   "metadata": {
    "id": "DkO_jJT4TuWQ"
   },
   "source": [
    "## Exploratory Analysis and Visualization\n",
    "\n",
    "Before we can ask interesting questions about the survey responses, it would help to understand what the demographics i.e. country, age, gender, education level, employment level etc. of the respondents look like. It's important to explore these variable in order to understand how representative the survey is of the worldwide programming community, as a survey of this scale generally tends to have some [selection bias](https://en.wikipedia.org/wiki/Selection_bias).\n",
    "\n",
    "Let's begin by importing `matplotlib.pyplot` and `seaborn`."
   ]
  },
  {
   "cell_type": "code",
   "execution_count": 35,
   "metadata": {
    "executionInfo": {
     "elapsed": 2285,
     "status": "ok",
     "timestamp": 1601662751578,
     "user": {
      "displayName": "Jonathan Loscalzo",
      "photoUrl": "https://lh3.googleusercontent.com/a-/AOh14GivbM-9DpHz0-Jl7KXptCwUFRftS0nHXTawHVNVGg=s64",
      "userId": "01585398269152205627"
     },
     "user_tz": 180
    },
    "id": "snZJ7XusTuWS"
   },
   "outputs": [],
   "source": [
    "import seaborn as sns\n",
    "import matplotlib\n",
    "import matplotlib.pyplot as plt\n",
    "%matplotlib inline\n",
    "\n",
    "sns.set_style('darkgrid')\n",
    "matplotlib.rcParams['font.size'] = 14\n",
    "matplotlib.rcParams['figure.figsize'] = (9, 5)\n",
    "matplotlib.rcParams['figure.facecolor'] = '#00000000'"
   ]
  },
  {
   "cell_type": "markdown",
   "metadata": {
    "id": "A6Qg2yG4TuWX"
   },
   "source": [
    "### Country\n",
    "\n",
    "Let's look at the number of countries from which there are responses in the survey, and plot the 10 countries with the highest number of responses."
   ]
  },
  {
   "cell_type": "code",
   "execution_count": 36,
   "metadata": {
    "colab": {
     "base_uri": "https://localhost:8080/",
     "height": 35
    },
    "executionInfo": {
     "elapsed": 2247,
     "status": "ok",
     "timestamp": 1601662833174,
     "user": {
      "displayName": "Jonathan Loscalzo",
      "photoUrl": "https://lh3.googleusercontent.com/a-/AOh14GivbM-9DpHz0-Jl7KXptCwUFRftS0nHXTawHVNVGg=s64",
      "userId": "01585398269152205627"
     },
     "user_tz": 180
    },
    "id": "xunx2iXOTuWX",
    "outputId": "168e1f7d-04d2-49f0-c43a-54024a9ee63c"
   },
   "outputs": [
    {
     "data": {
      "text/plain": [
       "'Where do you live?'"
      ]
     },
     "execution_count": 36,
     "metadata": {},
     "output_type": "execute_result"
    }
   ],
   "source": [
    "schema.Country"
   ]
  },
  {
   "cell_type": "code",
   "execution_count": 37,
   "metadata": {
    "colab": {
     "base_uri": "https://localhost:8080/",
     "height": 34
    },
    "executionInfo": {
     "elapsed": 2339,
     "status": "ok",
     "timestamp": 1601662836095,
     "user": {
      "displayName": "Jonathan Loscalzo",
      "photoUrl": "https://lh3.googleusercontent.com/a-/AOh14GivbM-9DpHz0-Jl7KXptCwUFRftS0nHXTawHVNVGg=s64",
      "userId": "01585398269152205627"
     },
     "user_tz": 180
    },
    "id": "kDSmHkKOTuWa",
    "outputId": "cb76889c-1564-4825-f492-789b6e004d25"
   },
   "outputs": [
    {
     "data": {
      "text/plain": [
       "183"
      ]
     },
     "execution_count": 37,
     "metadata": {},
     "output_type": "execute_result"
    }
   ],
   "source": [
    "survey_df.Country.nunique()"
   ]
  },
  {
   "cell_type": "markdown",
   "metadata": {
    "id": "DRr0aM9XTuWe"
   },
   "source": [
    "We can identify the countries with the highest number of respondents using the `value_counts` method."
   ]
  },
  {
   "cell_type": "code",
   "execution_count": 38,
   "metadata": {
    "colab": {
     "base_uri": "https://localhost:8080/",
     "height": 301
    },
    "executionInfo": {
     "elapsed": 755,
     "status": "ok",
     "timestamp": 1601663118857,
     "user": {
      "displayName": "Jonathan Loscalzo",
      "photoUrl": "https://lh3.googleusercontent.com/a-/AOh14GivbM-9DpHz0-Jl7KXptCwUFRftS0nHXTawHVNVGg=s64",
      "userId": "01585398269152205627"
     },
     "user_tz": 180
    },
    "id": "suIToveaTuWg",
    "outputId": "077ae26f-b173-4cff-c6ad-52700670ea59"
   },
   "outputs": [
    {
     "data": {
      "text/plain": [
       "United States         12371\n",
       "India                  8364\n",
       "United Kingdom         3881\n",
       "Germany                3864\n",
       "Canada                 2175\n",
       "France                 1884\n",
       "Brazil                 1804\n",
       "Netherlands            1332\n",
       "Poland                 1259\n",
       "Australia              1199\n",
       "Spain                  1157\n",
       "Italy                  1115\n",
       "Russian Federation     1085\n",
       "Sweden                  879\n",
       "Pakistan                802\n",
       "Name: Country, dtype: int64"
      ]
     },
     "execution_count": 38,
     "metadata": {},
     "output_type": "execute_result"
    }
   ],
   "source": [
    "top_countries = survey_df.Country.value_counts().head(15)\n",
    "top_countries"
   ]
  },
  {
   "cell_type": "markdown",
   "metadata": {
    "id": "majvsdqLTuWn"
   },
   "source": [
    "We can visualize this information using a bar chart."
   ]
  },
  {
   "cell_type": "code",
   "execution_count": 39,
   "metadata": {
    "colab": {
     "base_uri": "https://localhost:8080/",
     "height": 572
    },
    "executionInfo": {
     "elapsed": 1213,
     "status": "ok",
     "timestamp": 1601663196221,
     "user": {
      "displayName": "Jonathan Loscalzo",
      "photoUrl": "https://lh3.googleusercontent.com/a-/AOh14GivbM-9DpHz0-Jl7KXptCwUFRftS0nHXTawHVNVGg=s64",
      "userId": "01585398269152205627"
     },
     "user_tz": 180
    },
    "id": "oRklXZHETuWo",
    "outputId": "c910726c-41b0-43cc-d07d-b9bc4a4a9bb7"
   },
   "outputs": [
    {
     "name": "stderr",
     "output_type": "stream",
     "text": [
      "/home/jloscalzo/.pyenv/versions/3.7.9/lib/python3.7/site-packages/seaborn/_decorators.py:43: FutureWarning: Pass the following variables as keyword args: x, y. From version 0.12, the only valid positional argument will be `data`, and passing other arguments without an explicit keyword will result in an error or misinterpretation.\n",
      "  FutureWarning\n"
     ]
    },
    {
     "data": {
      "image/png": "[encoded data removed]",
      "text/plain": [
       "<Figure size 864x432 with 1 Axes>"
      ]
     },
     "metadata": {
      "needs_background": "light"
     },
     "output_type": "display_data"
    }
   ],
   "source": [
    "plt.figure(figsize=(12,6))\n",
    "plt.xticks(rotation=75)\n",
    "plt.title(schema.Country)\n",
    "sns.barplot(top_countries.index, top_countries);"
   ]
  },
  {
   "cell_type": "markdown",
   "metadata": {
    "id": "F0nnxXC2TuWu"
   },
   "source": [
    "It appears the that a disproportionately high number of respondents are from USA & India - which one might expect since these countries have the highest populations (apart from China), and since the Survey is in English, which is the common language used by professionals in US, India & UK. We can already see that the survey may not be representative of the entire programming community - especially from non-English speaking countries.\n",
    "\n",
    "**Exercise**:\n",
    "Try finding the percentage of responses from English-speaking vs. non-English speaking countries. You can use [this list of languages spoken in different countries](https://github.com/JovianML/opendatasets/blob/master/data/countries-languages-spoken/countries-languages.csv)."
   ]
  },
  {
   "cell_type": "code",
   "execution_count": 40,
   "metadata": {
    "colab": {
     "base_uri": "https://localhost:8080/",
     "height": 52
    },
    "executionInfo": {
     "elapsed": 796,
     "status": "ok",
     "timestamp": 1601663539217,
     "user": {
      "displayName": "Jonathan Loscalzo",
      "photoUrl": "https://lh3.googleusercontent.com/a-/AOh14GivbM-9DpHz0-Jl7KXptCwUFRftS0nHXTawHVNVGg=s64",
      "userId": "01585398269152205627"
     },
     "user_tz": 180
    },
    "id": "Vo2qfPZolTrx",
    "outputId": "3d15963a-b743-48a8-8d06-536f79bd5a5a"
   },
   "outputs": [
    {
     "name": "stderr",
     "output_type": "stream",
     "text": [
      "\r",
      "0it [00:00, ?it/s]"
     ]
    },
    {
     "name": "stdout",
     "output_type": "stream",
     "text": [
      "Downloading https://raw.githubusercontent.com/JovianML/opendatasets/master/data/countries-languages-spoken/countries-languages.csv to ./countries-languages-spoken/countries-languages.csv\n"
     ]
    },
    {
     "name": "stderr",
     "output_type": "stream",
     "text": [
      "16384it [00:00, 29900.71it/s]            \n"
     ]
    }
   ],
   "source": [
    "od.download(\"countries-languages-spoken\")"
   ]
  },
  {
   "cell_type": "code",
   "execution_count": 41,
   "metadata": {
    "colab": {
     "base_uri": "https://localhost:8080/",
     "height": 34
    },
    "executionInfo": {
     "elapsed": 1001,
     "status": "ok",
     "timestamp": 1601663559361,
     "user": {
      "displayName": "Jonathan Loscalzo",
      "photoUrl": "https://lh3.googleusercontent.com/a-/AOh14GivbM-9DpHz0-Jl7KXptCwUFRftS0nHXTawHVNVGg=s64",
      "userId": "01585398269152205627"
     },
     "user_tz": 180
    },
    "id": "ItP3BpiIlibU",
    "outputId": "e653166c-6e38-432d-f56a-e3cd1d30f388"
   },
   "outputs": [
    {
     "data": {
      "text/plain": [
       "['countries-languages.csv']"
      ]
     },
     "execution_count": 41,
     "metadata": {},
     "output_type": "execute_result"
    }
   ],
   "source": [
    "os.listdir(\"./countries-languages-spoken\")"
   ]
  },
  {
   "cell_type": "code",
   "execution_count": 42,
   "metadata": {
    "colab": {
     "base_uri": "https://localhost:8080/",
     "height": 197
    },
    "executionInfo": {
     "elapsed": 788,
     "status": "ok",
     "timestamp": 1601663689586,
     "user": {
      "displayName": "Jonathan Loscalzo",
      "photoUrl": "https://lh3.googleusercontent.com/a-/AOh14GivbM-9DpHz0-Jl7KXptCwUFRftS0nHXTawHVNVGg=s64",
      "userId": "01585398269152205627"
     },
     "user_tz": 180
    },
    "id": "aJ6RYkXAlnU4",
    "outputId": "ba4e1299-b4d9-482e-d2c8-cab75a926108"
   },
   "outputs": [
    {
     "data": {
      "text/html": [
       "<div>\n",
       "<style scoped>\n",
       "    .dataframe tbody tr th:only-of-type {\n",
       "        vertical-align: middle;\n",
       "    }\n",
       "\n",
       "    .dataframe tbody tr th {\n",
       "        vertical-align: top;\n",
       "    }\n",
       "\n",
       "    .dataframe thead th {\n",
       "        text-align: right;\n",
       "    }\n",
       "</style>\n",
       "<table border=\"1\" class=\"dataframe\">\n",
       "  <thead>\n",
       "    <tr style=\"text-align: right;\">\n",
       "      <th></th>\n",
       "      <th>Country</th>\n",
       "      <th>Languages Spoken</th>\n",
       "    </tr>\n",
       "  </thead>\n",
       "  <tbody>\n",
       "    <tr>\n",
       "      <th>0</th>\n",
       "      <td>Afghanistan</td>\n",
       "      <td>Dari Persian, Pashtu (both official), other Tu...</td>\n",
       "    </tr>\n",
       "    <tr>\n",
       "      <th>1</th>\n",
       "      <td>Albania</td>\n",
       "      <td>Albanian (Tosk is the official dialect), Greek</td>\n",
       "    </tr>\n",
       "    <tr>\n",
       "      <th>2</th>\n",
       "      <td>Algeria</td>\n",
       "      <td>Arabic (official), French, Berber dialects</td>\n",
       "    </tr>\n",
       "    <tr>\n",
       "      <th>3</th>\n",
       "      <td>Andorra</td>\n",
       "      <td>Catalán (official), French, Castilian, Portuguese</td>\n",
       "    </tr>\n",
       "    <tr>\n",
       "      <th>4</th>\n",
       "      <td>Angola</td>\n",
       "      <td>Portuguese (official), Bantu and other African...</td>\n",
       "    </tr>\n",
       "  </tbody>\n",
       "</table>\n",
       "</div>"
      ],
      "text/plain": [
       "       Country                                   Languages Spoken\n",
       "0  Afghanistan  Dari Persian, Pashtu (both official), other Tu...\n",
       "1      Albania     Albanian (Tosk is the official dialect), Greek\n",
       "2      Algeria         Arabic (official), French, Berber dialects\n",
       "3      Andorra  Catalán (official), French, Castilian, Portuguese\n",
       "4       Angola  Portuguese (official), Bantu and other African..."
      ]
     },
     "execution_count": 42,
     "metadata": {},
     "output_type": "execute_result"
    }
   ],
   "source": [
    "languages_df = pd.read_csv('./countries-languages-spoken/countries-languages.csv')\n",
    "languages_df.head()"
   ]
  },
  {
   "cell_type": "code",
   "execution_count": 43,
   "metadata": {
    "executionInfo": {
     "elapsed": 795,
     "status": "ok",
     "timestamp": 1601663722788,
     "user": {
      "displayName": "Jonathan Loscalzo",
      "photoUrl": "https://lh3.googleusercontent.com/a-/AOh14GivbM-9DpHz0-Jl7KXptCwUFRftS0nHXTawHVNVGg=s64",
      "userId": "01585398269152205627"
     },
     "user_tz": 180
    },
    "id": "UjSTDRitl67x"
   },
   "outputs": [],
   "source": [
    "survey_df = survey_df.merge(languages_df, on=\"Country\")"
   ]
  },
  {
   "cell_type": "code",
   "execution_count": 44,
   "metadata": {
    "colab": {
     "base_uri": "https://localhost:8080/",
     "height": 34
    },
    "executionInfo": {
     "elapsed": 734,
     "status": "ok",
     "timestamp": 1601664084416,
     "user": {
      "displayName": "Jonathan Loscalzo",
      "photoUrl": "https://lh3.googleusercontent.com/a-/AOh14GivbM-9DpHz0-Jl7KXptCwUFRftS0nHXTawHVNVGg=s64",
      "userId": "01585398269152205627"
     },
     "user_tz": 180
    },
    "id": "jeX8e0AomPm-",
    "outputId": "2947d245-4962-4e24-faa4-1f911c142a0f"
   },
   "outputs": [
    {
     "data": {
      "text/plain": [
       "('English: 45.51% ', 'Non-english: 54.49%')"
      ]
     },
     "execution_count": 44,
     "metadata": {},
     "output_type": "execute_result"
    }
   ],
   "source": [
    "vc = survey_df[\"Languages Spoken\"].value_counts().to_frame()\n",
    "english_countries = vc[\"Languages Spoken\"].index.str.contains(\"English\").sum()\n",
    "non_english_countries = vc.size - english_countries\n",
    "f'English: {english_countries/vc.size * 100:.2f}% ', f'Non-english: {non_english_countries/vc.size * 100:.2f}%'"
   ]
  },
  {
   "cell_type": "code",
   "execution_count": 45,
   "metadata": {
    "executionInfo": {
     "elapsed": 887,
     "status": "ok",
     "timestamp": 1601664223068,
     "user": {
      "displayName": "Jonathan Loscalzo",
      "photoUrl": "https://lh3.googleusercontent.com/a-/AOh14GivbM-9DpHz0-Jl7KXptCwUFRftS0nHXTawHVNVGg=s64",
      "userId": "01585398269152205627"
     },
     "user_tz": 180
    },
    "id": "Co4nhV0unq85"
   },
   "outputs": [],
   "source": [
    "survey_df['has_english?'] = survey_df[\"Languages Spoken\"].str.contains(\"English\")"
   ]
  },
  {
   "cell_type": "code",
   "execution_count": 46,
   "metadata": {
    "colab": {
     "base_uri": "https://localhost:8080/",
     "height": 364
    },
    "executionInfo": {
     "elapsed": 728,
     "status": "ok",
     "timestamp": 1601664433388,
     "user": {
      "displayName": "Jonathan Loscalzo",
      "photoUrl": "https://lh3.googleusercontent.com/a-/AOh14GivbM-9DpHz0-Jl7KXptCwUFRftS0nHXTawHVNVGg=s64",
      "userId": "01585398269152205627"
     },
     "user_tz": 180
    },
    "id": "fIUuGwd4oJLx",
    "outputId": "d0a50145-6897-4322-caa9-def4114cd51c"
   },
   "outputs": [
    {
     "data": {
      "text/plain": [
       "<AxesSubplot:>"
      ]
     },
     "execution_count": 46,
     "metadata": {},
     "output_type": "execute_result"
    },
    {
     "data": {
      "image/png": "[encoded data removed]",
      "text/plain": [
       "<Figure size 648x360 with 1 Axes>"
      ]
     },
     "metadata": {
      "needs_background": "light"
     },
     "output_type": "display_data"
    }
   ],
   "source": [
    "survey_df['has_english?'].value_counts().plot.bar()"
   ]
  },
  {
   "cell_type": "code",
   "execution_count": 47,
   "metadata": {
    "colab": {
     "base_uri": "https://localhost:8080/",
     "height": 417
    },
    "executionInfo": {
     "elapsed": 939,
     "status": "ok",
     "timestamp": 1601664940080,
     "user": {
      "displayName": "Jonathan Loscalzo",
      "photoUrl": "https://lh3.googleusercontent.com/a-/AOh14GivbM-9DpHz0-Jl7KXptCwUFRftS0nHXTawHVNVGg=s64",
      "userId": "01585398269152205627"
     },
     "user_tz": 180
    },
    "id": "cIBSWVOco9OL",
    "outputId": "f9fa0ac2-4d33-40e3-a71d-cc09ce252967"
   },
   "outputs": [
    {
     "name": "stderr",
     "output_type": "stream",
     "text": [
      "/home/jloscalzo/.pyenv/versions/3.7.9/lib/python3.7/site-packages/seaborn/_decorators.py:43: FutureWarning: Pass the following variables as keyword args: x, y. From version 0.12, the only valid positional argument will be `data`, and passing other arguments without an explicit keyword will result in an error or misinterpretation.\n",
      "  FutureWarning\n"
     ]
    },
    {
     "data": {
      "text/plain": [
       "Text(0.5, 1.0, 'Has English lang?')"
      ]
     },
     "execution_count": 47,
     "metadata": {},
     "output_type": "execute_result"
    },
    {
     "data": {
      "image/png": "[encoded data removed]",
      "text/plain": [
       "<Figure size 648x360 with 1 Axes>"
      ]
     },
     "metadata": {
      "needs_background": "light"
     },
     "output_type": "display_data"
    }
   ],
   "source": [
    "sns.barplot(survey_df['has_english?'].value_counts().index, survey_df['has_english?'].value_counts())\n",
    "plt.title(\"Has English lang?\")"
   ]
  },
  {
   "cell_type": "code",
   "execution_count": 48,
   "metadata": {
    "colab": {
     "base_uri": "https://localhost:8080/",
     "height": 342
    },
    "executionInfo": {
     "elapsed": 969,
     "status": "ok",
     "timestamp": 1601665975594,
     "user": {
      "displayName": "Jonathan Loscalzo",
      "photoUrl": "https://lh3.googleusercontent.com/a-/AOh14GivbM-9DpHz0-Jl7KXptCwUFRftS0nHXTawHVNVGg=s64",
      "userId": "01585398269152205627"
     },
     "user_tz": 180
    },
    "id": "VTD5rZvhq847",
    "outputId": "2a99ee8e-85f4-48b1-df6a-0f460078662b"
   },
   "outputs": [
    {
     "data": {
      "text/plain": [
       "<BarContainer object of 2 artists>"
      ]
     },
     "execution_count": 48,
     "metadata": {},
     "output_type": "execute_result"
    },
    {
     "data": {
      "image/png": "[encoded data removed]",
      "text/plain": [
       "<Figure size 648x360 with 1 Axes>"
      ]
     },
     "metadata": {
      "needs_background": "light"
     },
     "output_type": "display_data"
    }
   ],
   "source": [
    "plt.bar([\"Yes\", \"No\"], survey_df['has_english?'].value_counts())"
   ]
  },
  {
   "cell_type": "markdown",
   "metadata": {
    "id": "UFMHzcqITuWv"
   },
   "source": [
    "### Age\n",
    "\n",
    "The distribution of the age of respondents is another important factor to look at, and we can use a histogram to visualize it. "
   ]
  },
  {
   "cell_type": "code",
   "execution_count": 49,
   "metadata": {
    "colab": {
     "base_uri": "https://localhost:8080/",
     "height": 415
    },
    "executionInfo": {
     "elapsed": 1120,
     "status": "ok",
     "timestamp": 1601666042918,
     "user": {
      "displayName": "Jonathan Loscalzo",
      "photoUrl": "https://lh3.googleusercontent.com/a-/AOh14GivbM-9DpHz0-Jl7KXptCwUFRftS0nHXTawHVNVGg=s64",
      "userId": "01585398269152205627"
     },
     "user_tz": 180
    },
    "id": "m5wbYQJOTuWw",
    "outputId": "77309947-0832-4430-a289-f6bf0901daf1"
   },
   "outputs": [
    {
     "data": {
      "image/png": "[encoded data removed]",
      "text/plain": [
       "<Figure size 864x432 with 1 Axes>"
      ]
     },
     "metadata": {
      "needs_background": "light"
     },
     "output_type": "display_data"
    }
   ],
   "source": [
    "plt.figure(figsize=(12, 6))\n",
    "plt.title(schema.Age)\n",
    "plt.xlabel('Age')\n",
    "plt.ylabel('Number of respondents')\n",
    "\n",
    "plt.hist(survey_df.Age, bins=np.arange(10,80,5), color='purple');"
   ]
  },
  {
   "cell_type": "markdown",
   "metadata": {
    "id": "0zEUNVWgTuW2"
   },
   "source": [
    "It appears that a large percentage of respondents are in the age range of 20-45, which is somewhat representative of the programming community in general, as a lot of young people have taken up computer as their field of study or profession in the last 20 years.\n",
    "\n",
    "**Exercise**: You may want to filter out responses by age (or age group), if you'd like to analyze and compare the results of the survey for different age groups. Create a new column called `AgeGroup` which contains values like `Less than 10 years`, `10-18 years`, `18-30 years`, `30-45 years`, `45-60 years`, `Older than 60 years`, and repeat the analysis in the rest of this notebook for each age group."
   ]
  },
  {
   "cell_type": "code",
   "execution_count": 50,
   "metadata": {
    "colab": {
     "base_uri": "https://localhost:8080/",
     "height": 324
    },
    "executionInfo": {
     "elapsed": 802,
     "status": "ok",
     "timestamp": 1601666198568,
     "user": {
      "displayName": "Jonathan Loscalzo",
      "photoUrl": "https://lh3.googleusercontent.com/a-/AOh14GivbM-9DpHz0-Jl7KXptCwUFRftS0nHXTawHVNVGg=s64",
      "userId": "01585398269152205627"
     },
     "user_tz": 180
    },
    "id": "ISvs01hTvV_I",
    "outputId": "41ce026e-1e18-4cfa-de0b-e6d0d8db667c"
   },
   "outputs": [
    {
     "data": {
      "image/png": "[encoded data removed]",
      "text/plain": [
       "<Figure size 648x360 with 1 Axes>"
      ]
     },
     "metadata": {
      "needs_background": "light"
     },
     "output_type": "display_data"
    }
   ],
   "source": [
    "plt.hist(survey_df.Age, bins=[10, 18, 30, 45, 60, 100], color='purple');"
   ]
  },
  {
   "cell_type": "markdown",
   "metadata": {
    "id": "9J9dKP6mTuW3"
   },
   "source": [
    "### Gender\n",
    "\n",
    "Let's look at the distribution of responses for the Gender. It's a well known fact that women and non-binary genders are underrepresented in the programming community, so we might expect to see a skewed distribution here."
   ]
  },
  {
   "cell_type": "code",
   "execution_count": 51,
   "metadata": {
    "colab": {
     "base_uri": "https://localhost:8080/",
     "height": 35
    },
    "executionInfo": {
     "elapsed": 2424,
     "status": "ok",
     "timestamp": 1601666871348,
     "user": {
      "displayName": "Jonathan Loscalzo",
      "photoUrl": "https://lh3.googleusercontent.com/a-/AOh14GivbM-9DpHz0-Jl7KXptCwUFRftS0nHXTawHVNVGg=s64",
      "userId": "01585398269152205627"
     },
     "user_tz": 180
    },
    "id": "LMtMefgPTuW4",
    "outputId": "e8561ba9-d4ca-49bc-e9b3-87511935e510"
   },
   "outputs": [
    {
     "data": {
      "text/plain": [
       "'Which of the following describe you, if any? Please check all that apply. If you prefer not to answer, you may leave this question blank.'"
      ]
     },
     "execution_count": 51,
     "metadata": {},
     "output_type": "execute_result"
    }
   ],
   "source": [
    "schema.Gender"
   ]
  },
  {
   "cell_type": "code",
   "execution_count": 52,
   "metadata": {
    "colab": {
     "base_uri": "https://localhost:8080/",
     "height": 87
    },
    "executionInfo": {
     "elapsed": 946,
     "status": "ok",
     "timestamp": 1601666899388,
     "user": {
      "displayName": "Jonathan Loscalzo",
      "photoUrl": "https://lh3.googleusercontent.com/a-/AOh14GivbM-9DpHz0-Jl7KXptCwUFRftS0nHXTawHVNVGg=s64",
      "userId": "01585398269152205627"
     },
     "user_tz": 180
    },
    "id": "wohbm3uuTuW8",
    "outputId": "99d041c8-6f9c-45d7-b483-5cd7f0e61606"
   },
   "outputs": [
    {
     "data": {
      "text/plain": [
       "Man                                                  44439\n",
       "Woman                                                 3733\n",
       "Non-binary, genderqueer, or gender non-conforming      376\n",
       "Name: Gender, dtype: int64"
      ]
     },
     "execution_count": 52,
     "metadata": {},
     "output_type": "execute_result"
    }
   ],
   "source": [
    "gender_counts = survey_df.Gender.value_counts()\n",
    "gender_counts"
   ]
  },
  {
   "cell_type": "markdown",
   "metadata": {
    "id": "L6eIWATETuXB"
   },
   "source": [
    "A pie chart would be a good way to visualize the distribution."
   ]
  },
  {
   "cell_type": "code",
   "execution_count": 53,
   "metadata": {
    "colab": {
     "base_uri": "https://localhost:8080/",
     "height": 376
    },
    "executionInfo": {
     "elapsed": 1034,
     "status": "ok",
     "timestamp": 1601666902749,
     "user": {
      "displayName": "Jonathan Loscalzo",
      "photoUrl": "https://lh3.googleusercontent.com/a-/AOh14GivbM-9DpHz0-Jl7KXptCwUFRftS0nHXTawHVNVGg=s64",
      "userId": "01585398269152205627"
     },
     "user_tz": 180
    },
    "id": "j-oyShqqTuXD",
    "outputId": "2150d2a0-99bb-4973-f9c4-f958a869128e"
   },
   "outputs": [
    {
     "data": {
      "image/png": "[encoded data removed]",
      "text/plain": [
       "<Figure size 864x432 with 1 Axes>"
      ]
     },
     "metadata": {},
     "output_type": "display_data"
    }
   ],
   "source": [
    "plt.figure(figsize=(12,6))\n",
    "plt.title(schema.Gender)\n",
    "plt.pie(gender_counts, labels=gender_counts.index, autopct='%1.1f%%', startangle=180);"
   ]
  },
  {
   "cell_type": "markdown",
   "metadata": {
    "id": "pz97Th1sTuXK"
   },
   "source": [
    "Only about 8% of survey respondents who have answered the question identify as women or non-binary. This number is lower than the overall percentage of women & non-binary genders in the programming community - which is estimated to be around 12%. \n",
    "\n",
    "**Exercise**: It would be interesting to compare the survey responses & preferences across genders, and you are encouraged to repeat this analysis with these breakdowns. How do the relative education levels differ across genders? How to salaries differ? You may find this analysis on the [Gender Divide in Data Science](https://medium.com/datadriveninvestor/exploratory-data-analysis-eda-understanding-the-gender-divide-in-data-science-roles-9faa5da44f5b) useful."
   ]
  },
  {
   "cell_type": "markdown",
   "metadata": {
    "id": "VpyPfEl4TuXL"
   },
   "source": [
    "### Education Level\n",
    "\n",
    "Formal education in computer science is often considered an important requirement of becoming a programmer. Let's see if this indeed the case, especially since there are many free resources & tutorials available online to learn programming. We'll use a horizontal bar plot to compare education levels of respondents."
   ]
  },
  {
   "cell_type": "code",
   "execution_count": 54,
   "metadata": {
    "colab": {
     "base_uri": "https://localhost:8080/",
     "height": 412
    },
    "executionInfo": {
     "elapsed": 2111,
     "status": "ok",
     "timestamp": 1601667343702,
     "user": {
      "displayName": "Jonathan Loscalzo",
      "photoUrl": "https://lh3.googleusercontent.com/a-/AOh14GivbM-9DpHz0-Jl7KXptCwUFRftS0nHXTawHVNVGg=s64",
      "userId": "01585398269152205627"
     },
     "user_tz": 180
    },
    "id": "AdQp04PnTuXN",
    "outputId": "f3332227-c0e8-47f2-aaf6-bb22dab8e813"
   },
   "outputs": [
    {
     "data": {
      "text/plain": [
       "Text(0.5, 0, 'quantity')"
      ]
     },
     "execution_count": 54,
     "metadata": {},
     "output_type": "execute_result"
    },
    {
     "data": {
      "image/png": "[encoded data removed]",
      "text/plain": [
       "<Figure size 648x360 with 1 Axes>"
      ]
     },
     "metadata": {
      "needs_background": "light"
     },
     "output_type": "display_data"
    }
   ],
   "source": [
    "sns.countplot(y=survey_df.EdLevel)\n",
    "plt.xticks(rotation=75);\n",
    "plt.title(schema['EdLevel'])\n",
    "# plt.ylabel(None);\n",
    "plt.xlabel(\"quantity\")"
   ]
  },
  {
   "cell_type": "markdown",
   "metadata": {
    "id": "HpdBZEeJTuXS"
   },
   "source": [
    "It appears that well over half of the respondents hold a bachelor's or master's degree, so most programmers definitely seem to have some college education, although it's not clear from this graph alone if they hold a degree in computer science.\n",
    "\n",
    "**Exercises**: The graph currently shows the number of respondents for each option, can you modify it to show the percentage instead? Further, can you break down the graph to compare the percentages for each degree for men vs. women. "
   ]
  },
  {
   "cell_type": "markdown",
   "metadata": {
    "id": "qBZKQEe5TuXU"
   },
   "source": [
    "Let's also plot undergraduate majors, but this time we'll convert the numbers into percentages, and sort by percentage values to make it easier to visualize the order."
   ]
  },
  {
   "cell_type": "code",
   "execution_count": 55,
   "metadata": {
    "colab": {
     "base_uri": "https://localhost:8080/",
     "height": 35
    },
    "executionInfo": {
     "elapsed": 713,
     "status": "ok",
     "timestamp": 1601667388776,
     "user": {
      "displayName": "Jonathan Loscalzo",
      "photoUrl": "https://lh3.googleusercontent.com/a-/AOh14GivbM-9DpHz0-Jl7KXptCwUFRftS0nHXTawHVNVGg=s64",
      "userId": "01585398269152205627"
     },
     "user_tz": 180
    },
    "id": "F4P00GziTuXV",
    "outputId": "32b36c63-8091-4ecc-a493-334da4b5bad4"
   },
   "outputs": [
    {
     "data": {
      "text/plain": [
       "'What was your primary field of study?'"
      ]
     },
     "execution_count": 55,
     "metadata": {},
     "output_type": "execute_result"
    }
   ],
   "source": [
    "schema.UndergradMajor"
   ]
  },
  {
   "cell_type": "code",
   "execution_count": 56,
   "metadata": {
    "colab": {
     "base_uri": "https://localhost:8080/",
     "height": 417
    },
    "executionInfo": {
     "elapsed": 1392,
     "status": "ok",
     "timestamp": 1601667475461,
     "user": {
      "displayName": "Jonathan Loscalzo",
      "photoUrl": "https://lh3.googleusercontent.com/a-/AOh14GivbM-9DpHz0-Jl7KXptCwUFRftS0nHXTawHVNVGg=s64",
      "userId": "01585398269152205627"
     },
     "user_tz": 180
    },
    "id": "xXTAyQ3bTuXb",
    "outputId": "2196e472-a807-4628-caa1-c2a93a859e86"
   },
   "outputs": [
    {
     "name": "stderr",
     "output_type": "stream",
     "text": [
      "/home/jloscalzo/.pyenv/versions/3.7.9/lib/python3.7/site-packages/seaborn/_decorators.py:43: FutureWarning: Pass the following variables as keyword args: x, y. From version 0.12, the only valid positional argument will be `data`, and passing other arguments without an explicit keyword will result in an error or misinterpretation.\n",
      "  FutureWarning\n"
     ]
    },
    {
     "data": {
      "image/png": "[encoded data removed]",
      "text/plain": [
       "<Figure size 648x360 with 1 Axes>"
      ]
     },
     "metadata": {
      "needs_background": "light"
     },
     "output_type": "display_data"
    }
   ],
   "source": [
    "undergrad_pct = survey_df.UndergradMajor.value_counts() * 100 / survey_df.UndergradMajor.count()\n",
    "\n",
    "sns.barplot(undergrad_pct, undergrad_pct.index)\n",
    "\n",
    "plt.title(schema.UndergradMajor)\n",
    "plt.ylabel(None);\n",
    "plt.xlabel('Percentage');"
   ]
  },
  {
   "cell_type": "markdown",
   "metadata": {
    "id": "nJbo-konTuXh"
   },
   "source": [
    "It turns that 40% of programmers holding a college degree have a field of study other than computer science - which is very encouraging. This seems to suggest that while college education is helpful in general, you do not need to pursue a major in computer science to become a successful programmer.\n",
    "\n",
    "**Exercises**: Analyze the results of the `NEWEdImpt` column for respondents who hold some college degree vs. those who don't. Do you notice any difference in opinion?\n"
   ]
  },
  {
   "cell_type": "code",
   "execution_count": 57,
   "metadata": {
    "colab": {
     "base_uri": "https://localhost:8080/",
     "height": 230
    },
    "executionInfo": {
     "elapsed": 1013,
     "status": "ok",
     "timestamp": 1601667840025,
     "user": {
      "displayName": "Jonathan Loscalzo",
      "photoUrl": "https://lh3.googleusercontent.com/a-/AOh14GivbM-9DpHz0-Jl7KXptCwUFRftS0nHXTawHVNVGg=s64",
      "userId": "01585398269152205627"
     },
     "user_tz": 180
    },
    "id": "wjHEK6u301Te",
    "outputId": "8aab7f19-e9f8-460c-dd0e-1f0c5e2853e1"
   },
   "outputs": [
    {
     "name": "stdout",
     "output_type": "stream",
     "text": [
      "How important is a formal education, such as a university degree in computer science, to your career?\n"
     ]
    },
    {
     "data": {
      "text/plain": [
       "(Fairly important                      12177\n",
       " Very important                        11464\n",
       " Somewhat important                    10884\n",
       " Not at all important/not necessary     7475\n",
       " Critically important                   4600\n",
       " Name: NEWEdImpt, dtype: int64,\n",
       " Fairly important                      26.130901\n",
       " Very important                        24.600858\n",
       " Somewhat important                    23.356223\n",
       " Not at all important/not necessary    16.040773\n",
       " Critically important                   9.871245\n",
       " Name: NEWEdImpt, dtype: float64)"
      ]
     },
     "execution_count": 57,
     "metadata": {},
     "output_type": "execute_result"
    }
   ],
   "source": [
    "print(schema.NEWEdImpt)\n",
    "survey_df.NEWEdImpt.value_counts(), survey_df.NEWEdImpt.value_counts(normalize=True).pipe(lambda df: df * 100)"
   ]
  },
  {
   "cell_type": "markdown",
   "metadata": {
    "id": "r_hO5pOhTuXi"
   },
   "source": [
    "### Employment\n",
    "\n",
    "Freelancing or contract work is a common choice among programmer, so it would be interesting to compare the breakdown between full time, part time & freelance work. Let's visualize the data from `Employment` column."
   ]
  },
  {
   "cell_type": "code",
   "execution_count": 58,
   "metadata": {
    "colab": {
     "base_uri": "https://localhost:8080/",
     "height": 35
    },
    "executionInfo": {
     "elapsed": 1103,
     "status": "ok",
     "timestamp": 1601668791631,
     "user": {
      "displayName": "Jonathan Loscalzo",
      "photoUrl": "https://lh3.googleusercontent.com/a-/AOh14GivbM-9DpHz0-Jl7KXptCwUFRftS0nHXTawHVNVGg=s64",
      "userId": "01585398269152205627"
     },
     "user_tz": 180
    },
    "id": "85NjYKB3TuXj",
    "outputId": "09558db4-c09b-426a-881f-d7ce2e9afd6f"
   },
   "outputs": [
    {
     "data": {
      "text/plain": [
       "'Which of the following best describes your current employment status?'"
      ]
     },
     "execution_count": 58,
     "metadata": {},
     "output_type": "execute_result"
    }
   ],
   "source": [
    "schema.Employment"
   ]
  },
  {
   "cell_type": "code",
   "execution_count": 59,
   "metadata": {
    "colab": {
     "base_uri": "https://localhost:8080/",
     "height": 362
    },
    "executionInfo": {
     "elapsed": 1345,
     "status": "ok",
     "timestamp": 1601668821673,
     "user": {
      "displayName": "Jonathan Loscalzo",
      "photoUrl": "https://lh3.googleusercontent.com/a-/AOh14GivbM-9DpHz0-Jl7KXptCwUFRftS0nHXTawHVNVGg=s64",
      "userId": "01585398269152205627"
     },
     "user_tz": 180
    },
    "id": "hJ66-KzlTuXq",
    "outputId": "388d2545-c14e-4274-e916-a84d2703ecde"
   },
   "outputs": [
    {
     "data": {
      "image/png": "[encoded data removed]",
      "text/plain": [
       "<Figure size 648x360 with 1 Axes>"
      ]
     },
     "metadata": {
      "needs_background": "light"
     },
     "output_type": "display_data"
    }
   ],
   "source": [
    "(survey_df.Employment.value_counts(normalize=True, ascending=True)*100).plot(kind='barh', color='g')\n",
    "plt.title(schema.Employment)\n",
    "plt.xlabel('Percentage');"
   ]
  },
  {
   "cell_type": "markdown",
   "metadata": {
    "id": "Wz_IPQ-PTuXw"
   },
   "source": [
    "It appears that close to 10% of respondents are employed part time or as freelancers.\n",
    "\n",
    "**Exercise**: Add a new column `EmploymentType` which contains values `Enthusiast` (student or not employed but looking for work), `Professional` (employed full-time, part-time or freelancing) and `Other` (not employed or retired). For each of the graphs that follow, show a comparison between `Enthusiast` and `Professional`.\n",
    "\n"
   ]
  },
  {
   "cell_type": "code",
   "execution_count": 60,
   "metadata": {
    "executionInfo": {
     "elapsed": 701,
     "status": "ok",
     "timestamp": 1601670150499,
     "user": {
      "displayName": "Jonathan Loscalzo",
      "photoUrl": "https://lh3.googleusercontent.com/a-/AOh14GivbM-9DpHz0-Jl7KXptCwUFRftS0nHXTawHVNVGg=s64",
      "userId": "01585398269152205627"
     },
     "user_tz": 180
    },
    "id": "z8wDMe7o6Sel"
   },
   "outputs": [],
   "source": [
    "# https://stackoverflow.com/questions/41476436/pandas-transform-vs-apply\n",
    "# https://stackoverflow.com/questions/27517425/apply-vs-transform-on-a-group-object#:~:text=Two%20major%20differences%20between%20apply%20and%20transform&text=Input%3A,Series%20to%20the%20custom%20function.\n",
    "# https://stackoverflow.com/questions/13331698/how-to-apply-a-function-to-two-columns-of-pandas-dataframe\n",
    "# survey_df[\"Employment\"].value_counts()\n",
    "\n",
    "employment_types = {\n",
    "  \"Student\":\"Enthusiast\",\n",
    "  \"Not employed, but looking for work\": \"Enthusiast\", \n",
    "  \"Employed full-time\": \"Professional\",\n",
    "  \"Employed part-time\": \"Professional\",\n",
    "  \"Independent contractor, freelancer, or self-employed\": \"Professional\",\n",
    "  \"Not employed, and not looking for work\": \"Other\",\n",
    "  \"Retired\": \"Other\"\n",
    "}\n",
    "\n",
    "def parse_types(t):\n",
    "  return employment_types.get(t, np.nan)\n",
    "\n",
    "survey_df = survey_df.assign(EmploymentType=survey_df[\"Employment\"].apply(parse_types))"
   ]
  },
  {
   "cell_type": "code",
   "execution_count": 61,
   "metadata": {
    "colab": {
     "base_uri": "https://localhost:8080/",
     "height": 123
    },
    "executionInfo": {
     "elapsed": 832,
     "status": "ok",
     "timestamp": 1601670155919,
     "user": {
      "displayName": "Jonathan Loscalzo",
      "photoUrl": "https://lh3.googleusercontent.com/a-/AOh14GivbM-9DpHz0-Jl7KXptCwUFRftS0nHXTawHVNVGg=s64",
      "userId": "01585398269152205627"
     },
     "user_tz": 180
    },
    "id": "4aJ-VozY-rhU",
    "outputId": "7e86d4f9-4f2a-4aff-e05f-c874e802a081"
   },
   "outputs": [
    {
     "data": {
      "text/plain": [
       "Index(['Country', 'Age', 'Gender', 'EdLevel', 'UndergradMajor', 'Hobbyist',\n",
       "       'Age1stCode', 'YearsCode', 'YearsCodePro', 'LanguageWorkedWith',\n",
       "       'LanguageDesireNextYear', 'NEWLearn', 'NEWStuck', 'Employment',\n",
       "       'DevType', 'WorkWeekHrs', 'JobSat', 'JobFactors', 'NEWOvertime',\n",
       "       'NEWEdImpt', 'Languages Spoken', 'has_english?', 'EmploymentType'],\n",
       "      dtype='object')"
      ]
     },
     "execution_count": 61,
     "metadata": {},
     "output_type": "execute_result"
    }
   ],
   "source": [
    "survey_df.columns"
   ]
  },
  {
   "cell_type": "code",
   "execution_count": 62,
   "metadata": {
    "colab": {
     "base_uri": "https://localhost:8080/",
     "height": 321
    },
    "executionInfo": {
     "elapsed": 794,
     "status": "ok",
     "timestamp": 1601670442293,
     "user": {
      "displayName": "Jonathan Loscalzo",
      "photoUrl": "https://lh3.googleusercontent.com/a-/AOh14GivbM-9DpHz0-Jl7KXptCwUFRftS0nHXTawHVNVGg=s64",
      "userId": "01585398269152205627"
     },
     "user_tz": 180
    },
    "id": "t-hhZBiy_ZFV",
    "outputId": "d710d3f8-3ded-4d42-a083-fcb22eab90cb"
   },
   "outputs": [
    {
     "data": {
      "image/png": "[encoded data removed]",
      "text/plain": [
       "<Figure size 648x360 with 1 Axes>"
      ]
     },
     "metadata": {},
     "output_type": "display_data"
    }
   ],
   "source": [
    "survey_df.EmploymentType.value_counts(normalize=True, ascending=True).pipe(lambda df: df*100).plot(kind='pie', autopct=\"%.2f%%\")\n",
    "# plt.title(schema.Employment)\n",
    "plt.xlabel('Percentage');"
   ]
  },
  {
   "cell_type": "markdown",
   "metadata": {
    "id": "aZoCIzmDTuX0"
   },
   "source": [
    "The `DevType` field contains information about the roles held by respondents. Since the question allows multiple answers, the column contains lists of values separated by `;`, which makes it a bit harder to analyze directly."
   ]
  },
  {
   "cell_type": "code",
   "execution_count": 63,
   "metadata": {
    "colab": {
     "base_uri": "https://localhost:8080/",
     "height": 35
    },
    "executionInfo": {
     "elapsed": 1046,
     "status": "ok",
     "timestamp": 1601670467563,
     "user": {
      "displayName": "Jonathan Loscalzo",
      "photoUrl": "https://lh3.googleusercontent.com/a-/AOh14GivbM-9DpHz0-Jl7KXptCwUFRftS0nHXTawHVNVGg=s64",
      "userId": "01585398269152205627"
     },
     "user_tz": 180
    },
    "id": "DGbnEJGQTuX1",
    "outputId": "c758590f-bad9-4b6c-c3c4-c443d2b71848"
   },
   "outputs": [
    {
     "data": {
      "text/plain": [
       "'Which of the following describe you? Please select all that apply.'"
      ]
     },
     "execution_count": 63,
     "metadata": {},
     "output_type": "execute_result"
    }
   ],
   "source": [
    "schema.DevType"
   ]
  },
  {
   "cell_type": "code",
   "execution_count": 64,
   "metadata": {
    "colab": {
     "base_uri": "https://localhost:8080/",
     "height": 230
    },
    "executionInfo": {
     "elapsed": 717,
     "status": "ok",
     "timestamp": 1601670467570,
     "user": {
      "displayName": "Jonathan Loscalzo",
      "photoUrl": "https://lh3.googleusercontent.com/a-/AOh14GivbM-9DpHz0-Jl7KXptCwUFRftS0nHXTawHVNVGg=s64",
      "userId": "01585398269152205627"
     },
     "user_tz": 180
    },
    "id": "SVonA6YcTuX_",
    "outputId": "c1d0765c-692c-45e7-963b-8d419007f1e3"
   },
   "outputs": [
    {
     "data": {
      "text/plain": [
       "Developer, full-stack                                                                                                                                                                                                                                                                                                                                                        4308\n",
       "Developer, back-end                                                                                                                                                                                                                                                                                                                                                          2913\n",
       "Developer, back-end;Developer, front-end;Developer, full-stack                                                                                                                                                                                                                                                                                                               2143\n",
       "Developer, back-end;Developer, full-stack                                                                                                                                                                                                                                                                                                                                    1426\n",
       "Developer, front-end                                                                                                                                                                                                                                                                                                                                                         1337\n",
       "                                                                                                                                                                                                                                                                                                                                                                             ... \n",
       "Database administrator;Developer, full-stack;Developer, mobile;Engineer, site reliability;Product manager                                                                                                                                                                                                                                                                       1\n",
       "Data scientist or machine learning specialist;Database administrator;Designer;Developer, back-end;Developer, desktop or enterprise applications;Developer, embedded applications or devices;Developer, front-end;Developer, full-stack;Developer, game or graphics;Developer, mobile;Developer, QA or test;DevOps specialist;Educator;Engineer, data;System administrator       1\n",
       "Data or business analyst;Database administrator;Developer, back-end;Developer, desktop or enterprise applications;Developer, full-stack;DevOps specialist;Engineering manager;Product manager;System administrator                                                                                                                                                              1\n",
       "Data or business analyst;Database administrator;Developer, desktop or enterprise applications;Developer, full-stack;DevOps specialist;Engineer, data;Engineer, site reliability;Engineering manager;Product manager;Senior executive/VP;System administrator                                                                                                                    1\n",
       "Database administrator;Developer, full-stack;Developer, QA or test;Engineer, data;Marketing or sales professional;System administrator                                                                                                                                                                                                                                          1\n",
       "Name: DevType, Length: 8031, dtype: int64"
      ]
     },
     "execution_count": 64,
     "metadata": {},
     "output_type": "execute_result"
    }
   ],
   "source": [
    "survey_df.DevType.value_counts()"
   ]
  },
  {
   "cell_type": "markdown",
   "metadata": {
    "id": "uKzZyCa6TuYD"
   },
   "source": [
    "Let's define a helper function which turns a column containing lists of values (like `survey_df.DevType`) into a data frame with one column for each possible option."
   ]
  },
  {
   "cell_type": "code",
   "execution_count": 65,
   "metadata": {
    "executionInfo": {
     "elapsed": 661,
     "status": "ok",
     "timestamp": 1601671138561,
     "user": {
      "displayName": "Jonathan Loscalzo",
      "photoUrl": "https://lh3.googleusercontent.com/a-/AOh14GivbM-9DpHz0-Jl7KXptCwUFRftS0nHXTawHVNVGg=s64",
      "userId": "01585398269152205627"
     },
     "user_tz": 180
    },
    "id": "juLVXzX1TuYE"
   },
   "outputs": [],
   "source": [
    "from toolz import pipe, partial\n",
    "\n",
    "def split_multicolumn(col_series):\n",
    "    result_df = col_series.to_frame()\n",
    "    options = []\n",
    "    # Iterate over the column\n",
    "    for idx, value  in col_series[col_series.notnull()].iteritems():\n",
    "        # Break each value into list of options\n",
    "        for option in pipe(value, lambda values: values.split(';'), partial(map, str.strip)):\n",
    "            # Add the option as a column to result\n",
    "            if not option in result_df.columns:\n",
    "                options.append(option.strip())\n",
    "                result_df[option] = False\n",
    "            # Mark the value in the option column as True\n",
    "            result_df.at[idx, option] = True\n",
    "    return result_df[options]"
   ]
  },
  {
   "cell_type": "code",
   "execution_count": 66,
   "metadata": {
    "executionInfo": {
     "elapsed": 2439,
     "status": "ok",
     "timestamp": 1601671141338,
     "user": {
      "displayName": "Jonathan Loscalzo",
      "photoUrl": "https://lh3.googleusercontent.com/a-/AOh14GivbM-9DpHz0-Jl7KXptCwUFRftS0nHXTawHVNVGg=s64",
      "userId": "01585398269152205627"
     },
     "user_tz": 180
    },
    "id": "UhlJCDVLTuYJ"
   },
   "outputs": [],
   "source": [
    "dev_type_df = split_multicolumn(survey_df.DevType)"
   ]
  },
  {
   "cell_type": "code",
   "execution_count": 67,
   "metadata": {
    "colab": {
     "base_uri": "https://localhost:8080/",
     "height": 493
    },
    "executionInfo": {
     "elapsed": 774,
     "status": "ok",
     "timestamp": 1601671143686,
     "user": {
      "displayName": "Jonathan Loscalzo",
      "photoUrl": "https://lh3.googleusercontent.com/a-/AOh14GivbM-9DpHz0-Jl7KXptCwUFRftS0nHXTawHVNVGg=s64",
      "userId": "01585398269152205627"
     },
     "user_tz": 180
    },
    "id": "yaX84HydTuYM",
    "outputId": "04409492-d8ab-4466-87b8-36648fd7fc44"
   },
   "outputs": [
    {
     "data": {
      "text/html": [
       "<div>\n",
       "<style scoped>\n",
       "    .dataframe tbody tr th:only-of-type {\n",
       "        vertical-align: middle;\n",
       "    }\n",
       "\n",
       "    .dataframe tbody tr th {\n",
       "        vertical-align: top;\n",
       "    }\n",
       "\n",
       "    .dataframe thead th {\n",
       "        text-align: right;\n",
       "    }\n",
       "</style>\n",
       "<table border=\"1\" class=\"dataframe\">\n",
       "  <thead>\n",
       "    <tr style=\"text-align: right;\">\n",
       "      <th></th>\n",
       "      <th>Developer, desktop or enterprise applications</th>\n",
       "      <th>Developer, full-stack</th>\n",
       "      <th>Designer</th>\n",
       "      <th>Developer, front-end</th>\n",
       "      <th>Developer, mobile</th>\n",
       "      <th>Developer, back-end</th>\n",
       "      <th>Developer, embedded applications or devices</th>\n",
       "      <th>Developer, QA or test</th>\n",
       "      <th>Educator</th>\n",
       "      <th>DevOps specialist</th>\n",
       "      <th>...</th>\n",
       "      <th>Database administrator</th>\n",
       "      <th>Engineer, data</th>\n",
       "      <th>Scientist</th>\n",
       "      <th>Engineer, site reliability</th>\n",
       "      <th>Engineering manager</th>\n",
       "      <th>System administrator</th>\n",
       "      <th>Developer, game or graphics</th>\n",
       "      <th>Senior executive/VP</th>\n",
       "      <th>Product manager</th>\n",
       "      <th>Marketing or sales professional</th>\n",
       "    </tr>\n",
       "  </thead>\n",
       "  <tbody>\n",
       "    <tr>\n",
       "      <th>0</th>\n",
       "      <td>True</td>\n",
       "      <td>True</td>\n",
       "      <td>False</td>\n",
       "      <td>False</td>\n",
       "      <td>False</td>\n",
       "      <td>False</td>\n",
       "      <td>False</td>\n",
       "      <td>False</td>\n",
       "      <td>False</td>\n",
       "      <td>False</td>\n",
       "      <td>...</td>\n",
       "      <td>False</td>\n",
       "      <td>False</td>\n",
       "      <td>False</td>\n",
       "      <td>False</td>\n",
       "      <td>False</td>\n",
       "      <td>False</td>\n",
       "      <td>False</td>\n",
       "      <td>False</td>\n",
       "      <td>False</td>\n",
       "      <td>False</td>\n",
       "    </tr>\n",
       "    <tr>\n",
       "      <th>1</th>\n",
       "      <td>False</td>\n",
       "      <td>False</td>\n",
       "      <td>True</td>\n",
       "      <td>True</td>\n",
       "      <td>True</td>\n",
       "      <td>False</td>\n",
       "      <td>False</td>\n",
       "      <td>False</td>\n",
       "      <td>False</td>\n",
       "      <td>False</td>\n",
       "      <td>...</td>\n",
       "      <td>False</td>\n",
       "      <td>False</td>\n",
       "      <td>False</td>\n",
       "      <td>False</td>\n",
       "      <td>False</td>\n",
       "      <td>False</td>\n",
       "      <td>False</td>\n",
       "      <td>False</td>\n",
       "      <td>False</td>\n",
       "      <td>False</td>\n",
       "    </tr>\n",
       "    <tr>\n",
       "      <th>2</th>\n",
       "      <td>True</td>\n",
       "      <td>False</td>\n",
       "      <td>False</td>\n",
       "      <td>False</td>\n",
       "      <td>False</td>\n",
       "      <td>True</td>\n",
       "      <td>True</td>\n",
       "      <td>True</td>\n",
       "      <td>True</td>\n",
       "      <td>False</td>\n",
       "      <td>...</td>\n",
       "      <td>False</td>\n",
       "      <td>False</td>\n",
       "      <td>False</td>\n",
       "      <td>False</td>\n",
       "      <td>False</td>\n",
       "      <td>False</td>\n",
       "      <td>False</td>\n",
       "      <td>False</td>\n",
       "      <td>False</td>\n",
       "      <td>False</td>\n",
       "    </tr>\n",
       "    <tr>\n",
       "      <th>3</th>\n",
       "      <td>False</td>\n",
       "      <td>False</td>\n",
       "      <td>False</td>\n",
       "      <td>False</td>\n",
       "      <td>False</td>\n",
       "      <td>True</td>\n",
       "      <td>False</td>\n",
       "      <td>False</td>\n",
       "      <td>False</td>\n",
       "      <td>False</td>\n",
       "      <td>...</td>\n",
       "      <td>False</td>\n",
       "      <td>False</td>\n",
       "      <td>False</td>\n",
       "      <td>False</td>\n",
       "      <td>False</td>\n",
       "      <td>False</td>\n",
       "      <td>False</td>\n",
       "      <td>False</td>\n",
       "      <td>False</td>\n",
       "      <td>False</td>\n",
       "    </tr>\n",
       "    <tr>\n",
       "      <th>4</th>\n",
       "      <td>False</td>\n",
       "      <td>True</td>\n",
       "      <td>False</td>\n",
       "      <td>False</td>\n",
       "      <td>False</td>\n",
       "      <td>True</td>\n",
       "      <td>False</td>\n",
       "      <td>False</td>\n",
       "      <td>False</td>\n",
       "      <td>False</td>\n",
       "      <td>...</td>\n",
       "      <td>False</td>\n",
       "      <td>False</td>\n",
       "      <td>False</td>\n",
       "      <td>False</td>\n",
       "      <td>False</td>\n",
       "      <td>False</td>\n",
       "      <td>False</td>\n",
       "      <td>False</td>\n",
       "      <td>False</td>\n",
       "      <td>False</td>\n",
       "    </tr>\n",
       "    <tr>\n",
       "      <th>...</th>\n",
       "      <td>...</td>\n",
       "      <td>...</td>\n",
       "      <td>...</td>\n",
       "      <td>...</td>\n",
       "      <td>...</td>\n",
       "      <td>...</td>\n",
       "      <td>...</td>\n",
       "      <td>...</td>\n",
       "      <td>...</td>\n",
       "      <td>...</td>\n",
       "      <td>...</td>\n",
       "      <td>...</td>\n",
       "      <td>...</td>\n",
       "      <td>...</td>\n",
       "      <td>...</td>\n",
       "      <td>...</td>\n",
       "      <td>...</td>\n",
       "      <td>...</td>\n",
       "      <td>...</td>\n",
       "      <td>...</td>\n",
       "      <td>...</td>\n",
       "    </tr>\n",
       "    <tr>\n",
       "      <th>61479</th>\n",
       "      <td>False</td>\n",
       "      <td>False</td>\n",
       "      <td>False</td>\n",
       "      <td>False</td>\n",
       "      <td>True</td>\n",
       "      <td>False</td>\n",
       "      <td>False</td>\n",
       "      <td>False</td>\n",
       "      <td>False</td>\n",
       "      <td>False</td>\n",
       "      <td>...</td>\n",
       "      <td>False</td>\n",
       "      <td>False</td>\n",
       "      <td>False</td>\n",
       "      <td>False</td>\n",
       "      <td>False</td>\n",
       "      <td>False</td>\n",
       "      <td>False</td>\n",
       "      <td>False</td>\n",
       "      <td>False</td>\n",
       "      <td>False</td>\n",
       "    </tr>\n",
       "    <tr>\n",
       "      <th>61480</th>\n",
       "      <td>False</td>\n",
       "      <td>False</td>\n",
       "      <td>False</td>\n",
       "      <td>False</td>\n",
       "      <td>False</td>\n",
       "      <td>False</td>\n",
       "      <td>False</td>\n",
       "      <td>False</td>\n",
       "      <td>False</td>\n",
       "      <td>False</td>\n",
       "      <td>...</td>\n",
       "      <td>False</td>\n",
       "      <td>False</td>\n",
       "      <td>False</td>\n",
       "      <td>False</td>\n",
       "      <td>False</td>\n",
       "      <td>False</td>\n",
       "      <td>False</td>\n",
       "      <td>False</td>\n",
       "      <td>False</td>\n",
       "      <td>False</td>\n",
       "    </tr>\n",
       "    <tr>\n",
       "      <th>61481</th>\n",
       "      <td>False</td>\n",
       "      <td>False</td>\n",
       "      <td>False</td>\n",
       "      <td>False</td>\n",
       "      <td>False</td>\n",
       "      <td>False</td>\n",
       "      <td>False</td>\n",
       "      <td>True</td>\n",
       "      <td>False</td>\n",
       "      <td>False</td>\n",
       "      <td>...</td>\n",
       "      <td>False</td>\n",
       "      <td>False</td>\n",
       "      <td>False</td>\n",
       "      <td>False</td>\n",
       "      <td>False</td>\n",
       "      <td>False</td>\n",
       "      <td>False</td>\n",
       "      <td>False</td>\n",
       "      <td>False</td>\n",
       "      <td>False</td>\n",
       "    </tr>\n",
       "    <tr>\n",
       "      <th>61482</th>\n",
       "      <td>False</td>\n",
       "      <td>False</td>\n",
       "      <td>False</td>\n",
       "      <td>False</td>\n",
       "      <td>False</td>\n",
       "      <td>False</td>\n",
       "      <td>False</td>\n",
       "      <td>False</td>\n",
       "      <td>False</td>\n",
       "      <td>False</td>\n",
       "      <td>...</td>\n",
       "      <td>False</td>\n",
       "      <td>False</td>\n",
       "      <td>False</td>\n",
       "      <td>False</td>\n",
       "      <td>False</td>\n",
       "      <td>False</td>\n",
       "      <td>False</td>\n",
       "      <td>False</td>\n",
       "      <td>False</td>\n",
       "      <td>False</td>\n",
       "    </tr>\n",
       "    <tr>\n",
       "      <th>61483</th>\n",
       "      <td>False</td>\n",
       "      <td>False</td>\n",
       "      <td>False</td>\n",
       "      <td>False</td>\n",
       "      <td>False</td>\n",
       "      <td>False</td>\n",
       "      <td>False</td>\n",
       "      <td>False</td>\n",
       "      <td>False</td>\n",
       "      <td>False</td>\n",
       "      <td>...</td>\n",
       "      <td>False</td>\n",
       "      <td>False</td>\n",
       "      <td>False</td>\n",
       "      <td>False</td>\n",
       "      <td>False</td>\n",
       "      <td>False</td>\n",
       "      <td>False</td>\n",
       "      <td>False</td>\n",
       "      <td>False</td>\n",
       "      <td>False</td>\n",
       "    </tr>\n",
       "  </tbody>\n",
       "</table>\n",
       "<p>61484 rows × 23 columns</p>\n",
       "</div>"
      ],
      "text/plain": [
       "       Developer, desktop or enterprise applications  Developer, full-stack  \\\n",
       "0                                               True                   True   \n",
       "1                                              False                  False   \n",
       "2                                               True                  False   \n",
       "3                                              False                  False   \n",
       "4                                              False                   True   \n",
       "...                                              ...                    ...   \n",
       "61479                                          False                  False   \n",
       "61480                                          False                  False   \n",
       "61481                                          False                  False   \n",
       "61482                                          False                  False   \n",
       "61483                                          False                  False   \n",
       "\n",
       "       Designer  Developer, front-end  Developer, mobile  Developer, back-end  \\\n",
       "0         False                 False              False                False   \n",
       "1          True                  True               True                False   \n",
       "2         False                 False              False                 True   \n",
       "3         False                 False              False                 True   \n",
       "4         False                 False              False                 True   \n",
       "...         ...                   ...                ...                  ...   \n",
       "61479     False                 False               True                False   \n",
       "61480     False                 False              False                False   \n",
       "61481     False                 False              False                False   \n",
       "61482     False                 False              False                False   \n",
       "61483     False                 False              False                False   \n",
       "\n",
       "       Developer, embedded applications or devices  Developer, QA or test  \\\n",
       "0                                            False                  False   \n",
       "1                                            False                  False   \n",
       "2                                             True                   True   \n",
       "3                                            False                  False   \n",
       "4                                            False                  False   \n",
       "...                                            ...                    ...   \n",
       "61479                                        False                  False   \n",
       "61480                                        False                  False   \n",
       "61481                                        False                   True   \n",
       "61482                                        False                  False   \n",
       "61483                                        False                  False   \n",
       "\n",
       "       Educator  DevOps specialist  ...  Database administrator  \\\n",
       "0         False              False  ...                   False   \n",
       "1         False              False  ...                   False   \n",
       "2          True              False  ...                   False   \n",
       "3         False              False  ...                   False   \n",
       "4         False              False  ...                   False   \n",
       "...         ...                ...  ...                     ...   \n",
       "61479     False              False  ...                   False   \n",
       "61480     False              False  ...                   False   \n",
       "61481     False              False  ...                   False   \n",
       "61482     False              False  ...                   False   \n",
       "61483     False              False  ...                   False   \n",
       "\n",
       "       Engineer, data  Scientist  Engineer, site reliability  \\\n",
       "0               False      False                       False   \n",
       "1               False      False                       False   \n",
       "2               False      False                       False   \n",
       "3               False      False                       False   \n",
       "4               False      False                       False   \n",
       "...               ...        ...                         ...   \n",
       "61479           False      False                       False   \n",
       "61480           False      False                       False   \n",
       "61481           False      False                       False   \n",
       "61482           False      False                       False   \n",
       "61483           False      False                       False   \n",
       "\n",
       "       Engineering manager  System administrator  Developer, game or graphics  \\\n",
       "0                    False                 False                        False   \n",
       "1                    False                 False                        False   \n",
       "2                    False                 False                        False   \n",
       "3                    False                 False                        False   \n",
       "4                    False                 False                        False   \n",
       "...                    ...                   ...                          ...   \n",
       "61479                False                 False                        False   \n",
       "61480                False                 False                        False   \n",
       "61481                False                 False                        False   \n",
       "61482                False                 False                        False   \n",
       "61483                False                 False                        False   \n",
       "\n",
       "       Senior executive/VP  Product manager  Marketing or sales professional  \n",
       "0                    False            False                            False  \n",
       "1                    False            False                            False  \n",
       "2                    False            False                            False  \n",
       "3                    False            False                            False  \n",
       "4                    False            False                            False  \n",
       "...                    ...              ...                              ...  \n",
       "61479                False            False                            False  \n",
       "61480                False            False                            False  \n",
       "61481                False            False                            False  \n",
       "61482                False            False                            False  \n",
       "61483                False            False                            False  \n",
       "\n",
       "[61484 rows x 23 columns]"
      ]
     },
     "execution_count": 67,
     "metadata": {},
     "output_type": "execute_result"
    }
   ],
   "source": [
    "dev_type_df"
   ]
  },
  {
   "cell_type": "markdown",
   "metadata": {
    "id": "cxqkLi5YTuYP"
   },
   "source": [
    "The `dev_type_df` has one column for each option that can be selected as a response. If a responded has selected the option, the value in the column is `True`, otherwise it is false.\n",
    "\n",
    "We can now use the column-wise totals to identify the most common roles."
   ]
  },
  {
   "cell_type": "code",
   "execution_count": 68,
   "metadata": {
    "colab": {
     "base_uri": "https://localhost:8080/",
     "height": 443
    },
    "executionInfo": {
     "elapsed": 872,
     "status": "ok",
     "timestamp": 1601671154116,
     "user": {
      "displayName": "Jonathan Loscalzo",
      "photoUrl": "https://lh3.googleusercontent.com/a-/AOh14GivbM-9DpHz0-Jl7KXptCwUFRftS0nHXTawHVNVGg=s64",
      "userId": "01585398269152205627"
     },
     "user_tz": 180
    },
    "id": "3EfHdliDTuYR",
    "outputId": "7beef98b-3d91-4869-dec9-933214248853"
   },
   "outputs": [
    {
     "data": {
      "text/plain": [
       "Developer, full-stack                            26198\n",
       "Developer, back-end                              26088\n",
       "Developer, front-end                             17609\n",
       "Developer, desktop or enterprise applications    11303\n",
       "Developer, mobile                                 9082\n",
       "DevOps specialist                                 5747\n",
       "Database administrator                            5488\n",
       "Designer                                          5148\n",
       "System administrator                              5030\n",
       "Developer, embedded applications or devices       4551\n",
       "Data or business analyst                          3848\n",
       "Data scientist or machine learning specialist     3807\n",
       "Developer, QA or test                             3791\n",
       "Engineer, data                                    3581\n",
       "Academic researcher                               3382\n",
       "Educator                                          2784\n",
       "Engineering manager                               2640\n",
       "Developer, game or graphics                       2626\n",
       "Product manager                                   2391\n",
       "Scientist                                         1997\n",
       "Engineer, site reliability                        1880\n",
       "Senior executive/VP                               1262\n",
       "Marketing or sales professional                    605\n",
       "dtype: int64"
      ]
     },
     "execution_count": 68,
     "metadata": {},
     "output_type": "execute_result"
    }
   ],
   "source": [
    "dev_type_totals = dev_type_df.sum().sort_values(ascending=False)\n",
    "dev_type_totals"
   ]
  },
  {
   "cell_type": "markdown",
   "metadata": {
    "id": "KwNWvYQdTuYX"
   },
   "source": [
    "As one might expect, the most common roles include \"Developer\" in the name. \n",
    "\n",
    "**Exercises**: \n",
    "\n",
    "* Can you figure out what percentage of respondents work in roles related to data science? \n",
    "* Which role has the highest percentage of women?"
   ]
  },
  {
   "cell_type": "markdown",
   "metadata": {
    "id": "_3wE4nqDTuYY"
   },
   "source": [
    "We've only explore a handful of columns from the 20 columns that we selected. Explore and visualize the remaining columns using the empty cells below."
   ]
  },
  {
   "cell_type": "code",
   "execution_count": null,
   "metadata": {
    "id": "2vDuzUdfTuYZ"
   },
   "outputs": [],
   "source": []
  },
  {
   "cell_type": "code",
   "execution_count": null,
   "metadata": {
    "id": "9gNFhHL8TuYd"
   },
   "outputs": [],
   "source": []
  },
  {
   "cell_type": "code",
   "execution_count": null,
   "metadata": {
    "id": "gBRKxcCbTuYg"
   },
   "outputs": [],
   "source": []
  },
  {
   "cell_type": "markdown",
   "metadata": {
    "id": "l-DUapOJTuYq"
   },
   "source": [
    "Let's save and upload our work before continuing."
   ]
  },
  {
   "cell_type": "code",
   "execution_count": 69,
   "metadata": {
    "id": "Xe2jWv89TuYs"
   },
   "outputs": [],
   "source": [
    "import jovian"
   ]
  },
  {
   "cell_type": "code",
   "execution_count": 221,
   "metadata": {
    "colab": {
     "base_uri": "https://localhost:8080/",
     "height": 88
    },
    "executionInfo": {
     "elapsed": 3376,
     "status": "ok",
     "timestamp": 1601671182576,
     "user": {
      "displayName": "Jonathan Loscalzo",
      "photoUrl": "https://lh3.googleusercontent.com/a-/AOh14GivbM-9DpHz0-Jl7KXptCwUFRftS0nHXTawHVNVGg=s64",
      "userId": "01585398269152205627"
     },
     "user_tz": 180
    },
    "id": "IFefzlXUTuYz",
    "outputId": "417d8a54-6d75-44f7-86da-a1a1d5c41bbf"
   },
   "outputs": [
    {
     "name": "stdout",
     "output_type": "stream",
     "text": [
      "[jovian] Detected Colab notebook...\u001b[0m\n",
      "[jovian] Uploading colab notebook to Jovian...\u001b[0m\n",
      "[jovian] Committed successfully! https://jovian.ml/jonathanloscalzo/python-eda-stackoverflow-survey\u001b[0m\n"
     ]
    },
    {
     "data": {
      "application/vnd.google.colaboratory.intrinsic+json": {
       "type": "string"
      },
      "text/plain": [
       "'https://jovian.ml/jonathanloscalzo/python-eda-stackoverflow-survey'"
      ]
     },
     "execution_count": 221,
     "metadata": {
      "tags": []
     },
     "output_type": "execute_result"
    }
   ],
   "source": [
    "jovian.commit(project=project)"
   ]
  },
  {
   "cell_type": "markdown",
   "metadata": {
    "id": "NMTLXklZTuY5"
   },
   "source": [
    "## Asking and Answering Questions\n",
    "\n",
    "We've already gained several insights about the respondents and the programming community in general, simply by exploring individual columns of the dataset. Let's ask some specific questions, and try to answer them using data frame operations and interesting visualizations."
   ]
  },
  {
   "cell_type": "markdown",
   "metadata": {
    "id": "bErICmKzTuY6"
   },
   "source": [
    "#### Q: Which were the most popular programming languages in 2020? \n",
    "\n",
    "To answer, this we can use the `LanguageWorkedWith` column. Similar to `DevType` respondents were allowed to choose multiple options here."
   ]
  },
  {
   "cell_type": "code",
   "execution_count": 70,
   "metadata": {
    "colab": {
     "base_uri": "https://localhost:8080/",
     "height": 230
    },
    "executionInfo": {
     "elapsed": 759,
     "status": "ok",
     "timestamp": 1601671238775,
     "user": {
      "displayName": "Jonathan Loscalzo",
      "photoUrl": "https://lh3.googleusercontent.com/a-/AOh14GivbM-9DpHz0-Jl7KXptCwUFRftS0nHXTawHVNVGg=s64",
      "userId": "01585398269152205627"
     },
     "user_tz": 180
    },
    "id": "Enh3-2-8TuY6",
    "outputId": "c2f2d655-6765-4c63-fc6f-f5446aa4b149"
   },
   "outputs": [
    {
     "data": {
      "text/plain": [
       "0                                   C#;HTML/CSS;JavaScript\n",
       "1                                 HTML/CSS;Java;JavaScript\n",
       "2                             Bash/Shell/PowerShell;C#;C++\n",
       "3                Bash/Shell/PowerShell;Java;Kotlin;PHP;SQL\n",
       "4                  HTML/CSS;Java;JavaScript;SQL;TypeScript\n",
       "                               ...                        \n",
       "61479                                             C++;Java\n",
       "61480                                                  NaN\n",
       "61481                            C;Java;JavaScript;PHP;SQL\n",
       "61482    Bash/Shell/PowerShell;C++;HTML/CSS;Java;JavaSc...\n",
       "61483                                             Assembly\n",
       "Name: LanguageWorkedWith, Length: 61484, dtype: object"
      ]
     },
     "execution_count": 70,
     "metadata": {},
     "output_type": "execute_result"
    }
   ],
   "source": [
    "survey_df.LanguageWorkedWith"
   ]
  },
  {
   "cell_type": "markdown",
   "metadata": {
    "id": "rFhKfHB8TuY_"
   },
   "source": [
    "First, we'll split this column into a data frame containing a column of each languages listed in the options."
   ]
  },
  {
   "cell_type": "code",
   "execution_count": 71,
   "metadata": {
    "executionInfo": {
     "elapsed": 4607,
     "status": "ok",
     "timestamp": 1601671248034,
     "user": {
      "displayName": "Jonathan Loscalzo",
      "photoUrl": "https://lh3.googleusercontent.com/a-/AOh14GivbM-9DpHz0-Jl7KXptCwUFRftS0nHXTawHVNVGg=s64",
      "userId": "01585398269152205627"
     },
     "user_tz": 180
    },
    "id": "BgWGO4jLTuZA"
   },
   "outputs": [],
   "source": [
    "languages_worked_df = split_multicolumn(survey_df.LanguageWorkedWith)"
   ]
  },
  {
   "cell_type": "code",
   "execution_count": 72,
   "metadata": {
    "colab": {
     "base_uri": "https://localhost:8080/",
     "height": 406
    },
    "executionInfo": {
     "elapsed": 674,
     "status": "ok",
     "timestamp": 1601671280986,
     "user": {
      "displayName": "Jonathan Loscalzo",
      "photoUrl": "https://lh3.googleusercontent.com/a-/AOh14GivbM-9DpHz0-Jl7KXptCwUFRftS0nHXTawHVNVGg=s64",
      "userId": "01585398269152205627"
     },
     "user_tz": 180
    },
    "id": "PUmyTW4ZTuZD",
    "outputId": "95722817-cf2c-4d10-8f6c-104336a9faad"
   },
   "outputs": [
    {
     "data": {
      "text/html": [
       "<div>\n",
       "<style scoped>\n",
       "    .dataframe tbody tr th:only-of-type {\n",
       "        vertical-align: middle;\n",
       "    }\n",
       "\n",
       "    .dataframe tbody tr th {\n",
       "        vertical-align: top;\n",
       "    }\n",
       "\n",
       "    .dataframe thead th {\n",
       "        text-align: right;\n",
       "    }\n",
       "</style>\n",
       "<table border=\"1\" class=\"dataframe\">\n",
       "  <thead>\n",
       "    <tr style=\"text-align: right;\">\n",
       "      <th></th>\n",
       "      <th>C#</th>\n",
       "      <th>HTML/CSS</th>\n",
       "      <th>JavaScript</th>\n",
       "      <th>Java</th>\n",
       "      <th>Bash/Shell/PowerShell</th>\n",
       "      <th>C++</th>\n",
       "      <th>Kotlin</th>\n",
       "      <th>PHP</th>\n",
       "      <th>SQL</th>\n",
       "      <th>TypeScript</th>\n",
       "      <th>...</th>\n",
       "      <th>Rust</th>\n",
       "      <th>R</th>\n",
       "      <th>Dart</th>\n",
       "      <th>Perl</th>\n",
       "      <th>Scala</th>\n",
       "      <th>VBA</th>\n",
       "      <th>Objective-C</th>\n",
       "      <th>Swift</th>\n",
       "      <th>Haskell</th>\n",
       "      <th>Julia</th>\n",
       "    </tr>\n",
       "  </thead>\n",
       "  <tbody>\n",
       "    <tr>\n",
       "      <th>0</th>\n",
       "      <td>True</td>\n",
       "      <td>True</td>\n",
       "      <td>True</td>\n",
       "      <td>False</td>\n",
       "      <td>False</td>\n",
       "      <td>False</td>\n",
       "      <td>False</td>\n",
       "      <td>False</td>\n",
       "      <td>False</td>\n",
       "      <td>False</td>\n",
       "      <td>...</td>\n",
       "      <td>False</td>\n",
       "      <td>False</td>\n",
       "      <td>False</td>\n",
       "      <td>False</td>\n",
       "      <td>False</td>\n",
       "      <td>False</td>\n",
       "      <td>False</td>\n",
       "      <td>False</td>\n",
       "      <td>False</td>\n",
       "      <td>False</td>\n",
       "    </tr>\n",
       "    <tr>\n",
       "      <th>1</th>\n",
       "      <td>False</td>\n",
       "      <td>True</td>\n",
       "      <td>True</td>\n",
       "      <td>True</td>\n",
       "      <td>False</td>\n",
       "      <td>False</td>\n",
       "      <td>False</td>\n",
       "      <td>False</td>\n",
       "      <td>False</td>\n",
       "      <td>False</td>\n",
       "      <td>...</td>\n",
       "      <td>False</td>\n",
       "      <td>False</td>\n",
       "      <td>False</td>\n",
       "      <td>False</td>\n",
       "      <td>False</td>\n",
       "      <td>False</td>\n",
       "      <td>False</td>\n",
       "      <td>False</td>\n",
       "      <td>False</td>\n",
       "      <td>False</td>\n",
       "    </tr>\n",
       "    <tr>\n",
       "      <th>2</th>\n",
       "      <td>True</td>\n",
       "      <td>False</td>\n",
       "      <td>False</td>\n",
       "      <td>False</td>\n",
       "      <td>True</td>\n",
       "      <td>True</td>\n",
       "      <td>False</td>\n",
       "      <td>False</td>\n",
       "      <td>False</td>\n",
       "      <td>False</td>\n",
       "      <td>...</td>\n",
       "      <td>False</td>\n",
       "      <td>False</td>\n",
       "      <td>False</td>\n",
       "      <td>False</td>\n",
       "      <td>False</td>\n",
       "      <td>False</td>\n",
       "      <td>False</td>\n",
       "      <td>False</td>\n",
       "      <td>False</td>\n",
       "      <td>False</td>\n",
       "    </tr>\n",
       "    <tr>\n",
       "      <th>3</th>\n",
       "      <td>False</td>\n",
       "      <td>False</td>\n",
       "      <td>False</td>\n",
       "      <td>True</td>\n",
       "      <td>True</td>\n",
       "      <td>False</td>\n",
       "      <td>True</td>\n",
       "      <td>True</td>\n",
       "      <td>True</td>\n",
       "      <td>False</td>\n",
       "      <td>...</td>\n",
       "      <td>False</td>\n",
       "      <td>False</td>\n",
       "      <td>False</td>\n",
       "      <td>False</td>\n",
       "      <td>False</td>\n",
       "      <td>False</td>\n",
       "      <td>False</td>\n",
       "      <td>False</td>\n",
       "      <td>False</td>\n",
       "      <td>False</td>\n",
       "    </tr>\n",
       "    <tr>\n",
       "      <th>4</th>\n",
       "      <td>False</td>\n",
       "      <td>True</td>\n",
       "      <td>True</td>\n",
       "      <td>True</td>\n",
       "      <td>False</td>\n",
       "      <td>False</td>\n",
       "      <td>False</td>\n",
       "      <td>False</td>\n",
       "      <td>True</td>\n",
       "      <td>True</td>\n",
       "      <td>...</td>\n",
       "      <td>False</td>\n",
       "      <td>False</td>\n",
       "      <td>False</td>\n",
       "      <td>False</td>\n",
       "      <td>False</td>\n",
       "      <td>False</td>\n",
       "      <td>False</td>\n",
       "      <td>False</td>\n",
       "      <td>False</td>\n",
       "      <td>False</td>\n",
       "    </tr>\n",
       "    <tr>\n",
       "      <th>...</th>\n",
       "      <td>...</td>\n",
       "      <td>...</td>\n",
       "      <td>...</td>\n",
       "      <td>...</td>\n",
       "      <td>...</td>\n",
       "      <td>...</td>\n",
       "      <td>...</td>\n",
       "      <td>...</td>\n",
       "      <td>...</td>\n",
       "      <td>...</td>\n",
       "      <td>...</td>\n",
       "      <td>...</td>\n",
       "      <td>...</td>\n",
       "      <td>...</td>\n",
       "      <td>...</td>\n",
       "      <td>...</td>\n",
       "      <td>...</td>\n",
       "      <td>...</td>\n",
       "      <td>...</td>\n",
       "      <td>...</td>\n",
       "      <td>...</td>\n",
       "    </tr>\n",
       "    <tr>\n",
       "      <th>61479</th>\n",
       "      <td>False</td>\n",
       "      <td>False</td>\n",
       "      <td>False</td>\n",
       "      <td>True</td>\n",
       "      <td>False</td>\n",
       "      <td>True</td>\n",
       "      <td>False</td>\n",
       "      <td>False</td>\n",
       "      <td>False</td>\n",
       "      <td>False</td>\n",
       "      <td>...</td>\n",
       "      <td>False</td>\n",
       "      <td>False</td>\n",
       "      <td>False</td>\n",
       "      <td>False</td>\n",
       "      <td>False</td>\n",
       "      <td>False</td>\n",
       "      <td>False</td>\n",
       "      <td>False</td>\n",
       "      <td>False</td>\n",
       "      <td>False</td>\n",
       "    </tr>\n",
       "    <tr>\n",
       "      <th>61480</th>\n",
       "      <td>False</td>\n",
       "      <td>False</td>\n",
       "      <td>False</td>\n",
       "      <td>False</td>\n",
       "      <td>False</td>\n",
       "      <td>False</td>\n",
       "      <td>False</td>\n",
       "      <td>False</td>\n",
       "      <td>False</td>\n",
       "      <td>False</td>\n",
       "      <td>...</td>\n",
       "      <td>False</td>\n",
       "      <td>False</td>\n",
       "      <td>False</td>\n",
       "      <td>False</td>\n",
       "      <td>False</td>\n",
       "      <td>False</td>\n",
       "      <td>False</td>\n",
       "      <td>False</td>\n",
       "      <td>False</td>\n",
       "      <td>False</td>\n",
       "    </tr>\n",
       "    <tr>\n",
       "      <th>61481</th>\n",
       "      <td>False</td>\n",
       "      <td>False</td>\n",
       "      <td>True</td>\n",
       "      <td>True</td>\n",
       "      <td>False</td>\n",
       "      <td>False</td>\n",
       "      <td>False</td>\n",
       "      <td>True</td>\n",
       "      <td>True</td>\n",
       "      <td>False</td>\n",
       "      <td>...</td>\n",
       "      <td>False</td>\n",
       "      <td>False</td>\n",
       "      <td>False</td>\n",
       "      <td>False</td>\n",
       "      <td>False</td>\n",
       "      <td>False</td>\n",
       "      <td>False</td>\n",
       "      <td>False</td>\n",
       "      <td>False</td>\n",
       "      <td>False</td>\n",
       "    </tr>\n",
       "    <tr>\n",
       "      <th>61482</th>\n",
       "      <td>False</td>\n",
       "      <td>True</td>\n",
       "      <td>True</td>\n",
       "      <td>True</td>\n",
       "      <td>True</td>\n",
       "      <td>True</td>\n",
       "      <td>False</td>\n",
       "      <td>True</td>\n",
       "      <td>True</td>\n",
       "      <td>False</td>\n",
       "      <td>...</td>\n",
       "      <td>False</td>\n",
       "      <td>False</td>\n",
       "      <td>False</td>\n",
       "      <td>False</td>\n",
       "      <td>False</td>\n",
       "      <td>False</td>\n",
       "      <td>False</td>\n",
       "      <td>False</td>\n",
       "      <td>False</td>\n",
       "      <td>False</td>\n",
       "    </tr>\n",
       "    <tr>\n",
       "      <th>61483</th>\n",
       "      <td>False</td>\n",
       "      <td>False</td>\n",
       "      <td>False</td>\n",
       "      <td>False</td>\n",
       "      <td>False</td>\n",
       "      <td>False</td>\n",
       "      <td>False</td>\n",
       "      <td>False</td>\n",
       "      <td>False</td>\n",
       "      <td>False</td>\n",
       "      <td>...</td>\n",
       "      <td>False</td>\n",
       "      <td>False</td>\n",
       "      <td>False</td>\n",
       "      <td>False</td>\n",
       "      <td>False</td>\n",
       "      <td>False</td>\n",
       "      <td>False</td>\n",
       "      <td>False</td>\n",
       "      <td>False</td>\n",
       "      <td>False</td>\n",
       "    </tr>\n",
       "  </tbody>\n",
       "</table>\n",
       "<p>61484 rows × 25 columns</p>\n",
       "</div>"
      ],
      "text/plain": [
       "          C#  HTML/CSS  JavaScript   Java  Bash/Shell/PowerShell    C++  \\\n",
       "0       True      True        True  False                  False  False   \n",
       "1      False      True        True   True                  False  False   \n",
       "2       True     False       False  False                   True   True   \n",
       "3      False     False       False   True                   True  False   \n",
       "4      False      True        True   True                  False  False   \n",
       "...      ...       ...         ...    ...                    ...    ...   \n",
       "61479  False     False       False   True                  False   True   \n",
       "61480  False     False       False  False                  False  False   \n",
       "61481  False     False        True   True                  False  False   \n",
       "61482  False      True        True   True                   True   True   \n",
       "61483  False     False       False  False                  False  False   \n",
       "\n",
       "       Kotlin    PHP    SQL  TypeScript  ...   Rust      R   Dart   Perl  \\\n",
       "0       False  False  False       False  ...  False  False  False  False   \n",
       "1       False  False  False       False  ...  False  False  False  False   \n",
       "2       False  False  False       False  ...  False  False  False  False   \n",
       "3        True   True   True       False  ...  False  False  False  False   \n",
       "4       False  False   True        True  ...  False  False  False  False   \n",
       "...       ...    ...    ...         ...  ...    ...    ...    ...    ...   \n",
       "61479   False  False  False       False  ...  False  False  False  False   \n",
       "61480   False  False  False       False  ...  False  False  False  False   \n",
       "61481   False   True   True       False  ...  False  False  False  False   \n",
       "61482   False   True   True       False  ...  False  False  False  False   \n",
       "61483   False  False  False       False  ...  False  False  False  False   \n",
       "\n",
       "       Scala    VBA  Objective-C  Swift  Haskell  Julia  \n",
       "0      False  False        False  False    False  False  \n",
       "1      False  False        False  False    False  False  \n",
       "2      False  False        False  False    False  False  \n",
       "3      False  False        False  False    False  False  \n",
       "4      False  False        False  False    False  False  \n",
       "...      ...    ...          ...    ...      ...    ...  \n",
       "61479  False  False        False  False    False  False  \n",
       "61480  False  False        False  False    False  False  \n",
       "61481  False  False        False  False    False  False  \n",
       "61482  False  False        False  False    False  False  \n",
       "61483  False  False        False  False    False  False  \n",
       "\n",
       "[61484 rows x 25 columns]"
      ]
     },
     "execution_count": 72,
     "metadata": {},
     "output_type": "execute_result"
    }
   ],
   "source": [
    "languages_worked_df"
   ]
  },
  {
   "cell_type": "markdown",
   "metadata": {
    "id": "WMVa4bNgTuZK"
   },
   "source": [
    "It appears that a total of 25 languages were included among the options. Let's aggregate these to identify the percentage of respondents who selected each language."
   ]
  },
  {
   "cell_type": "code",
   "execution_count": 73,
   "metadata": {
    "colab": {
     "base_uri": "https://localhost:8080/",
     "height": 478
    },
    "executionInfo": {
     "elapsed": 511,
     "status": "ok",
     "timestamp": 1601671282257,
     "user": {
      "displayName": "Jonathan Loscalzo",
      "photoUrl": "https://lh3.googleusercontent.com/a-/AOh14GivbM-9DpHz0-Jl7KXptCwUFRftS0nHXTawHVNVGg=s64",
      "userId": "01585398269152205627"
     },
     "user_tz": 180
    },
    "id": "Wc9NOjXZTuZM",
    "outputId": "8d5d0279-7416-4112-93f4-3ce04acd3546"
   },
   "outputs": [
    {
     "data": {
      "text/plain": [
       "JavaScript               60.809316\n",
       "HTML/CSS                 56.726953\n",
       "SQL                      49.164010\n",
       "Python                   39.546874\n",
       "Java                     36.168759\n",
       "Bash/Shell/PowerShell    29.723180\n",
       "C#                       28.150413\n",
       "PHP                      23.487411\n",
       "TypeScript               22.809186\n",
       "C++                      21.277080\n",
       "C                        19.466853\n",
       "Go                        7.841064\n",
       "Kotlin                    6.897729\n",
       "Ruby                      6.321970\n",
       "Assembly                  5.515256\n",
       "VBA                       5.481101\n",
       "Swift                     5.256652\n",
       "R                         5.168824\n",
       "Rust                      4.528007\n",
       "Objective-C               3.630213\n",
       "Dart                      3.565155\n",
       "Scala                     3.187821\n",
       "Perl                      2.800729\n",
       "Haskell                   1.889923\n",
       "Julia                     0.795329\n",
       "dtype: float64"
      ]
     },
     "execution_count": 73,
     "metadata": {},
     "output_type": "execute_result"
    }
   ],
   "source": [
    "languages_worked_percentages = languages_worked_df.mean().sort_values(ascending=False) * 100\n",
    "languages_worked_percentages"
   ]
  },
  {
   "cell_type": "markdown",
   "metadata": {
    "id": "2VLRPZDLTuZQ"
   },
   "source": [
    "We can plot this information using a horizontal bar chart."
   ]
  },
  {
   "cell_type": "code",
   "execution_count": 74,
   "metadata": {
    "colab": {
     "base_uri": "https://localhost:8080/",
     "height": 797
    },
    "executionInfo": {
     "elapsed": 1262,
     "status": "ok",
     "timestamp": 1601671293386,
     "user": {
      "displayName": "Jonathan Loscalzo",
      "photoUrl": "https://lh3.googleusercontent.com/a-/AOh14GivbM-9DpHz0-Jl7KXptCwUFRftS0nHXTawHVNVGg=s64",
      "userId": "01585398269152205627"
     },
     "user_tz": 180
    },
    "id": "mcGI0_CCTuZQ",
    "outputId": "ba0ab9d9-2e98-4a93-e5b8-5f0b863590a9"
   },
   "outputs": [
    {
     "name": "stderr",
     "output_type": "stream",
     "text": [
      "/home/jloscalzo/.pyenv/versions/3.7.9/lib/python3.7/site-packages/seaborn/_decorators.py:43: FutureWarning: Pass the following variables as keyword args: x, y. From version 0.12, the only valid positional argument will be `data`, and passing other arguments without an explicit keyword will result in an error or misinterpretation.\n",
      "  FutureWarning\n"
     ]
    },
    {
     "data": {
      "image/png": "[encoded data removed]",
      "text/plain": [
       "<Figure size 864x864 with 1 Axes>"
      ]
     },
     "metadata": {
      "needs_background": "light"
     },
     "output_type": "display_data"
    }
   ],
   "source": [
    "plt.figure(figsize=(12, 12))\n",
    "sns.barplot(languages_worked_percentages, languages_worked_percentages.index)\n",
    "plt.title(\"Languages used in the past year\");\n",
    "plt.xlabel('count');"
   ]
  },
  {
   "cell_type": "markdown",
   "metadata": {
    "id": "KySY5tUZTuZg"
   },
   "source": [
    "Perhaps not surprisingly, Javascript & HTML/CSS comes out at the top as web development is one of the most sought skills today and it's also happens to be one of the easiest to get started with. SQL is necessary for working with relational databases, so it's no surprise that most programmers work with SQL on a regular basis. For other forms of development, Python seems be the popular choice, beating out Java, which was the industry standard for server & application development for over 2 decades.\n",
    "\n",
    "**Exercises**:\n",
    "\n",
    "* What are the most common languages used by students? How does the list compare with the most common languages used by professional developers?\n",
    "* What are the most common languages among respondents who do not describe themselves as \"Developer, front-end\"?\n",
    "* What are the most common languages among respondents who work in fields related to data science?\n",
    "* What are the most common languages used by developers older than 35 years of age? \n",
    "* What are the most common languages used by developers in your home country?"
   ]
  },
  {
   "cell_type": "markdown",
   "metadata": {
    "id": "Ybw80dCrTuZh"
   },
   "source": [
    "#### Q: Which languages are the most people interested to learn over the next year?\n",
    "\n",
    "For this we can can use the `LanguageDesireNextYear` column, with similar processing as the previous one."
   ]
  },
  {
   "cell_type": "code",
   "execution_count": 75,
   "metadata": {
    "colab": {
     "base_uri": "https://localhost:8080/",
     "height": 478
    },
    "executionInfo": {
     "elapsed": 2961,
     "status": "ok",
     "timestamp": 1601671320416,
     "user": {
      "displayName": "Jonathan Loscalzo",
      "photoUrl": "https://lh3.googleusercontent.com/a-/AOh14GivbM-9DpHz0-Jl7KXptCwUFRftS0nHXTawHVNVGg=s64",
      "userId": "01585398269152205627"
     },
     "user_tz": 180
    },
    "id": "2lFDeh_KTuZi",
    "outputId": "4d27f932-070e-4028-8503-fd8e92113b33"
   },
   "outputs": [
    {
     "data": {
      "text/plain": [
       "Python                   41.814131\n",
       "JavaScript               41.051330\n",
       "HTML/CSS                 32.592219\n",
       "SQL                      31.250407\n",
       "TypeScript               26.836250\n",
       "C#                       21.316115\n",
       "Java                     20.672045\n",
       "Go                       19.631124\n",
       "Bash/Shell/PowerShell    18.338104\n",
       "Rust                     16.466072\n",
       "C++                      15.107996\n",
       "Kotlin                   14.828248\n",
       "PHP                      11.108581\n",
       "C                         9.452866\n",
       "Swift                     8.751870\n",
       "Dart                      7.371023\n",
       "R                         6.715568\n",
       "Ruby                      6.517143\n",
       "Scala                     5.350986\n",
       "Haskell                   4.604450\n",
       "Assembly                  3.827012\n",
       "Julia                     2.582786\n",
       "Objective-C               2.342073\n",
       "Perl                      1.776072\n",
       "VBA                       1.636198\n",
       "dtype: float64"
      ]
     },
     "execution_count": 75,
     "metadata": {},
     "output_type": "execute_result"
    }
   ],
   "source": [
    "languages_interested_df = split_multicolumn(survey_df.LanguageDesireNextYear)\n",
    "languages_interested_percentages = languages_interested_df.mean().sort_values(ascending=False) * 100\n",
    "languages_interested_percentages"
   ]
  },
  {
   "cell_type": "code",
   "execution_count": 76,
   "metadata": {
    "colab": {
     "base_uri": "https://localhost:8080/",
     "height": 938
    },
    "executionInfo": {
     "elapsed": 1565,
     "status": "ok",
     "timestamp": 1601671670231,
     "user": {
      "displayName": "Jonathan Loscalzo",
      "photoUrl": "https://lh3.googleusercontent.com/a-/AOh14GivbM-9DpHz0-Jl7KXptCwUFRftS0nHXTawHVNVGg=s64",
      "userId": "01585398269152205627"
     },
     "user_tz": 180
    },
    "id": "zqE980NpTuZm",
    "outputId": "3ed92cd8-2bc9-47ee-b9c8-b4611f836868",
    "scrolled": false
   },
   "outputs": [
    {
     "name": "stderr",
     "output_type": "stream",
     "text": [
      "/home/jloscalzo/.pyenv/versions/3.7.9/lib/python3.7/site-packages/seaborn/_decorators.py:43: FutureWarning: Pass the following variables as keyword args: x, y. From version 0.12, the only valid positional argument will be `data`, and passing other arguments without an explicit keyword will result in an error or misinterpretation.\n",
      "  FutureWarning\n"
     ]
    },
    {
     "data": {
      "image/png": "[encoded data removed]",
      "text/plain": [
       "<Figure size 864x864 with 1 Axes>"
      ]
     },
     "metadata": {
      "needs_background": "light"
     },
     "output_type": "display_data"
    }
   ],
   "source": [
    "plt.figure(figsize=(12, 12))\n",
    "sns.barplot(languages_interested_percentages.index, languages_interested_percentages,)\n",
    "plt.xticks(rotation=90)\n",
    "plt.title(\"Languages people are intersted in learning over the next year\");\n",
    "plt.xlabel('count');"
   ]
  },
  {
   "cell_type": "markdown",
   "metadata": {
    "id": "lyPPcyA8TuZy"
   },
   "source": [
    "Once again, it's not surprising that Python is the language most people are interested in learning - since it is an easy-to-learn general purpose programming language well suited for a variety of domains: application development, numerical computing, data analysis, machine learning, big data, cloud automation, web scraping, scripting etc. etc. We're using Python for this very analysis, so we're in good company!\n",
    "\n",
    "**Exercises**: Repeat all the exercises for the previous question, replacing \"most common languages\" with \"languages people are interested in learning/using\"."
   ]
  },
  {
   "cell_type": "markdown",
   "metadata": {
    "id": "ELiqm49oTuZy"
   },
   "source": [
    "#### Q:  Which are the most loved languages i.e. a high percentage of people who have used the language want to continue learning & using it over the next year?\n",
    "\n",
    "While this question may seem trick at first, it's really easy to solve using Pandas array operations. Here's what we can do:\n",
    "\n",
    "- Create a new data frame `languages_loved_df` which contains a `True` value for a language only if the corresponding values in `languages_worked_df` and `languages_interested_df` are both `True`\n",
    "- Take the column wise sum of `languages_loved_df` and divide it by the column-wise sum of `languages_worked_df` to get the percentage of respondents who \"love\" the language\n",
    "- Sort the results in decreasing order and plot a horizontal bar graph"
   ]
  },
  {
   "cell_type": "code",
   "execution_count": 77,
   "metadata": {
    "colab": {
     "base_uri": "https://localhost:8080/",
     "height": 406
    },
    "executionInfo": {
     "elapsed": 1087,
     "status": "ok",
     "timestamp": 1601671701783,
     "user": {
      "displayName": "Jonathan Loscalzo",
      "photoUrl": "https://lh3.googleusercontent.com/a-/AOh14GivbM-9DpHz0-Jl7KXptCwUFRftS0nHXTawHVNVGg=s64",
      "userId": "01585398269152205627"
     },
     "user_tz": 180
    },
    "id": "A_Kut0ikTuZz",
    "outputId": "ee500bff-3595-4fda-f044-1058a501244b"
   },
   "outputs": [
    {
     "data": {
      "text/html": [
       "<div>\n",
       "<style scoped>\n",
       "    .dataframe tbody tr th:only-of-type {\n",
       "        vertical-align: middle;\n",
       "    }\n",
       "\n",
       "    .dataframe tbody tr th {\n",
       "        vertical-align: top;\n",
       "    }\n",
       "\n",
       "    .dataframe thead th {\n",
       "        text-align: right;\n",
       "    }\n",
       "</style>\n",
       "<table border=\"1\" class=\"dataframe\">\n",
       "  <thead>\n",
       "    <tr style=\"text-align: right;\">\n",
       "      <th></th>\n",
       "      <th>Assembly</th>\n",
       "      <th>Bash/Shell/PowerShell</th>\n",
       "      <th>C</th>\n",
       "      <th>C#</th>\n",
       "      <th>C++</th>\n",
       "      <th>Dart</th>\n",
       "      <th>Go</th>\n",
       "      <th>HTML/CSS</th>\n",
       "      <th>Haskell</th>\n",
       "      <th>Java</th>\n",
       "      <th>...</th>\n",
       "      <th>Perl</th>\n",
       "      <th>Python</th>\n",
       "      <th>R</th>\n",
       "      <th>Ruby</th>\n",
       "      <th>Rust</th>\n",
       "      <th>SQL</th>\n",
       "      <th>Scala</th>\n",
       "      <th>Swift</th>\n",
       "      <th>TypeScript</th>\n",
       "      <th>VBA</th>\n",
       "    </tr>\n",
       "  </thead>\n",
       "  <tbody>\n",
       "    <tr>\n",
       "      <th>0</th>\n",
       "      <td>False</td>\n",
       "      <td>False</td>\n",
       "      <td>False</td>\n",
       "      <td>True</td>\n",
       "      <td>False</td>\n",
       "      <td>False</td>\n",
       "      <td>False</td>\n",
       "      <td>True</td>\n",
       "      <td>False</td>\n",
       "      <td>False</td>\n",
       "      <td>...</td>\n",
       "      <td>False</td>\n",
       "      <td>False</td>\n",
       "      <td>False</td>\n",
       "      <td>False</td>\n",
       "      <td>False</td>\n",
       "      <td>False</td>\n",
       "      <td>False</td>\n",
       "      <td>False</td>\n",
       "      <td>False</td>\n",
       "      <td>False</td>\n",
       "    </tr>\n",
       "    <tr>\n",
       "      <th>1</th>\n",
       "      <td>False</td>\n",
       "      <td>False</td>\n",
       "      <td>False</td>\n",
       "      <td>False</td>\n",
       "      <td>False</td>\n",
       "      <td>False</td>\n",
       "      <td>False</td>\n",
       "      <td>True</td>\n",
       "      <td>False</td>\n",
       "      <td>True</td>\n",
       "      <td>...</td>\n",
       "      <td>False</td>\n",
       "      <td>False</td>\n",
       "      <td>False</td>\n",
       "      <td>False</td>\n",
       "      <td>False</td>\n",
       "      <td>False</td>\n",
       "      <td>False</td>\n",
       "      <td>False</td>\n",
       "      <td>False</td>\n",
       "      <td>False</td>\n",
       "    </tr>\n",
       "    <tr>\n",
       "      <th>2</th>\n",
       "      <td>False</td>\n",
       "      <td>False</td>\n",
       "      <td>False</td>\n",
       "      <td>True</td>\n",
       "      <td>True</td>\n",
       "      <td>False</td>\n",
       "      <td>False</td>\n",
       "      <td>False</td>\n",
       "      <td>False</td>\n",
       "      <td>False</td>\n",
       "      <td>...</td>\n",
       "      <td>False</td>\n",
       "      <td>False</td>\n",
       "      <td>False</td>\n",
       "      <td>False</td>\n",
       "      <td>False</td>\n",
       "      <td>False</td>\n",
       "      <td>False</td>\n",
       "      <td>False</td>\n",
       "      <td>False</td>\n",
       "      <td>False</td>\n",
       "    </tr>\n",
       "    <tr>\n",
       "      <th>3</th>\n",
       "      <td>False</td>\n",
       "      <td>True</td>\n",
       "      <td>False</td>\n",
       "      <td>False</td>\n",
       "      <td>False</td>\n",
       "      <td>False</td>\n",
       "      <td>False</td>\n",
       "      <td>False</td>\n",
       "      <td>False</td>\n",
       "      <td>True</td>\n",
       "      <td>...</td>\n",
       "      <td>False</td>\n",
       "      <td>False</td>\n",
       "      <td>False</td>\n",
       "      <td>False</td>\n",
       "      <td>False</td>\n",
       "      <td>True</td>\n",
       "      <td>False</td>\n",
       "      <td>False</td>\n",
       "      <td>False</td>\n",
       "      <td>False</td>\n",
       "    </tr>\n",
       "    <tr>\n",
       "      <th>4</th>\n",
       "      <td>False</td>\n",
       "      <td>False</td>\n",
       "      <td>False</td>\n",
       "      <td>False</td>\n",
       "      <td>False</td>\n",
       "      <td>False</td>\n",
       "      <td>False</td>\n",
       "      <td>False</td>\n",
       "      <td>False</td>\n",
       "      <td>False</td>\n",
       "      <td>...</td>\n",
       "      <td>False</td>\n",
       "      <td>False</td>\n",
       "      <td>False</td>\n",
       "      <td>False</td>\n",
       "      <td>False</td>\n",
       "      <td>False</td>\n",
       "      <td>False</td>\n",
       "      <td>False</td>\n",
       "      <td>True</td>\n",
       "      <td>False</td>\n",
       "    </tr>\n",
       "    <tr>\n",
       "      <th>...</th>\n",
       "      <td>...</td>\n",
       "      <td>...</td>\n",
       "      <td>...</td>\n",
       "      <td>...</td>\n",
       "      <td>...</td>\n",
       "      <td>...</td>\n",
       "      <td>...</td>\n",
       "      <td>...</td>\n",
       "      <td>...</td>\n",
       "      <td>...</td>\n",
       "      <td>...</td>\n",
       "      <td>...</td>\n",
       "      <td>...</td>\n",
       "      <td>...</td>\n",
       "      <td>...</td>\n",
       "      <td>...</td>\n",
       "      <td>...</td>\n",
       "      <td>...</td>\n",
       "      <td>...</td>\n",
       "      <td>...</td>\n",
       "      <td>...</td>\n",
       "    </tr>\n",
       "    <tr>\n",
       "      <th>61479</th>\n",
       "      <td>False</td>\n",
       "      <td>False</td>\n",
       "      <td>False</td>\n",
       "      <td>False</td>\n",
       "      <td>False</td>\n",
       "      <td>False</td>\n",
       "      <td>False</td>\n",
       "      <td>False</td>\n",
       "      <td>False</td>\n",
       "      <td>False</td>\n",
       "      <td>...</td>\n",
       "      <td>False</td>\n",
       "      <td>False</td>\n",
       "      <td>False</td>\n",
       "      <td>False</td>\n",
       "      <td>False</td>\n",
       "      <td>False</td>\n",
       "      <td>False</td>\n",
       "      <td>False</td>\n",
       "      <td>False</td>\n",
       "      <td>False</td>\n",
       "    </tr>\n",
       "    <tr>\n",
       "      <th>61480</th>\n",
       "      <td>False</td>\n",
       "      <td>False</td>\n",
       "      <td>False</td>\n",
       "      <td>False</td>\n",
       "      <td>False</td>\n",
       "      <td>False</td>\n",
       "      <td>False</td>\n",
       "      <td>False</td>\n",
       "      <td>False</td>\n",
       "      <td>False</td>\n",
       "      <td>...</td>\n",
       "      <td>False</td>\n",
       "      <td>False</td>\n",
       "      <td>False</td>\n",
       "      <td>False</td>\n",
       "      <td>False</td>\n",
       "      <td>False</td>\n",
       "      <td>False</td>\n",
       "      <td>False</td>\n",
       "      <td>False</td>\n",
       "      <td>False</td>\n",
       "    </tr>\n",
       "    <tr>\n",
       "      <th>61481</th>\n",
       "      <td>False</td>\n",
       "      <td>False</td>\n",
       "      <td>False</td>\n",
       "      <td>False</td>\n",
       "      <td>False</td>\n",
       "      <td>False</td>\n",
       "      <td>False</td>\n",
       "      <td>False</td>\n",
       "      <td>False</td>\n",
       "      <td>True</td>\n",
       "      <td>...</td>\n",
       "      <td>False</td>\n",
       "      <td>False</td>\n",
       "      <td>False</td>\n",
       "      <td>False</td>\n",
       "      <td>False</td>\n",
       "      <td>True</td>\n",
       "      <td>False</td>\n",
       "      <td>False</td>\n",
       "      <td>False</td>\n",
       "      <td>False</td>\n",
       "    </tr>\n",
       "    <tr>\n",
       "      <th>61482</th>\n",
       "      <td>False</td>\n",
       "      <td>True</td>\n",
       "      <td>False</td>\n",
       "      <td>False</td>\n",
       "      <td>True</td>\n",
       "      <td>False</td>\n",
       "      <td>False</td>\n",
       "      <td>True</td>\n",
       "      <td>False</td>\n",
       "      <td>True</td>\n",
       "      <td>...</td>\n",
       "      <td>False</td>\n",
       "      <td>True</td>\n",
       "      <td>False</td>\n",
       "      <td>False</td>\n",
       "      <td>False</td>\n",
       "      <td>False</td>\n",
       "      <td>False</td>\n",
       "      <td>False</td>\n",
       "      <td>False</td>\n",
       "      <td>False</td>\n",
       "    </tr>\n",
       "    <tr>\n",
       "      <th>61483</th>\n",
       "      <td>True</td>\n",
       "      <td>False</td>\n",
       "      <td>False</td>\n",
       "      <td>False</td>\n",
       "      <td>False</td>\n",
       "      <td>False</td>\n",
       "      <td>False</td>\n",
       "      <td>False</td>\n",
       "      <td>False</td>\n",
       "      <td>False</td>\n",
       "      <td>...</td>\n",
       "      <td>False</td>\n",
       "      <td>False</td>\n",
       "      <td>False</td>\n",
       "      <td>False</td>\n",
       "      <td>False</td>\n",
       "      <td>False</td>\n",
       "      <td>False</td>\n",
       "      <td>False</td>\n",
       "      <td>False</td>\n",
       "      <td>False</td>\n",
       "    </tr>\n",
       "  </tbody>\n",
       "</table>\n",
       "<p>61484 rows × 25 columns</p>\n",
       "</div>"
      ],
      "text/plain": [
       "       Assembly  Bash/Shell/PowerShell      C     C#    C++   Dart     Go  \\\n",
       "0         False                  False  False   True  False  False  False   \n",
       "1         False                  False  False  False  False  False  False   \n",
       "2         False                  False  False   True   True  False  False   \n",
       "3         False                   True  False  False  False  False  False   \n",
       "4         False                  False  False  False  False  False  False   \n",
       "...         ...                    ...    ...    ...    ...    ...    ...   \n",
       "61479     False                  False  False  False  False  False  False   \n",
       "61480     False                  False  False  False  False  False  False   \n",
       "61481     False                  False  False  False  False  False  False   \n",
       "61482     False                   True  False  False   True  False  False   \n",
       "61483      True                  False  False  False  False  False  False   \n",
       "\n",
       "       HTML/CSS  Haskell   Java  ...   Perl  Python      R   Ruby   Rust  \\\n",
       "0          True    False  False  ...  False   False  False  False  False   \n",
       "1          True    False   True  ...  False   False  False  False  False   \n",
       "2         False    False  False  ...  False   False  False  False  False   \n",
       "3         False    False   True  ...  False   False  False  False  False   \n",
       "4         False    False  False  ...  False   False  False  False  False   \n",
       "...         ...      ...    ...  ...    ...     ...    ...    ...    ...   \n",
       "61479     False    False  False  ...  False   False  False  False  False   \n",
       "61480     False    False  False  ...  False   False  False  False  False   \n",
       "61481     False    False   True  ...  False   False  False  False  False   \n",
       "61482      True    False   True  ...  False    True  False  False  False   \n",
       "61483     False    False  False  ...  False   False  False  False  False   \n",
       "\n",
       "         SQL  Scala  Swift  TypeScript    VBA  \n",
       "0      False  False  False       False  False  \n",
       "1      False  False  False       False  False  \n",
       "2      False  False  False       False  False  \n",
       "3       True  False  False       False  False  \n",
       "4      False  False  False        True  False  \n",
       "...      ...    ...    ...         ...    ...  \n",
       "61479  False  False  False       False  False  \n",
       "61480  False  False  False       False  False  \n",
       "61481   True  False  False       False  False  \n",
       "61482  False  False  False       False  False  \n",
       "61483  False  False  False       False  False  \n",
       "\n",
       "[61484 rows x 25 columns]"
      ]
     },
     "execution_count": 77,
     "metadata": {},
     "output_type": "execute_result"
    }
   ],
   "source": [
    "languages_loved_df = languages_worked_df & languages_interested_df\n",
    "languages_loved_df"
   ]
  },
  {
   "cell_type": "code",
   "execution_count": 78,
   "metadata": {
    "executionInfo": {
     "elapsed": 709,
     "status": "ok",
     "timestamp": 1601671719115,
     "user": {
      "displayName": "Jonathan Loscalzo",
      "photoUrl": "https://lh3.googleusercontent.com/a-/AOh14GivbM-9DpHz0-Jl7KXptCwUFRftS0nHXTawHVNVGg=s64",
      "userId": "01585398269152205627"
     },
     "user_tz": 180
    },
    "id": "g9HRxm6iTuZ4"
   },
   "outputs": [],
   "source": [
    "languages_loved_percentages = (languages_loved_df.sum() * 100/ languages_worked_df.sum()).sort_values(ascending=False)"
   ]
  },
  {
   "cell_type": "code",
   "execution_count": 79,
   "metadata": {
    "colab": {
     "base_uri": "https://localhost:8080/",
     "height": 797
    },
    "executionInfo": {
     "elapsed": 1086,
     "status": "ok",
     "timestamp": 1601671721870,
     "user": {
      "displayName": "Jonathan Loscalzo",
      "photoUrl": "https://lh3.googleusercontent.com/a-/AOh14GivbM-9DpHz0-Jl7KXptCwUFRftS0nHXTawHVNVGg=s64",
      "userId": "01585398269152205627"
     },
     "user_tz": 180
    },
    "id": "1_skeZxATuaO",
    "outputId": "505a51d4-aba0-4e9a-e1ef-61592460b5d9"
   },
   "outputs": [
    {
     "name": "stderr",
     "output_type": "stream",
     "text": [
      "/home/jloscalzo/.pyenv/versions/3.7.9/lib/python3.7/site-packages/seaborn/_decorators.py:43: FutureWarning: Pass the following variables as keyword args: x, y. From version 0.12, the only valid positional argument will be `data`, and passing other arguments without an explicit keyword will result in an error or misinterpretation.\n",
      "  FutureWarning\n"
     ]
    },
    {
     "data": {
      "image/png": "[encoded data removed]",
      "text/plain": [
       "<Figure size 864x864 with 1 Axes>"
      ]
     },
     "metadata": {
      "needs_background": "light"
     },
     "output_type": "display_data"
    }
   ],
   "source": [
    "plt.figure(figsize=(12, 12))\n",
    "sns.barplot(languages_loved_percentages, languages_loved_percentages.index)\n",
    "plt.title(\"Most loved languages\");\n",
    "plt.xlabel('count');"
   ]
  },
  {
   "cell_type": "markdown",
   "metadata": {
    "id": "M-aoXi-8TuaZ"
   },
   "source": [
    "[Rust](https://www.rust-lang.org) has been StackOverflow's most-loved language for [4 years in a row](https://stackoverflow.blog/2020/01/20/what-is-rust-and-why-is-it-so-popular/), followed by TypeScript which has gained a lot of popularity in the past few years as a good alternative to JavaScript for web development.\n",
    "\n",
    "Python features at number 3, despite already being one of the most widely-used languages in world. This is testament to the fact the language has solid foundation, is really easy to learn & use, has a strong ecosystem of libraries for various and massive worldwide community of developers to enjoy using it.\n",
    "\n",
    "**Exercises:** What are the _most dreaded languages_ i.e. languages which people have used in the past year, but do not want to learn/use over the next year. Hint: `~languages_interested_df`"
   ]
  },
  {
   "cell_type": "code",
   "execution_count": null,
   "metadata": {
    "id": "vFhz2baWFAgH"
   },
   "outputs": [],
   "source": []
  },
  {
   "cell_type": "markdown",
   "metadata": {
    "id": "Q1zpMM1GTuaa"
   },
   "source": [
    "#### Q: In which countries do developers work the highest number of hours per week? Consider countries with more than 250 responses only.\n",
    "\n",
    "To answer this question, we'll need to use the `groupby` data frame method to aggregate the rows for each country. We'll also need to filter the results to only include the countries which have more than 250 respondents."
   ]
  },
  {
   "cell_type": "code",
   "execution_count": 80,
   "metadata": {
    "id": "Eyn1QzZTTuac"
   },
   "outputs": [],
   "source": [
    "countries_df = survey_df.groupby('Country')[['WorkWeekHrs']].mean().sort_values('WorkWeekHrs', ascending=False)"
   ]
  },
  {
   "cell_type": "code",
   "execution_count": 81,
   "metadata": {
    "id": "01jI5sMJTuan"
   },
   "outputs": [],
   "source": [
    "high_response_countries_df = countries_df.loc[survey_df.Country.value_counts() > 250].head(15)"
   ]
  },
  {
   "cell_type": "code",
   "execution_count": 82,
   "metadata": {
    "id": "pYIEnxfZTuaq",
    "outputId": "bfc280d4-c068-4ec6-8f5e-0dd8003802d4"
   },
   "outputs": [
    {
     "data": {
      "text/html": [
       "<div>\n",
       "<style scoped>\n",
       "    .dataframe tbody tr th:only-of-type {\n",
       "        vertical-align: middle;\n",
       "    }\n",
       "\n",
       "    .dataframe tbody tr th {\n",
       "        vertical-align: top;\n",
       "    }\n",
       "\n",
       "    .dataframe thead th {\n",
       "        text-align: right;\n",
       "    }\n",
       "</style>\n",
       "<table border=\"1\" class=\"dataframe\">\n",
       "  <thead>\n",
       "    <tr style=\"text-align: right;\">\n",
       "      <th></th>\n",
       "      <th>WorkWeekHrs</th>\n",
       "    </tr>\n",
       "    <tr>\n",
       "      <th>Country</th>\n",
       "      <th></th>\n",
       "    </tr>\n",
       "  </thead>\n",
       "  <tbody>\n",
       "    <tr>\n",
       "      <th>Iran</th>\n",
       "      <td>44.337748</td>\n",
       "    </tr>\n",
       "    <tr>\n",
       "      <th>Israel</th>\n",
       "      <td>43.915094</td>\n",
       "    </tr>\n",
       "    <tr>\n",
       "      <th>China</th>\n",
       "      <td>42.150000</td>\n",
       "    </tr>\n",
       "    <tr>\n",
       "      <th>United States</th>\n",
       "      <td>41.802982</td>\n",
       "    </tr>\n",
       "    <tr>\n",
       "      <th>Greece</th>\n",
       "      <td>41.402724</td>\n",
       "    </tr>\n",
       "    <tr>\n",
       "      <th>South Africa</th>\n",
       "      <td>41.023460</td>\n",
       "    </tr>\n",
       "    <tr>\n",
       "      <th>Turkey</th>\n",
       "      <td>40.982143</td>\n",
       "    </tr>\n",
       "    <tr>\n",
       "      <th>Sri Lanka</th>\n",
       "      <td>40.612245</td>\n",
       "    </tr>\n",
       "    <tr>\n",
       "      <th>New Zealand</th>\n",
       "      <td>40.457551</td>\n",
       "    </tr>\n",
       "    <tr>\n",
       "      <th>Belgium</th>\n",
       "      <td>40.444444</td>\n",
       "    </tr>\n",
       "    <tr>\n",
       "      <th>Canada</th>\n",
       "      <td>40.208837</td>\n",
       "    </tr>\n",
       "    <tr>\n",
       "      <th>Hungary</th>\n",
       "      <td>40.194340</td>\n",
       "    </tr>\n",
       "    <tr>\n",
       "      <th>Bangladesh</th>\n",
       "      <td>40.097458</td>\n",
       "    </tr>\n",
       "    <tr>\n",
       "      <th>India</th>\n",
       "      <td>40.090603</td>\n",
       "    </tr>\n",
       "    <tr>\n",
       "      <th>Japan</th>\n",
       "      <td>40.039409</td>\n",
       "    </tr>\n",
       "  </tbody>\n",
       "</table>\n",
       "</div>"
      ],
      "text/plain": [
       "               WorkWeekHrs\n",
       "Country                   \n",
       "Iran             44.337748\n",
       "Israel           43.915094\n",
       "China            42.150000\n",
       "United States    41.802982\n",
       "Greece           41.402724\n",
       "South Africa     41.023460\n",
       "Turkey           40.982143\n",
       "Sri Lanka        40.612245\n",
       "New Zealand      40.457551\n",
       "Belgium          40.444444\n",
       "Canada           40.208837\n",
       "Hungary          40.194340\n",
       "Bangladesh       40.097458\n",
       "India            40.090603\n",
       "Japan            40.039409"
      ]
     },
     "execution_count": 82,
     "metadata": {},
     "output_type": "execute_result"
    }
   ],
   "source": [
    "high_response_countries_df"
   ]
  },
  {
   "cell_type": "markdown",
   "metadata": {
    "id": "AbQJ4vAOTuav"
   },
   "source": [
    "The Asian countries like Iran, China & Israel have the highest working hours, followed by the United States. However, there isn't too much variation overall and the average working hours seem to be around 40 hours per week.\n",
    "\n",
    "**Exercises:**\n",
    "\n",
    "* How to the average work hours compare across continents? You may find this list of [countries in each continent](https://hub.jovian.ml/wp-content/uploads/2020/09/countries.csv) useful.\n",
    "* Which role has the highest average number of hours worked per week? Which role has the lowest?\n",
    "* How do the hours worked compare between freelancers and developers working full-time?"
   ]
  },
  {
   "cell_type": "markdown",
   "metadata": {
    "id": "HD8Yzwj5Tuax"
   },
   "source": [
    "#### Q: How important is it to start young to build a career in programming?\n",
    "\n",
    "Let's create a scatter plot of `Age` vs. `YearsCodePro` (i.e. years of coding experience) to answer this question."
   ]
  },
  {
   "cell_type": "code",
   "execution_count": 83,
   "metadata": {
    "id": "zD-Sy1MFTua3",
    "outputId": "4e918c8f-79e0-4970-b5b5-0f6707b739ca"
   },
   "outputs": [
    {
     "data": {
      "text/plain": [
       "'NOT including education, how many years have you coded professionally (as a part of your work)?'"
      ]
     },
     "execution_count": 83,
     "metadata": {},
     "output_type": "execute_result"
    }
   ],
   "source": [
    "schema.YearsCodePro"
   ]
  },
  {
   "cell_type": "code",
   "execution_count": 84,
   "metadata": {
    "id": "iVoZ0rqlTubA",
    "outputId": "c095fc03-d550-45cf-cab0-51ecad4557c5"
   },
   "outputs": [
    {
     "name": "stderr",
     "output_type": "stream",
     "text": [
      "/home/jloscalzo/.pyenv/versions/3.7.9/lib/python3.7/site-packages/seaborn/_decorators.py:43: FutureWarning: Pass the following variables as keyword args: x, y. From version 0.12, the only valid positional argument will be `data`, and passing other arguments without an explicit keyword will result in an error or misinterpretation.\n",
      "  FutureWarning\n"
     ]
    },
    {
     "data": {
      "image/png": "[encoded data removed]",
      "text/plain": [
       "<Figure size 648x360 with 1 Axes>"
      ]
     },
     "metadata": {
      "needs_background": "light"
     },
     "output_type": "display_data"
    }
   ],
   "source": [
    "sns.scatterplot('Age', 'YearsCodePro', hue='Hobbyist', data=survey_df)\n",
    "plt.xlabel(\"Age\")\n",
    "plt.ylabel(\"Years of professional coding experience\");"
   ]
  },
  {
   "cell_type": "markdown",
   "metadata": {
    "id": "rgNSxT0LTubE"
   },
   "source": [
    "You can see points all over the graph, which seems to indicate that you can **start programming professionally at any age**. Also, many people who have been coding for several decades professionally also seem to enjoy it has a hobby.\n",
    "\n",
    "We can also view the distribution of `Age1stCode` column to see when the respondents tried programming for the first time."
   ]
  },
  {
   "cell_type": "code",
   "execution_count": 85,
   "metadata": {
    "id": "o8Q3XSQtTubG",
    "outputId": "6952ab75-648b-4dd4-bfb2-fb9fdccc047a"
   },
   "outputs": [
    {
     "name": "stderr",
     "output_type": "stream",
     "text": [
      "/home/jloscalzo/.pyenv/versions/3.7.9/lib/python3.7/site-packages/seaborn/distributions.py:2551: FutureWarning: `distplot` is a deprecated function and will be removed in a future version. Please adapt your code to use either `displot` (a figure-level function with similar flexibility) or `histplot` (an axes-level function for histograms).\n",
      "  warnings.warn(msg, FutureWarning)\n"
     ]
    },
    {
     "data": {
      "image/png": "[encoded data removed]",
      "text/plain": [
       "<Figure size 648x360 with 1 Axes>"
      ]
     },
     "metadata": {
      "needs_background": "light"
     },
     "output_type": "display_data"
    }
   ],
   "source": [
    "plt.title(schema.Age1stCode)\n",
    "sns.distplot(survey_df.Age1stCode);"
   ]
  },
  {
   "cell_type": "markdown",
   "metadata": {
    "id": "Sw-0DqlqTubJ"
   },
   "source": [
    "As you might expect, most people seem to have had some exposure to programming before the age of 40, but there are people of all ages and walks of life who are learning to code.\n",
    "\n",
    "**Exercises**:\n",
    "* How does experience change opinions & preferences? Repeat the entire analysis while comparing the responses of people who have more than 10 years of professional programming experience v.s. those who don't. Do you see any interesting trends?\n",
    "* Compare the years of professional coding experience across different genders. "
   ]
  },
  {
   "cell_type": "code",
   "execution_count": 88,
   "metadata": {},
   "outputs": [
    {
     "data": {
      "text/html": [
       "<div>\n",
       "<style scoped>\n",
       "    .dataframe tbody tr th:only-of-type {\n",
       "        vertical-align: middle;\n",
       "    }\n",
       "\n",
       "    .dataframe tbody tr th {\n",
       "        vertical-align: top;\n",
       "    }\n",
       "\n",
       "    .dataframe thead th {\n",
       "        text-align: right;\n",
       "    }\n",
       "</style>\n",
       "<table border=\"1\" class=\"dataframe\">\n",
       "  <thead>\n",
       "    <tr style=\"text-align: right;\">\n",
       "      <th></th>\n",
       "      <th>Country</th>\n",
       "      <th>Age</th>\n",
       "      <th>Gender</th>\n",
       "      <th>EdLevel</th>\n",
       "      <th>UndergradMajor</th>\n",
       "      <th>Hobbyist</th>\n",
       "      <th>Age1stCode</th>\n",
       "      <th>YearsCode</th>\n",
       "      <th>YearsCodePro</th>\n",
       "      <th>LanguageWorkedWith</th>\n",
       "      <th>...</th>\n",
       "      <th>Employment</th>\n",
       "      <th>DevType</th>\n",
       "      <th>WorkWeekHrs</th>\n",
       "      <th>JobSat</th>\n",
       "      <th>JobFactors</th>\n",
       "      <th>NEWOvertime</th>\n",
       "      <th>NEWEdImpt</th>\n",
       "      <th>Languages Spoken</th>\n",
       "      <th>has_english?</th>\n",
       "      <th>EmploymentType</th>\n",
       "    </tr>\n",
       "  </thead>\n",
       "  <tbody>\n",
       "    <tr>\n",
       "      <th>0</th>\n",
       "      <td>Germany</td>\n",
       "      <td>NaN</td>\n",
       "      <td>Man</td>\n",
       "      <td>Master’s degree (M.A., M.S., M.Eng., MBA, etc.)</td>\n",
       "      <td>Computer science, computer engineering, or sof...</td>\n",
       "      <td>Yes</td>\n",
       "      <td>13.0</td>\n",
       "      <td>36.0</td>\n",
       "      <td>27.0</td>\n",
       "      <td>C#;HTML/CSS;JavaScript</td>\n",
       "      <td>...</td>\n",
       "      <td>Independent contractor, freelancer, or self-em...</td>\n",
       "      <td>Developer, desktop or enterprise applications;...</td>\n",
       "      <td>50.0</td>\n",
       "      <td>Slightly satisfied</td>\n",
       "      <td>Languages, frameworks, and other technologies ...</td>\n",
       "      <td>Often: 1-2 days per week or more</td>\n",
       "      <td>Fairly important</td>\n",
       "      <td>German</td>\n",
       "      <td>False</td>\n",
       "      <td>Professional</td>\n",
       "    </tr>\n",
       "    <tr>\n",
       "      <th>1</th>\n",
       "      <td>Germany</td>\n",
       "      <td>NaN</td>\n",
       "      <td>Man</td>\n",
       "      <td>Secondary school (e.g. American high school, G...</td>\n",
       "      <td>NaN</td>\n",
       "      <td>No</td>\n",
       "      <td>14.0</td>\n",
       "      <td>6.0</td>\n",
       "      <td>4.0</td>\n",
       "      <td>HTML/CSS;Java;JavaScript</td>\n",
       "      <td>...</td>\n",
       "      <td>Employed full-time</td>\n",
       "      <td>Designer;Developer, front-end;Developer, mobile</td>\n",
       "      <td>NaN</td>\n",
       "      <td>Slightly satisfied</td>\n",
       "      <td>Diversity of the company or organization;Langu...</td>\n",
       "      <td>Never</td>\n",
       "      <td>Fairly important</td>\n",
       "      <td>German</td>\n",
       "      <td>False</td>\n",
       "      <td>Professional</td>\n",
       "    </tr>\n",
       "    <tr>\n",
       "      <th>2</th>\n",
       "      <td>Germany</td>\n",
       "      <td>27.0</td>\n",
       "      <td>Man</td>\n",
       "      <td>Bachelor’s degree (B.A., B.S., B.Eng., etc.)</td>\n",
       "      <td>Another engineering discipline (such as civil,...</td>\n",
       "      <td>Yes</td>\n",
       "      <td>14.0</td>\n",
       "      <td>8.0</td>\n",
       "      <td>3.0</td>\n",
       "      <td>Bash/Shell/PowerShell;C#;C++</td>\n",
       "      <td>...</td>\n",
       "      <td>Employed full-time</td>\n",
       "      <td>Developer, back-end;Developer, desktop or ente...</td>\n",
       "      <td>40.0</td>\n",
       "      <td>Very satisfied</td>\n",
       "      <td>Flex time or a flexible schedule;Languages, fr...</td>\n",
       "      <td>Rarely: 1-2 days per year or less</td>\n",
       "      <td>Fairly important</td>\n",
       "      <td>German</td>\n",
       "      <td>False</td>\n",
       "      <td>Professional</td>\n",
       "    </tr>\n",
       "    <tr>\n",
       "      <th>3</th>\n",
       "      <td>Germany</td>\n",
       "      <td>45.0</td>\n",
       "      <td>Man</td>\n",
       "      <td>Professional degree (JD, MD, etc.)</td>\n",
       "      <td>Another engineering discipline (such as civil,...</td>\n",
       "      <td>Yes</td>\n",
       "      <td>14.0</td>\n",
       "      <td>30.0</td>\n",
       "      <td>20.0</td>\n",
       "      <td>Bash/Shell/PowerShell;Java;Kotlin;PHP;SQL</td>\n",
       "      <td>...</td>\n",
       "      <td>Employed full-time</td>\n",
       "      <td>Developer, back-end</td>\n",
       "      <td>42.0</td>\n",
       "      <td>Very satisfied</td>\n",
       "      <td>Languages, frameworks, and other technologies ...</td>\n",
       "      <td>Often: 1-2 days per week or more</td>\n",
       "      <td>Very important</td>\n",
       "      <td>German</td>\n",
       "      <td>False</td>\n",
       "      <td>Professional</td>\n",
       "    </tr>\n",
       "    <tr>\n",
       "      <th>4</th>\n",
       "      <td>Germany</td>\n",
       "      <td>29.0</td>\n",
       "      <td>Man</td>\n",
       "      <td>Master’s degree (M.A., M.S., M.Eng., MBA, etc.)</td>\n",
       "      <td>Computer science, computer engineering, or sof...</td>\n",
       "      <td>Yes</td>\n",
       "      <td>15.0</td>\n",
       "      <td>10.0</td>\n",
       "      <td>NaN</td>\n",
       "      <td>HTML/CSS;Java;JavaScript;SQL;TypeScript</td>\n",
       "      <td>...</td>\n",
       "      <td>Not employed, but looking for work</td>\n",
       "      <td>Developer, back-end;Developer, full-stack</td>\n",
       "      <td>NaN</td>\n",
       "      <td>NaN</td>\n",
       "      <td>Flex time or a flexible schedule;Languages, fr...</td>\n",
       "      <td>NaN</td>\n",
       "      <td>Very important</td>\n",
       "      <td>German</td>\n",
       "      <td>False</td>\n",
       "      <td>Enthusiast</td>\n",
       "    </tr>\n",
       "  </tbody>\n",
       "</table>\n",
       "<p>5 rows × 23 columns</p>\n",
       "</div>"
      ],
      "text/plain": [
       "   Country   Age Gender                                            EdLevel  \\\n",
       "0  Germany   NaN    Man    Master’s degree (M.A., M.S., M.Eng., MBA, etc.)   \n",
       "1  Germany   NaN    Man  Secondary school (e.g. American high school, G...   \n",
       "2  Germany  27.0    Man       Bachelor’s degree (B.A., B.S., B.Eng., etc.)   \n",
       "3  Germany  45.0    Man                 Professional degree (JD, MD, etc.)   \n",
       "4  Germany  29.0    Man    Master’s degree (M.A., M.S., M.Eng., MBA, etc.)   \n",
       "\n",
       "                                      UndergradMajor Hobbyist  Age1stCode  \\\n",
       "0  Computer science, computer engineering, or sof...      Yes        13.0   \n",
       "1                                                NaN       No        14.0   \n",
       "2  Another engineering discipline (such as civil,...      Yes        14.0   \n",
       "3  Another engineering discipline (such as civil,...      Yes        14.0   \n",
       "4  Computer science, computer engineering, or sof...      Yes        15.0   \n",
       "\n",
       "   YearsCode  YearsCodePro                         LanguageWorkedWith  ...  \\\n",
       "0       36.0          27.0                     C#;HTML/CSS;JavaScript  ...   \n",
       "1        6.0           4.0                   HTML/CSS;Java;JavaScript  ...   \n",
       "2        8.0           3.0               Bash/Shell/PowerShell;C#;C++  ...   \n",
       "3       30.0          20.0  Bash/Shell/PowerShell;Java;Kotlin;PHP;SQL  ...   \n",
       "4       10.0           NaN    HTML/CSS;Java;JavaScript;SQL;TypeScript  ...   \n",
       "\n",
       "                                          Employment  \\\n",
       "0  Independent contractor, freelancer, or self-em...   \n",
       "1                                 Employed full-time   \n",
       "2                                 Employed full-time   \n",
       "3                                 Employed full-time   \n",
       "4                 Not employed, but looking for work   \n",
       "\n",
       "                                             DevType WorkWeekHrs  \\\n",
       "0  Developer, desktop or enterprise applications;...        50.0   \n",
       "1    Designer;Developer, front-end;Developer, mobile         NaN   \n",
       "2  Developer, back-end;Developer, desktop or ente...        40.0   \n",
       "3                                Developer, back-end        42.0   \n",
       "4          Developer, back-end;Developer, full-stack         NaN   \n",
       "\n",
       "               JobSat                                         JobFactors  \\\n",
       "0  Slightly satisfied  Languages, frameworks, and other technologies ...   \n",
       "1  Slightly satisfied  Diversity of the company or organization;Langu...   \n",
       "2      Very satisfied  Flex time or a flexible schedule;Languages, fr...   \n",
       "3      Very satisfied  Languages, frameworks, and other technologies ...   \n",
       "4                 NaN  Flex time or a flexible schedule;Languages, fr...   \n",
       "\n",
       "                         NEWOvertime         NEWEdImpt Languages Spoken  \\\n",
       "0   Often: 1-2 days per week or more  Fairly important           German   \n",
       "1                              Never  Fairly important           German   \n",
       "2  Rarely: 1-2 days per year or less  Fairly important           German   \n",
       "3   Often: 1-2 days per week or more    Very important           German   \n",
       "4                                NaN    Very important           German   \n",
       "\n",
       "  has_english? EmploymentType  \n",
       "0        False   Professional  \n",
       "1        False   Professional  \n",
       "2        False   Professional  \n",
       "3        False   Professional  \n",
       "4        False     Enthusiast  \n",
       "\n",
       "[5 rows x 23 columns]"
      ]
     },
     "execution_count": 88,
     "metadata": {},
     "output_type": "execute_result"
    }
   ],
   "source": [
    "survey_df.head()\n"
   ]
  },
  {
   "cell_type": "markdown",
   "metadata": {
    "id": "5aggIep5TubK"
   },
   "source": [
    "We've barely scratched the surface here, and hopefully you are already thinking of many more questions that you'd like to answer using this data. Use the empty cells to below to ask and answer more questions."
   ]
  },
  {
   "cell_type": "code",
   "execution_count": null,
   "metadata": {
    "id": "wE8xCK8sTubL"
   },
   "outputs": [],
   "source": []
  },
  {
   "cell_type": "code",
   "execution_count": null,
   "metadata": {
    "id": "81FTulOWTubP"
   },
   "outputs": [],
   "source": []
  },
  {
   "cell_type": "code",
   "execution_count": null,
   "metadata": {
    "id": "2h2agYNJTubT"
   },
   "outputs": [],
   "source": []
  },
  {
   "cell_type": "markdown",
   "metadata": {
    "id": "81vJ1f_sTuba"
   },
   "source": [
    "Let's save and commit our work before continuing"
   ]
  },
  {
   "cell_type": "code",
   "execution_count": null,
   "metadata": {
    "id": "VBIWB96MTuba"
   },
   "outputs": [],
   "source": [
    "import jovian"
   ]
  },
  {
   "cell_type": "code",
   "execution_count": 89,
   "metadata": {
    "id": "PzWVZH6NTubf",
    "outputId": "461bf4bd-3af9-4756-ffbd-9ed755774780"
   },
   "outputs": [
    {
     "data": {
      "application/javascript": [
       "window.require && require([\"base/js/namespace\"],function(Jupyter){Jupyter.notebook.save_checkpoint()})"
      ],
      "text/plain": [
       "<IPython.core.display.Javascript object>"
      ]
     },
     "metadata": {},
     "output_type": "display_data"
    },
    {
     "name": "stdout",
     "output_type": "stream",
     "text": [
      "[jovian] Attempting to save notebook..\u001b[0m\n",
      "[jovian] Updating notebook \"jonathanloscalzo/09-python-eda-stackoverflow\" on https://jovian.ml/\u001b[0m\n",
      "[jovian] Uploading notebook..\u001b[0m\n",
      "[jovian] Capturing environment..\u001b[0m\n"
     ]
    },
    {
     "name": "stderr",
     "output_type": "stream",
     "text": [
      "\u001b[31m[jovian] Error: Failed to read Anaconda environment using command: \"conda env export -n base --no-builds\"\u001b[0m\n"
     ]
    },
    {
     "name": "stdout",
     "output_type": "stream",
     "text": [
      "[jovian] Committed successfully! https://jovian.ml/jonathanloscalzo/09-python-eda-stackoverflow\u001b[0m\n"
     ]
    },
    {
     "data": {
      "text/plain": [
       "'https://jovian.ml/jonathanloscalzo/09-python-eda-stackoverflow'"
      ]
     },
     "execution_count": 89,
     "metadata": {},
     "output_type": "execute_result"
    }
   ],
   "source": [
    "jovian.commit(project=project)"
   ]
  },
  {
   "cell_type": "markdown",
   "metadata": {
    "id": "Evld8xuaTubi"
   },
   "source": [
    "## Inferences and Conclusions\n",
    "\n",
    "We've drawn many interesting inferences from the survey, here's a summary of the few of them:\n",
    "\n",
    "- Based on the demographics of the survey respondents, we can infer that the survey is somewhat representative of the overall programming community, although it definitely has fewer responses from programmers in non-English-speaking countries and from women & non-binary genders.\n",
    "\n",
    "- The programming community is not as diverse as it can be, and although things are improving, we should take more efforts to support & encourage members of underrepresented communities - whether it is in terms of age, country, race, gender or otherwise.\n",
    "\n",
    "- Most programmers hold a college degree, although a fairly large percentage did not have computer science as their major in college, so a computer science degree isn't compulsory for learning to code or building a career in programming.\n",
    "\n",
    "- A significant percentage of programmers either work part time or as freelancers, and this can be a great way to break into the field, especially when you're just getting started.\n",
    "\n",
    "- Javascript & HTML/CSS are the most used programming languages in 2020, closely followed by SQL & Python\n",
    "\n",
    "- Python is the language most people are interested in learning - since it is an easy-to-learn general purpose programming language well suited for a variety of domains.\n",
    "\n",
    "- Rust and TypeScript are the most \"loved\" languages in 2020, both of which have small but fast-growing communities. Python is a close third, despite already being a widely used language.\n",
    "\n",
    "- Programmers around the world seems be working for around 40 hours a week on average, with slight variations by country.\n",
    "\n",
    "- You can learn and start programming professionally at any age, and you're likely to have a long and fulfilling career if you also enjoy programming as a hobby.\n"
   ]
  },
  {
   "cell_type": "markdown",
   "metadata": {
    "id": "_31ncZ7zTubl"
   },
   "source": [
    "## References and Future Work\n",
    "\n",
    "There's a wealth of information to be discovered using the survey, and we've barely scratched the surface. Here are some ideas for further exploration:\n",
    "\n",
    "- Repeat the analysis for different age groups & genders, and compare the results\n",
    "- Choose a different set of columns (we chose on 20 out of 65) to analyze other facets of the data\n",
    "- Prepare an analysis focusing on diversity - and identify areas where underrepresented communities are at par with the majority (e.g. education) and where they aren't (e.g. salaries)\n",
    "- Compare the results of this year's survey with the previous years and identify interesting trends\n",
    "\n",
    "References:\n",
    "\n",
    "- Stack Overflow Developer Survey: https://insights.stackoverflow.com/survey\n",
    "- Pandas user guide: https://pandas.pydata.org/docs/user_guide/index.html\n",
    "- Matplotlib user guide: https://matplotlib.org/3.3.1/users/index.html\n",
    "- Seaborn user guide & tutorial: https://seaborn.pydata.org/tutorial.html\n",
    "- `opendatasets` Python library: https://github.com/JovianML/opendatasets\n",
    "\n",
    "As a next step, you can try out a project on another dataset of your choice: https://jovian.ml/aakashns/zerotopandas-course-project-starter"
   ]
  },
  {
   "cell_type": "code",
   "execution_count": null,
   "metadata": {
    "id": "NqgO3yvCTubm"
   },
   "outputs": [],
   "source": [
    "import jovian"
   ]
  },
  {
   "cell_type": "code",
   "execution_count": null,
   "metadata": {
    "id": "Z-ZJs075Tubn",
    "outputId": "a9ddeda3-356f-4d70-e1ed-cbd1f9c95995"
   },
   "outputs": [
    {
     "data": {
      "application/javascript": [
       "window.require && require([\"base/js/namespace\"],function(Jupyter){Jupyter.notebook.save_checkpoint()})"
      ],
      "text/plain": [
       "<IPython.core.display.Javascript object>"
      ]
     },
     "metadata": {
      "tags": []
     },
     "output_type": "display_data"
    },
    {
     "name": "stdout",
     "output_type": "stream",
     "text": [
      "[jovian] Attempting to save notebook..\u001b[0m\n"
     ]
    }
   ],
   "source": [
    "jovian.commit()"
   ]
  },
  {
   "cell_type": "code",
   "execution_count": null,
   "metadata": {
    "id": "5gR6O5p4Tubs"
   },
   "outputs": [],
   "source": []
  }
 ],
 "metadata": {
  "colab": {
   "collapsed_sections": [
    "NMTLXklZTuY5",
    "bErICmKzTuY6",
    "Ybw80dCrTuZh",
    "ELiqm49oTuZy",
    "Q1zpMM1GTuaa",
    "HD8Yzwj5Tuax",
    "Evld8xuaTubi",
    "_31ncZ7zTubl"
   ],
   "name": "python-eda-stackoverflow-survey.ipynb",
   "provenance": []
  },
  "kernelspec": {
   "display_name": "Python 3",
   "language": "python",
   "name": "python3"
  },
  "language_info": {
   "codemirror_mode": {
    "name": "ipython",
    "version": 3
   },
   "file_extension": ".py",
   "mimetype": "text/x-python",
   "name": "python",
   "nbconvert_exporter": "python",
   "pygments_lexer": "ipython3",
   "version": "3.7.9"
  }
 },
 "nbformat": 4,
 "nbformat_minor": 1
}
