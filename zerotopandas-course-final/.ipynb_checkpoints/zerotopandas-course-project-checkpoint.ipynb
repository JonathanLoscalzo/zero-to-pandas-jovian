{
 "cells": [
  {
   "cell_type": "markdown",
   "metadata": {},
   "source": [
    "## Data Analysis with Python: Zero to Pandas - Project"
   ]
  },
  {
   "cell_type": "markdown",
   "metadata": {},
   "source": [
    "# Data Analysis International Men Football Results from 1872 to 2020.\n",
    "\n",
    "This is an analysis of International Football Matches, so we are going to answer a couple of questions about it.\n",
    "\n",
    "This data is based this [kaggle-dataset](https://www.kaggle.com/martj42/international-football-results-from-1872-to-2017) and this project is only for practice for the course \"Zero to Pandas\" by Jovian.ml.\n",
    "\n"
   ]
  },
  {
   "cell_type": "markdown",
   "metadata": {},
   "source": [
    "## Downloading the Dataset\n",
    "\n",
    "Download the dataset from kaggle"
   ]
  },
  {
   "cell_type": "code",
   "execution_count": 3,
   "metadata": {},
   "outputs": [
    {
     "name": "stdout",
     "output_type": "stream",
     "text": [
      "\u001b[33mWARNING: You are using pip version 20.2.2; however, version 20.2.3 is available.\r\n",
      "You should consider upgrading via the '/home/jloscalzo/.pyenv/versions/3.7.9/bin/python3.7 -m pip install --upgrade pip' command.\u001b[0m\r\n"
     ]
    }
   ],
   "source": [
    "!pip install jovian opendatasets --upgrade --quiet"
   ]
  },
  {
   "cell_type": "markdown",
   "metadata": {},
   "source": [
    "Let's begin by downloading the data, and listing the files within the dataset."
   ]
  },
  {
   "cell_type": "code",
   "execution_count": 538,
   "metadata": {},
   "outputs": [],
   "source": [
    "# Change this\n",
    "dataset_url = 'https://www.kaggle.com/martj42/international-football-results-from-1872-to-2017' "
   ]
  },
  {
   "cell_type": "code",
   "execution_count": 540,
   "metadata": {},
   "outputs": [
    {
     "name": "stdout",
     "output_type": "stream",
     "text": [
      "Kaggle dataset ID:  martj42/international-football-results-from-1872-to-2017\n",
      "Using downloaded and verified file: ./international-football-results-from-1872-to-2017.zip\n",
      "Extracting archive ./international-football-results-from-1872-to-2017.zip to ./international-football-results-from-1872-to-2017\n"
     ]
    }
   ],
   "source": [
    "\n",
    "import opendatasets as od\n",
    "od.download(dataset_url)"
   ]
  },
  {
   "cell_type": "markdown",
   "metadata": {},
   "source": [
    "The dataset has been downloaded and extracted."
   ]
  },
  {
   "cell_type": "code",
   "execution_count": 541,
   "metadata": {},
   "outputs": [],
   "source": [
    "# Change this\n",
    "data_dir = './international-football-results-from-1872-to-2017'"
   ]
  },
  {
   "cell_type": "code",
   "execution_count": 542,
   "metadata": {},
   "outputs": [
    {
     "data": {
      "text/plain": [
       "['results.csv']"
      ]
     },
     "execution_count": 542,
     "metadata": {},
     "output_type": "execute_result"
    }
   ],
   "source": [
    "import os\n",
    "os.listdir(data_dir)"
   ]
  },
  {
   "cell_type": "markdown",
   "metadata": {},
   "source": [
    "Let us save and upload our work to Jovian before continuing."
   ]
  },
  {
   "cell_type": "code",
   "execution_count": 543,
   "metadata": {},
   "outputs": [],
   "source": [
    "project_name = \"zerotopandas-course-project-men-football-results\" # change this (use lowercase letters and hyphens only)"
   ]
  },
  {
   "cell_type": "code",
   "execution_count": 544,
   "metadata": {},
   "outputs": [
    {
     "data": {
      "application/javascript": [
       "window.require && require([\"base/js/namespace\"],function(Jupyter){Jupyter.notebook.save_checkpoint()})"
      ],
      "text/plain": [
       "<IPython.core.display.Javascript object>"
      ]
     },
     "metadata": {},
     "output_type": "display_data"
    },
    {
     "name": "stdout",
     "output_type": "stream",
     "text": [
      "[jovian] Attempting to save notebook..\u001b[0m\n",
      "[jovian] Updating notebook \"jonathanloscalzo/zerotopandas-course-project-men-football-results\" on https://jovian.ml/\u001b[0m\n",
      "[jovian] Uploading notebook..\u001b[0m\n",
      "[jovian] Capturing environment..\u001b[0m\n"
     ]
    },
    {
     "name": "stderr",
     "output_type": "stream",
     "text": [
      "\u001b[31m[jovian] Error: Failed to read Anaconda environment using command: \"conda env export -n base --no-builds\"\u001b[0m\n"
     ]
    },
    {
     "name": "stdout",
     "output_type": "stream",
     "text": [
      "[jovian] Committed successfully! https://jovian.ml/jonathanloscalzo/zerotopandas-course-project-men-football-results\u001b[0m\n"
     ]
    },
    {
     "data": {
      "text/plain": [
       "'https://jovian.ml/jonathanloscalzo/zerotopandas-course-project-men-football-results'"
      ]
     },
     "execution_count": 544,
     "metadata": {},
     "output_type": "execute_result"
    }
   ],
   "source": [
    "jovian.commit(project=project_name)"
   ]
  },
  {
   "cell_type": "markdown",
   "metadata": {},
   "source": [
    "## Data Preparation and Cleaning\n",
    "\n",
    "We are going to do: \n",
    "- Read csv, \n",
    "- First analysis of it\n",
    "- set date as index\n",
    "- add \"who_won\"\n",
    "- add \"score_diff\""
   ]
  },
  {
   "cell_type": "code",
   "execution_count": 545,
   "metadata": {},
   "outputs": [],
   "source": [
    "import pandas as pd"
   ]
  },
  {
   "cell_type": "code",
   "execution_count": 546,
   "metadata": {},
   "outputs": [],
   "source": [
    "df = pd.read_csv(data_dir+'/results.csv', parse_dates=[\"date\"])"
   ]
  },
  {
   "cell_type": "code",
   "execution_count": 547,
   "metadata": {},
   "outputs": [
    {
     "name": "stdout",
     "output_type": "stream",
     "text": [
      "<class 'pandas.core.frame.DataFrame'>\n",
      "RangeIndex: 41640 entries, 0 to 41639\n",
      "Data columns (total 9 columns):\n",
      " #   Column      Non-Null Count  Dtype         \n",
      "---  ------      --------------  -----         \n",
      " 0   date        41640 non-null  datetime64[ns]\n",
      " 1   home_team   41640 non-null  object        \n",
      " 2   away_team   41640 non-null  object        \n",
      " 3   home_score  41640 non-null  int64         \n",
      " 4   away_score  41640 non-null  int64         \n",
      " 5   tournament  41640 non-null  object        \n",
      " 6   city        41640 non-null  object        \n",
      " 7   country     41640 non-null  object        \n",
      " 8   neutral     41640 non-null  bool          \n",
      "dtypes: bool(1), datetime64[ns](1), int64(2), object(5)\n",
      "memory usage: 2.6+ MB\n"
     ]
    }
   ],
   "source": [
    "df.info()"
   ]
  },
  {
   "cell_type": "markdown",
   "metadata": {},
   "source": [
    "- There are 41640 rows (or matches), no missing data, date is datetime."
   ]
  },
  {
   "cell_type": "code",
   "execution_count": 548,
   "metadata": {},
   "outputs": [
    {
     "data": {
      "text/html": [
       "<div>\n",
       "<style scoped>\n",
       "    .dataframe tbody tr th:only-of-type {\n",
       "        vertical-align: middle;\n",
       "    }\n",
       "\n",
       "    .dataframe tbody tr th {\n",
       "        vertical-align: top;\n",
       "    }\n",
       "\n",
       "    .dataframe thead th {\n",
       "        text-align: right;\n",
       "    }\n",
       "</style>\n",
       "<table border=\"1\" class=\"dataframe\">\n",
       "  <thead>\n",
       "    <tr style=\"text-align: right;\">\n",
       "      <th></th>\n",
       "      <th>date</th>\n",
       "      <th>home_team</th>\n",
       "      <th>away_team</th>\n",
       "      <th>home_score</th>\n",
       "      <th>away_score</th>\n",
       "      <th>tournament</th>\n",
       "      <th>city</th>\n",
       "      <th>country</th>\n",
       "      <th>neutral</th>\n",
       "    </tr>\n",
       "  </thead>\n",
       "  <tbody>\n",
       "    <tr>\n",
       "      <th>count</th>\n",
       "      <td>41640</td>\n",
       "      <td>41640</td>\n",
       "      <td>41640</td>\n",
       "      <td>41640.000000</td>\n",
       "      <td>41640.000000</td>\n",
       "      <td>41640</td>\n",
       "      <td>41640</td>\n",
       "      <td>41640</td>\n",
       "      <td>41640</td>\n",
       "    </tr>\n",
       "    <tr>\n",
       "      <th>unique</th>\n",
       "      <td>NaN</td>\n",
       "      <td>308</td>\n",
       "      <td>305</td>\n",
       "      <td>NaN</td>\n",
       "      <td>NaN</td>\n",
       "      <td>112</td>\n",
       "      <td>2015</td>\n",
       "      <td>266</td>\n",
       "      <td>2</td>\n",
       "    </tr>\n",
       "    <tr>\n",
       "      <th>top</th>\n",
       "      <td>NaN</td>\n",
       "      <td>Brazil</td>\n",
       "      <td>Uruguay</td>\n",
       "      <td>NaN</td>\n",
       "      <td>NaN</td>\n",
       "      <td>Friendly</td>\n",
       "      <td>Kuala Lumpur</td>\n",
       "      <td>United States</td>\n",
       "      <td>False</td>\n",
       "    </tr>\n",
       "    <tr>\n",
       "      <th>freq</th>\n",
       "      <td>NaN</td>\n",
       "      <td>568</td>\n",
       "      <td>541</td>\n",
       "      <td>NaN</td>\n",
       "      <td>NaN</td>\n",
       "      <td>17029</td>\n",
       "      <td>589</td>\n",
       "      <td>1159</td>\n",
       "      <td>31356</td>\n",
       "    </tr>\n",
       "    <tr>\n",
       "      <th>mean</th>\n",
       "      <td>1991-01-01 07:12:45.648414848</td>\n",
       "      <td>NaN</td>\n",
       "      <td>NaN</td>\n",
       "      <td>1.744813</td>\n",
       "      <td>1.187680</td>\n",
       "      <td>NaN</td>\n",
       "      <td>NaN</td>\n",
       "      <td>NaN</td>\n",
       "      <td>NaN</td>\n",
       "    </tr>\n",
       "    <tr>\n",
       "      <th>min</th>\n",
       "      <td>1872-11-30 00:00:00</td>\n",
       "      <td>NaN</td>\n",
       "      <td>NaN</td>\n",
       "      <td>0.000000</td>\n",
       "      <td>0.000000</td>\n",
       "      <td>NaN</td>\n",
       "      <td>NaN</td>\n",
       "      <td>NaN</td>\n",
       "      <td>NaN</td>\n",
       "    </tr>\n",
       "    <tr>\n",
       "      <th>25%</th>\n",
       "      <td>1978-03-08 00:00:00</td>\n",
       "      <td>NaN</td>\n",
       "      <td>NaN</td>\n",
       "      <td>1.000000</td>\n",
       "      <td>0.000000</td>\n",
       "      <td>NaN</td>\n",
       "      <td>NaN</td>\n",
       "      <td>NaN</td>\n",
       "      <td>NaN</td>\n",
       "    </tr>\n",
       "    <tr>\n",
       "      <th>50%</th>\n",
       "      <td>1997-09-10 00:00:00</td>\n",
       "      <td>NaN</td>\n",
       "      <td>NaN</td>\n",
       "      <td>1.000000</td>\n",
       "      <td>1.000000</td>\n",
       "      <td>NaN</td>\n",
       "      <td>NaN</td>\n",
       "      <td>NaN</td>\n",
       "      <td>NaN</td>\n",
       "    </tr>\n",
       "    <tr>\n",
       "      <th>75%</th>\n",
       "      <td>2009-05-10 00:00:00</td>\n",
       "      <td>NaN</td>\n",
       "      <td>NaN</td>\n",
       "      <td>2.000000</td>\n",
       "      <td>2.000000</td>\n",
       "      <td>NaN</td>\n",
       "      <td>NaN</td>\n",
       "      <td>NaN</td>\n",
       "      <td>NaN</td>\n",
       "    </tr>\n",
       "    <tr>\n",
       "      <th>max</th>\n",
       "      <td>2020-09-08 00:00:00</td>\n",
       "      <td>NaN</td>\n",
       "      <td>NaN</td>\n",
       "      <td>31.000000</td>\n",
       "      <td>21.000000</td>\n",
       "      <td>NaN</td>\n",
       "      <td>NaN</td>\n",
       "      <td>NaN</td>\n",
       "      <td>NaN</td>\n",
       "    </tr>\n",
       "    <tr>\n",
       "      <th>std</th>\n",
       "      <td>NaN</td>\n",
       "      <td>NaN</td>\n",
       "      <td>NaN</td>\n",
       "      <td>1.753365</td>\n",
       "      <td>1.404828</td>\n",
       "      <td>NaN</td>\n",
       "      <td>NaN</td>\n",
       "      <td>NaN</td>\n",
       "      <td>NaN</td>\n",
       "    </tr>\n",
       "  </tbody>\n",
       "</table>\n",
       "</div>"
      ],
      "text/plain": [
       "                                 date home_team away_team    home_score  \\\n",
       "count                           41640     41640     41640  41640.000000   \n",
       "unique                            NaN       308       305           NaN   \n",
       "top                               NaN    Brazil   Uruguay           NaN   \n",
       "freq                              NaN       568       541           NaN   \n",
       "mean    1991-01-01 07:12:45.648414848       NaN       NaN      1.744813   \n",
       "min               1872-11-30 00:00:00       NaN       NaN      0.000000   \n",
       "25%               1978-03-08 00:00:00       NaN       NaN      1.000000   \n",
       "50%               1997-09-10 00:00:00       NaN       NaN      1.000000   \n",
       "75%               2009-05-10 00:00:00       NaN       NaN      2.000000   \n",
       "max               2020-09-08 00:00:00       NaN       NaN     31.000000   \n",
       "std                               NaN       NaN       NaN      1.753365   \n",
       "\n",
       "          away_score tournament          city        country neutral  \n",
       "count   41640.000000      41640         41640          41640   41640  \n",
       "unique           NaN        112          2015            266       2  \n",
       "top              NaN   Friendly  Kuala Lumpur  United States   False  \n",
       "freq             NaN      17029           589           1159   31356  \n",
       "mean        1.187680        NaN           NaN            NaN     NaN  \n",
       "min         0.000000        NaN           NaN            NaN     NaN  \n",
       "25%         0.000000        NaN           NaN            NaN     NaN  \n",
       "50%         1.000000        NaN           NaN            NaN     NaN  \n",
       "75%         2.000000        NaN           NaN            NaN     NaN  \n",
       "max        21.000000        NaN           NaN            NaN     NaN  \n",
       "std         1.404828        NaN           NaN            NaN     NaN  "
      ]
     },
     "execution_count": 548,
     "metadata": {},
     "output_type": "execute_result"
    }
   ],
   "source": [
    "df.describe(include=\"all\", datetime_is_numeric=True)"
   ]
  },
  {
   "cell_type": "code",
   "execution_count": 549,
   "metadata": {},
   "outputs": [
    {
     "data": {
      "text/plain": [
       "'- There are 9 columns'"
      ]
     },
     "execution_count": 549,
     "metadata": {},
     "output_type": "execute_result"
    }
   ],
   "source": [
    "f\"- There are {df.columns.size} columns\""
   ]
  },
  {
   "cell_type": "markdown",
   "metadata": {},
   "source": [
    "- Add column \"who_won\", what shows if a home/away country wons or whether it was draw."
   ]
  },
  {
   "cell_type": "code",
   "execution_count": 550,
   "metadata": {},
   "outputs": [
    {
     "data": {
      "text/plain": [
       "Index(['date', 'home_team', 'away_team', 'home_score', 'away_score',\n",
       "       'tournament', 'city', 'country', 'neutral', 'who_won', 'who_won_AWAY',\n",
       "       'who_won_DRAW', 'who_won_HOME'],\n",
       "      dtype='object')"
      ]
     },
     "execution_count": 550,
     "metadata": {},
     "output_type": "execute_result"
    }
   ],
   "source": [
    "# option 1\n",
    "# df['home_won_match'] = df.home_score > df.away_score\n",
    "# df['away_won_match'] = df.home_score < df.away_score\n",
    "# df['draw_match'] = df.home_score == df.away_score\n",
    "\n",
    "# option 2\n",
    "def who_won(df):\n",
    "    if (df.home_score < df.away_score):\n",
    "        return \"AWAY\"\n",
    "    elif (df.home_score > df.away_score):\n",
    "        return \"HOME\"\n",
    "    else:\n",
    "        return \"DRAW\"\n",
    "    \n",
    "df['who_won'] = df.apply(who_won, axis=1)\n",
    "df = df.join(pd.get_dummies(df[[\"who_won\"]], columns=[\"who_won\"]))\n",
    "df.columns"
   ]
  },
  {
   "cell_type": "markdown",
   "metadata": {},
   "source": [
    "- Assign the difference between scores in absolute values"
   ]
  },
  {
   "cell_type": "code",
   "execution_count": 551,
   "metadata": {},
   "outputs": [],
   "source": [
    "df = df.assign(score_diff=(df.home_score - df.away_score).abs())"
   ]
  },
  {
   "cell_type": "markdown",
   "metadata": {},
   "source": [
    "- Set date as index"
   ]
  },
  {
   "cell_type": "code",
   "execution_count": 552,
   "metadata": {},
   "outputs": [],
   "source": [
    "df = df.set_index('date')"
   ]
  },
  {
   "cell_type": "code",
   "execution_count": 553,
   "metadata": {
    "scrolled": true
   },
   "outputs": [
    {
     "data": {
      "text/html": [
       "<div>\n",
       "<style scoped>\n",
       "    .dataframe tbody tr th:only-of-type {\n",
       "        vertical-align: middle;\n",
       "    }\n",
       "\n",
       "    .dataframe tbody tr th {\n",
       "        vertical-align: top;\n",
       "    }\n",
       "\n",
       "    .dataframe thead th {\n",
       "        text-align: right;\n",
       "    }\n",
       "</style>\n",
       "<table border=\"1\" class=\"dataframe\">\n",
       "  <thead>\n",
       "    <tr style=\"text-align: right;\">\n",
       "      <th></th>\n",
       "      <th>home_team</th>\n",
       "      <th>away_team</th>\n",
       "      <th>home_score</th>\n",
       "      <th>away_score</th>\n",
       "      <th>tournament</th>\n",
       "      <th>city</th>\n",
       "      <th>country</th>\n",
       "      <th>neutral</th>\n",
       "      <th>who_won</th>\n",
       "      <th>who_won_AWAY</th>\n",
       "      <th>who_won_DRAW</th>\n",
       "      <th>who_won_HOME</th>\n",
       "      <th>score_diff</th>\n",
       "    </tr>\n",
       "    <tr>\n",
       "      <th>date</th>\n",
       "      <th></th>\n",
       "      <th></th>\n",
       "      <th></th>\n",
       "      <th></th>\n",
       "      <th></th>\n",
       "      <th></th>\n",
       "      <th></th>\n",
       "      <th></th>\n",
       "      <th></th>\n",
       "      <th></th>\n",
       "      <th></th>\n",
       "      <th></th>\n",
       "      <th></th>\n",
       "    </tr>\n",
       "  </thead>\n",
       "  <tbody>\n",
       "    <tr>\n",
       "      <th>2008-05-28</th>\n",
       "      <td>Cambodia</td>\n",
       "      <td>Macau</td>\n",
       "      <td>3</td>\n",
       "      <td>1</td>\n",
       "      <td>AFC Challenge Cup qualification</td>\n",
       "      <td>Phnom Penh</td>\n",
       "      <td>Cambodia</td>\n",
       "      <td>False</td>\n",
       "      <td>HOME</td>\n",
       "      <td>0</td>\n",
       "      <td>0</td>\n",
       "      <td>1</td>\n",
       "      <td>2</td>\n",
       "    </tr>\n",
       "    <tr>\n",
       "      <th>2011-10-02</th>\n",
       "      <td>Antigua and Barbuda</td>\n",
       "      <td>Martinique</td>\n",
       "      <td>1</td>\n",
       "      <td>2</td>\n",
       "      <td>Friendly</td>\n",
       "      <td>Osbourn</td>\n",
       "      <td>Antigua and Barbuda</td>\n",
       "      <td>False</td>\n",
       "      <td>AWAY</td>\n",
       "      <td>1</td>\n",
       "      <td>0</td>\n",
       "      <td>0</td>\n",
       "      <td>1</td>\n",
       "    </tr>\n",
       "    <tr>\n",
       "      <th>1984-12-17</th>\n",
       "      <td>Central African Republic</td>\n",
       "      <td>Cameroon</td>\n",
       "      <td>1</td>\n",
       "      <td>7</td>\n",
       "      <td>UDEAC Cup</td>\n",
       "      <td>Brazzaville</td>\n",
       "      <td>Congo</td>\n",
       "      <td>True</td>\n",
       "      <td>AWAY</td>\n",
       "      <td>1</td>\n",
       "      <td>0</td>\n",
       "      <td>0</td>\n",
       "      <td>6</td>\n",
       "    </tr>\n",
       "    <tr>\n",
       "      <th>1980-08-17</th>\n",
       "      <td>Guatemala</td>\n",
       "      <td>El Salvador</td>\n",
       "      <td>1</td>\n",
       "      <td>1</td>\n",
       "      <td>Friendly</td>\n",
       "      <td>Guatemala</td>\n",
       "      <td>Guatemala</td>\n",
       "      <td>False</td>\n",
       "      <td>DRAW</td>\n",
       "      <td>0</td>\n",
       "      <td>1</td>\n",
       "      <td>0</td>\n",
       "      <td>0</td>\n",
       "    </tr>\n",
       "    <tr>\n",
       "      <th>2004-02-08</th>\n",
       "      <td>Saint Lucia</td>\n",
       "      <td>Saint Vincent and the Grenadines</td>\n",
       "      <td>1</td>\n",
       "      <td>2</td>\n",
       "      <td>Friendly</td>\n",
       "      <td>Castries</td>\n",
       "      <td>Saint Lucia</td>\n",
       "      <td>False</td>\n",
       "      <td>AWAY</td>\n",
       "      <td>1</td>\n",
       "      <td>0</td>\n",
       "      <td>0</td>\n",
       "      <td>1</td>\n",
       "    </tr>\n",
       "  </tbody>\n",
       "</table>\n",
       "</div>"
      ],
      "text/plain": [
       "                           home_team                         away_team  \\\n",
       "date                                                                     \n",
       "2008-05-28                  Cambodia                             Macau   \n",
       "2011-10-02       Antigua and Barbuda                        Martinique   \n",
       "1984-12-17  Central African Republic                          Cameroon   \n",
       "1980-08-17                 Guatemala                       El Salvador   \n",
       "2004-02-08               Saint Lucia  Saint Vincent and the Grenadines   \n",
       "\n",
       "            home_score  away_score                       tournament  \\\n",
       "date                                                                  \n",
       "2008-05-28           3           1  AFC Challenge Cup qualification   \n",
       "2011-10-02           1           2                         Friendly   \n",
       "1984-12-17           1           7                        UDEAC Cup   \n",
       "1980-08-17           1           1                         Friendly   \n",
       "2004-02-08           1           2                         Friendly   \n",
       "\n",
       "                   city              country  neutral who_won  who_won_AWAY  \\\n",
       "date                                                                          \n",
       "2008-05-28   Phnom Penh             Cambodia    False    HOME             0   \n",
       "2011-10-02      Osbourn  Antigua and Barbuda    False    AWAY             1   \n",
       "1984-12-17  Brazzaville                Congo     True    AWAY             1   \n",
       "1980-08-17    Guatemala            Guatemala    False    DRAW             0   \n",
       "2004-02-08     Castries          Saint Lucia    False    AWAY             1   \n",
       "\n",
       "            who_won_DRAW  who_won_HOME  score_diff  \n",
       "date                                                \n",
       "2008-05-28             0             1           2  \n",
       "2011-10-02             0             0           1  \n",
       "1984-12-17             0             0           6  \n",
       "1980-08-17             1             0           0  \n",
       "2004-02-08             0             0           1  "
      ]
     },
     "execution_count": 553,
     "metadata": {},
     "output_type": "execute_result"
    }
   ],
   "source": [
    "df.sample(5)"
   ]
  },
  {
   "cell_type": "code",
   "execution_count": 554,
   "metadata": {},
   "outputs": [
    {
     "data": {
      "application/javascript": [
       "window.require && require([\"base/js/namespace\"],function(Jupyter){Jupyter.notebook.save_checkpoint()})"
      ],
      "text/plain": [
       "<IPython.core.display.Javascript object>"
      ]
     },
     "metadata": {},
     "output_type": "display_data"
    },
    {
     "name": "stdout",
     "output_type": "stream",
     "text": [
      "[jovian] Attempting to save notebook..\u001b[0m\n",
      "[jovian] Updating notebook \"jonathanloscalzo/zerotopandas-course-project-men-football-results\" on https://jovian.ml/\u001b[0m\n",
      "[jovian] Uploading notebook..\u001b[0m\n",
      "[jovian] Capturing environment..\u001b[0m\n"
     ]
    },
    {
     "name": "stderr",
     "output_type": "stream",
     "text": [
      "\u001b[31m[jovian] Error: Failed to read Anaconda environment using command: \"conda env export -n base --no-builds\"\u001b[0m\n"
     ]
    },
    {
     "name": "stdout",
     "output_type": "stream",
     "text": [
      "[jovian] Committed successfully! https://jovian.ml/jonathanloscalzo/zerotopandas-course-project-men-football-results\u001b[0m\n"
     ]
    },
    {
     "data": {
      "text/plain": [
       "'https://jovian.ml/jonathanloscalzo/zerotopandas-course-project-men-football-results'"
      ]
     },
     "execution_count": 554,
     "metadata": {},
     "output_type": "execute_result"
    }
   ],
   "source": [
    "jovian.commit(project=project_name)"
   ]
  },
  {
   "cell_type": "markdown",
   "metadata": {},
   "source": [
    "## Exploratory Analysis and Visualization"
   ]
  },
  {
   "cell_type": "code",
   "execution_count": 555,
   "metadata": {},
   "outputs": [],
   "source": [
    "import seaborn as sns\n",
    "import matplotlib\n",
    "import matplotlib.pyplot as plt\n",
    "%matplotlib inline\n",
    "\n",
    "sns.set_style('darkgrid')\n",
    "matplotlib.rcParams['font.size'] = 14\n",
    "matplotlib.rcParams['figure.figsize'] = (9, 5)\n",
    "matplotlib.rcParams['figure.facecolor'] = '#00000000'\n",
    "\n",
    "sns.set()"
   ]
  },
  {
   "cell_type": "markdown",
   "metadata": {},
   "source": [
    "### Distribution of difference in goals\n",
    "\n",
    "How is the distribution of the difference in goals in history.\n",
    "In this case, a barplot may be more accurate (because histograms are for data distribution)."
   ]
  },
  {
   "cell_type": "code",
   "execution_count": 556,
   "metadata": {},
   "outputs": [
    {
     "data": {
      "image/png": "[encoded data removed]",
      "text/plain": [
       "<Figure size 648x360 with 1 Axes>"
      ]
     },
     "metadata": {},
     "output_type": "display_data"
    }
   ],
   "source": [
    "df.score_diff.plot.hist(bins=[0,1,2,3,4,5,6,7])\n",
    "plt.title(\"Which is the distribution of the difference in goals?\");"
   ]
  },
  {
   "cell_type": "markdown",
   "metadata": {},
   "source": [
    "### Percentage of the score difference in goals in history\n",
    "\n",
    "\n",
    "It shows up the distribution of score differences, it is common that a match finishes by a difference of 1 or 2, but it may be likely a draw."
   ]
  },
  {
   "cell_type": "code",
   "execution_count": 557,
   "metadata": {},
   "outputs": [
    {
     "data": {
      "image/png": "[encoded data removed]",
      "text/plain": [
       "<Figure size 648x360 with 1 Axes>"
      ]
     },
     "metadata": {},
     "output_type": "display_data"
    }
   ],
   "source": [
    "a = df.score_diff.value_counts(normalize=True).pipe(lambda d: d*100)\n",
    "rest = a[a<1].sum()\n",
    "a=a[a>1]\n",
    "a.index = \"=\" + a.index.map(str) + \" goals\"\n",
    "a = a.append(pd.Series(rest, index=[\"+7 goals\"]))\n",
    "\n",
    "_ = plt.pie(a, autopct='%1.1f%%', startangle=180, labels=a.index)\n",
    "\n",
    "plt.title(\"Which is the percentage of the score difference in goals around history?\");\n"
   ]
  },
  {
   "cell_type": "markdown",
   "metadata": {},
   "source": [
    "### Goals Distribution splitted up by home and away\n",
    "\n",
    "This viz shows how many goals are in a match related to home or away teams.\n",
    "It is interesting to see that the most of \"thrashings\" are made by home-teams.\n"
   ]
  },
  {
   "cell_type": "code",
   "execution_count": 558,
   "metadata": {},
   "outputs": [
    {
     "data": {
      "text/plain": [
       "<AxesSubplot:xlabel='score', ylabel='count'>"
      ]
     },
     "execution_count": 558,
     "metadata": {},
     "output_type": "execute_result"
    },
    {
     "data": {
      "image/png": "[encoded data removed]",
      "text/plain": [
       "<Figure size 648x360 with 1 Axes>"
      ]
     },
     "metadata": {},
     "output_type": "display_data"
    }
   ],
   "source": [
    "# option 1\n",
    "# plt.hist([df.home_score, df.away_score], bins=[0,1,2,3,4,5,6,7], stacked=True)\n",
    "# plt.legend([\"HOME score\", \"AWAY score\"])\n",
    "\n",
    "# alt = df[[\"home_score\"]].rename({\"home_score\", \"score\"}).copy()\n",
    "# alt[\"by\"] = \"HOME\"\n",
    "# alt = alt.append(df[[\"away_score\"]])\n",
    "# alt = alt.by.fillna(\"AWAY\")\n",
    "\n",
    "# option 2\n",
    "alt = pd.DataFrame({\n",
    "    \"score\": df.home_score.append(df.away_score), \n",
    "    \"by\":[*(\"HOME\" for i in range(df.home_score.size)), *(\"AWAY\" for i in range(df.home_score.size))]\n",
    "})\n",
    "\n",
    "alt = alt[alt.score < 10]\n",
    "\n",
    "sns.countplot(x=\"score\", hue='by' ,data = alt)"
   ]
  },
  {
   "cell_type": "markdown",
   "metadata": {},
   "source": [
    "### Distribution of locality results (HOME, AWAY, DRAW) \n",
    "\n",
    "It means that at most of the time, if you are \"home\", you probably have more chance to win. "
   ]
  },
  {
   "cell_type": "code",
   "execution_count": 559,
   "metadata": {},
   "outputs": [
    {
     "data": {
      "image/png": "[encoded data removed]",
      "text/plain": [
       "<Figure size 648x360 with 1 Axes>"
      ]
     },
     "metadata": {},
     "output_type": "display_data"
    }
   ],
   "source": [
    "who_won_counts = df.who_won.value_counts(normalize=True)\n",
    "# plt.bar(who_won_counts.index, who_won_counts)\n",
    "\n",
    "plt.pie(who_won_counts, autopct='%1.1f%%', startangle=180, labels=who_won_counts.index);"
   ]
  },
  {
   "cell_type": "markdown",
   "metadata": {},
   "source": [
    "### Sample's first and last match date.\n",
    "simple stats.., just only for using juxt and pipe :) "
   ]
  },
  {
   "cell_type": "code",
   "execution_count": 560,
   "metadata": {},
   "outputs": [
    {
     "name": "stdout",
     "output_type": "stream",
     "text": [
      "First Match 1872-11-30, Last match 2020-09-08\n"
     ]
    }
   ],
   "source": [
    "from toolz import juxt, pipe\n",
    "\n",
    "print(\"First Match {}, Last match {}\".format(\n",
    "    *pipe(\n",
    "        df.index, \n",
    "        juxt(lambda d: d.min(), lambda d: d.max()), \n",
    "        lambda t: (d.strftime(\"%Y-%m-%d\") for d in t)\n",
    "    )\n",
    "  )\n",
    ")\n"
   ]
  },
  {
   "cell_type": "markdown",
   "metadata": {},
   "source": [
    "### How many neutral matches split up by locality."
   ]
  },
  {
   "cell_type": "code",
   "execution_count": 561,
   "metadata": {},
   "outputs": [
    {
     "data": {
      "text/plain": [
       "Text(0.5, 1.0, \"Distribution of 'locality' by neutral matches?\")"
      ]
     },
     "execution_count": 561,
     "metadata": {},
     "output_type": "execute_result"
    },
    {
     "data": {
      "image/png": "[encoded data removed]",
      "text/plain": [
       "<Figure size 648x360 with 1 Axes>"
      ]
     },
     "metadata": {},
     "output_type": "display_data"
    }
   ],
   "source": [
    "df.groupby([\"neutral\", \"who_won\"])\\\n",
    "    .size()\\\n",
    "    .reset_index()\\\n",
    "    .pivot(columns=\"who_won\", index=\"neutral\", values=0)\\\n",
    "    .plot(kind=\"bar\", stacked=True)\n",
    "\n",
    "plt.title(\"Distribution of 'locality' by neutral matches?\")"
   ]
  },
  {
   "cell_type": "markdown",
   "metadata": {},
   "source": [
    "### Another stats"
   ]
  },
  {
   "cell_type": "code",
   "execution_count": 562,
   "metadata": {},
   "outputs": [
    {
     "data": {
      "text/plain": [
       "'The dataset has 312 Teams'"
      ]
     },
     "execution_count": 562,
     "metadata": {},
     "output_type": "execute_result"
    }
   ],
   "source": [
    "f\"The dataset has {df.home_team.append(df.away_team).nunique()} Teams\""
   ]
  },
  {
   "cell_type": "code",
   "execution_count": 563,
   "metadata": {},
   "outputs": [
    {
     "data": {
      "text/plain": [
       "'There are 112 tournaments'"
      ]
     },
     "execution_count": 563,
     "metadata": {},
     "output_type": "execute_result"
    }
   ],
   "source": [
    "f\"There are {df.tournament.nunique()} tournaments\""
   ]
  },
  {
   "cell_type": "code",
   "execution_count": 564,
   "metadata": {},
   "outputs": [
    {
     "name": "stdout",
     "output_type": "stream",
     "text": [
      "The match with the largest difference was: URL https://es.wikipedia.org/wiki/Australia_31_-_0_Samoa_Americana\n"
     ]
    },
    {
     "data": {
      "text/html": [
       "<div>\n",
       "<style scoped>\n",
       "    .dataframe tbody tr th:only-of-type {\n",
       "        vertical-align: middle;\n",
       "    }\n",
       "\n",
       "    .dataframe tbody tr th {\n",
       "        vertical-align: top;\n",
       "    }\n",
       "\n",
       "    .dataframe thead th {\n",
       "        text-align: right;\n",
       "    }\n",
       "</style>\n",
       "<table border=\"1\" class=\"dataframe\">\n",
       "  <thead>\n",
       "    <tr style=\"text-align: right;\">\n",
       "      <th></th>\n",
       "      <th>home_team</th>\n",
       "      <th>away_team</th>\n",
       "      <th>home_score</th>\n",
       "      <th>away_score</th>\n",
       "      <th>tournament</th>\n",
       "      <th>city</th>\n",
       "      <th>country</th>\n",
       "      <th>neutral</th>\n",
       "      <th>who_won</th>\n",
       "      <th>who_won_AWAY</th>\n",
       "      <th>who_won_DRAW</th>\n",
       "      <th>who_won_HOME</th>\n",
       "      <th>score_diff</th>\n",
       "    </tr>\n",
       "    <tr>\n",
       "      <th>date</th>\n",
       "      <th></th>\n",
       "      <th></th>\n",
       "      <th></th>\n",
       "      <th></th>\n",
       "      <th></th>\n",
       "      <th></th>\n",
       "      <th></th>\n",
       "      <th></th>\n",
       "      <th></th>\n",
       "      <th></th>\n",
       "      <th></th>\n",
       "      <th></th>\n",
       "      <th></th>\n",
       "    </tr>\n",
       "  </thead>\n",
       "  <tbody>\n",
       "    <tr>\n",
       "      <th>2001-04-11</th>\n",
       "      <td>Australia</td>\n",
       "      <td>American Samoa</td>\n",
       "      <td>31</td>\n",
       "      <td>0</td>\n",
       "      <td>FIFA World Cup qualification</td>\n",
       "      <td>Coffs Harbour</td>\n",
       "      <td>Australia</td>\n",
       "      <td>False</td>\n",
       "      <td>HOME</td>\n",
       "      <td>0</td>\n",
       "      <td>0</td>\n",
       "      <td>1</td>\n",
       "      <td>31</td>\n",
       "    </tr>\n",
       "  </tbody>\n",
       "</table>\n",
       "</div>"
      ],
      "text/plain": [
       "            home_team       away_team  home_score  away_score  \\\n",
       "date                                                            \n",
       "2001-04-11  Australia  American Samoa          31           0   \n",
       "\n",
       "                              tournament           city    country  neutral  \\\n",
       "date                                                                          \n",
       "2001-04-11  FIFA World Cup qualification  Coffs Harbour  Australia    False   \n",
       "\n",
       "           who_won  who_won_AWAY  who_won_DRAW  who_won_HOME  score_diff  \n",
       "date                                                                      \n",
       "2001-04-11    HOME             0             0             1          31  "
      ]
     },
     "execution_count": 564,
     "metadata": {},
     "output_type": "execute_result"
    }
   ],
   "source": [
    "print(\"The match with the largest difference was: URL https://es.wikipedia.org/wiki/Australia_31_-_0_Samoa_Americana\")\n",
    "df[df.score_diff == df.score_diff.max()]"
   ]
  },
  {
   "cell_type": "code",
   "execution_count": 565,
   "metadata": {},
   "outputs": [
    {
     "data": {
      "application/javascript": [
       "window.require && require([\"base/js/namespace\"],function(Jupyter){Jupyter.notebook.save_checkpoint()})"
      ],
      "text/plain": [
       "<IPython.core.display.Javascript object>"
      ]
     },
     "metadata": {},
     "output_type": "display_data"
    },
    {
     "name": "stdout",
     "output_type": "stream",
     "text": [
      "[jovian] Attempting to save notebook..\u001b[0m\n",
      "[jovian] Updating notebook \"jonathanloscalzo/zerotopandas-course-project-men-football-results\" on https://jovian.ml/\u001b[0m\n",
      "[jovian] Uploading notebook..\u001b[0m\n",
      "[jovian] Capturing environment..\u001b[0m\n"
     ]
    },
    {
     "name": "stderr",
     "output_type": "stream",
     "text": [
      "\u001b[31m[jovian] Error: Failed to read Anaconda environment using command: \"conda env export -n base --no-builds\"\u001b[0m\n"
     ]
    },
    {
     "name": "stdout",
     "output_type": "stream",
     "text": [
      "[jovian] Committed successfully! https://jovian.ml/jonathanloscalzo/zerotopandas-course-project-men-football-results\u001b[0m\n"
     ]
    },
    {
     "data": {
      "text/plain": [
       "'https://jovian.ml/jonathanloscalzo/zerotopandas-course-project-men-football-results'"
      ]
     },
     "execution_count": 565,
     "metadata": {},
     "output_type": "execute_result"
    }
   ],
   "source": [
    "jovian.commit(project=project_name)"
   ]
  },
  {
   "cell_type": "markdown",
   "metadata": {},
   "source": [
    "## Asking and Answering Questions\n",
    "\n",
    "After that, I will be answering some questions and doubts about this dataset...\n"
   ]
  },
  {
   "cell_type": "markdown",
   "metadata": {},
   "source": [
    "#### Q1: In Fifa tournaments, it is important whether the locality (home|away)?"
   ]
  },
  {
   "cell_type": "code",
   "execution_count": 566,
   "metadata": {},
   "outputs": [
    {
     "data": {
      "text/plain": [
       "<AxesSubplot:xlabel='count', ylabel='tournament'>"
      ]
     },
     "execution_count": 566,
     "metadata": {},
     "output_type": "execute_result"
    },
    {
     "data": {
      "image/png": "[encoded data removed]",
      "text/plain": [
       "<Figure size 648x360 with 1 Axes>"
      ]
     },
     "metadata": {},
     "output_type": "display_data"
    }
   ],
   "source": [
    "sns.countplot(y=\"tournament\", hue=\"who_won\", data=df[df.tournament.str.contains(\"FIFA\")])\n",
    "#YES! :) "
   ]
  },
  {
   "cell_type": "markdown",
   "metadata": {},
   "source": [
    "It is important to be \"home team\" at the World Cup Qualification. Is it fair? I suppose, because the season is split up in 2 halves ( or 2 matches ) in most of times.\n",
    "I don't know about all qualification zones (South America, Asia, Europe, Africa, North America and so on..) have the same rules...\n",
    "\n",
    "Please, read it: [Qualification Rules](https://en.wikipedia.org/wiki/FIFA_World_Cup_qualification#Qualification_tournament_rules)"
   ]
  },
  {
   "cell_type": "markdown",
   "metadata": {},
   "source": [
    "#### Q2: Who is the most winner team?"
   ]
  },
  {
   "cell_type": "code",
   "execution_count": 567,
   "metadata": {},
   "outputs": [
    {
     "data": {
      "text/plain": [
       "<AxesSubplot:>"
      ]
     },
     "execution_count": 567,
     "metadata": {},
     "output_type": "execute_result"
    },
    {
     "data": {
      "image/png": "[encoded data removed]",
      "text/plain": [
       "<Figure size 648x360 with 1 Axes>"
      ]
     },
     "metadata": {},
     "output_type": "display_data"
    }
   ],
   "source": [
    "# winner_1 = \n",
    "home_winner = df.home_team[df.who_won == \"HOME\"]\n",
    "away_winner = df.away_team[df.who_won == \"AWAY\"]\n",
    "\n",
    "# winners = home_winner.append(away_winner)\n",
    "winners = home_winner.value_counts().to_frame().join(away_winner.value_counts().to_frame())\n",
    "winners.columns=[\"home_win\", \"away_win\"]\n",
    "winners[\"total\"] = winners.sum(axis=1)\n",
    "winners.nlargest(10, \"total\")[[\"home_win\", \"away_win\"]].plot(kind='bar', stacked=True)"
   ]
  },
  {
   "cell_type": "markdown",
   "metadata": {},
   "source": [
    "Argentina & Brasil are the most \"home-winners\", England and Germany are \"balanced winners\" and Brazil is who has won the most of the matches that ever play."
   ]
  },
  {
   "cell_type": "markdown",
   "metadata": {},
   "source": [
    "#### Q3: Which is the country who made the most goals? "
   ]
  },
  {
   "cell_type": "code",
   "execution_count": 568,
   "metadata": {},
   "outputs": [
    {
     "data": {
      "text/plain": [
       "<AxesSubplot:xlabel='team'>"
      ]
     },
     "execution_count": 568,
     "metadata": {},
     "output_type": "execute_result"
    },
    {
     "data": {
      "image/png": "[encoded data removed]",
      "text/plain": [
       "<Figure size 648x360 with 1 Axes>"
      ]
     },
     "metadata": {},
     "output_type": "display_data"
    }
   ],
   "source": [
    "score_home = df[[\"home_team\", \"home_score\"]]\\\n",
    ".rename(columns={\"home_team\": \"team\"})\\\n",
    ".groupby(\"team\").sum()\\\n",
    "\n",
    "score_away = df[[\"away_team\", \"away_score\"]]\\\n",
    ".rename(columns={\"away_team\": \"team\"})\\\n",
    ".groupby(\"team\").sum()\n",
    "\n",
    "all_scores = score_home.join(score_away)\n",
    "\n",
    "all_scores[\"total\"] = all_scores.sum(axis=1)\n",
    "\n",
    "all_scores.nlargest(10, \"total\")[[\"home_score\", \"away_score\"]].plot(kind='bar', stacked=True)"
   ]
  },
  {
   "cell_type": "markdown",
   "metadata": {},
   "source": [
    "It is not a surprise that England, Brazil and Germany were in the podium. But Sweden and Hungary? Yes, they were a surprise, Hungary were one of the best countries in 80' and earlier decades. \n",
    "\n",
    "Right now, Hungary [52 at Fifa Ranking](https://www.fifa.com/fifa-world-ranking/associations/association/HUN/men/). \n",
    "Same happens to Sweden, [the most frequent position is 18](https://www.fifa.com/fifa-world-ranking/associations/association/swe/men/)\n",
    "\n",
    "The team who scores the most goals is England. "
   ]
  },
  {
   "cell_type": "markdown",
   "metadata": {},
   "source": [
    "#### Q4: TODO - Only in the World Cup... Who is the most winner?"
   ]
  },
  {
   "cell_type": "code",
   "execution_count": 569,
   "metadata": {},
   "outputs": [],
   "source": [
    "fifa_matches = df[(df.tournament.str.contains(\"FIFA\")) & (~df.tournament.str.contains(\"qualification\"))]\n",
    "fifa_home_winner = fifa_matches.home_team[fifa_matches.who_won == \"HOME\"]\n",
    "fifa_away_winner = fifa_matches.away_team[fifa_matches.who_won == \"AWAY\"]\n",
    "fifa_winners = fifa_home_winner.value_counts().to_frame().join(fifa_away_winner.value_counts().to_frame()).fillna(0)\n",
    "fifa_winners[\"total\"] = fifa_winners.sum(axis=1)"
   ]
  },
  {
   "cell_type": "code",
   "execution_count": 570,
   "metadata": {},
   "outputs": [
    {
     "data": {
      "text/plain": [
       "<AxesSubplot:>"
      ]
     },
     "execution_count": 570,
     "metadata": {},
     "output_type": "execute_result"
    },
    {
     "data": {
      "image/png": "[encoded data removed]",
      "text/plain": [
       "<Figure size 648x360 with 1 Axes>"
      ]
     },
     "metadata": {},
     "output_type": "display_data"
    }
   ],
   "source": [
    "fifa_winners.nlargest(10, \"total\")[[\"home_team\", \"away_team\"]].plot(kind='bar', stacked=True)"
   ]
  },
  {
   "cell_type": "markdown",
   "metadata": {},
   "source": [
    "\n",
    "If we think this question... The most winner should be the countries with more wins. This list is from wikipedia... (Data [Results](https://en.wikipedia.org/wiki/List_of_FIFA_World_Cup_finals#Results))\n",
    "\n",
    "| Country | World Cup Wins |\n",
    "|--------|-----------|\n",
    "|   Brazil     |   5        |\n",
    "|   Germany     |   4        |\n",
    "|  Italy      |      4     |\n",
    "|   Argentina     |   2        |\n",
    "|     France   |       2    |\n",
    "|   Uruguay    |       2    |\n",
    "|    England    |      1     |\n",
    "|    Spain    |        1   |\n",
    "\n",
    "Actually, it is interesting why Netherlands and Belgium appears... They never won this cup...\n",
    "\n",
    "Netherlands has 3 times 2rd position (they always loses its finals)\n",
    "\n",
    "But Belgium has a \"similar\" situation. They only obtains a 4th position at 1986 and a 3rd position at 2018. So... they should have won many matches however they haven't be able to arrive to finals.\n",
    "\n"
   ]
  },
  {
   "cell_type": "markdown",
   "metadata": {},
   "source": [
    "#### Q5: TODO - Which countries faced more times?"
   ]
  },
  {
   "cell_type": "code",
   "execution_count": 634,
   "metadata": {},
   "outputs": [],
   "source": [
    "# OPTION 1, brute force\n",
    "# class MemoryFilter():\n",
    "    \n",
    "#     def __init__(self):\n",
    "#         self._memory = set()\n",
    "        \n",
    "#     def filter_with_memory(self, row):\n",
    "#         if (row.home_team_x, row.away_team_x) in self._memory:\n",
    "#             return False\n",
    "#         else:\n",
    "#             self._memory.add((row.home_team_x, row.away_team_x))\n",
    "#             self._memory.add((row.away_team_x, row.home_team_x))\n",
    "#             return True\n"
   ]
  },
  {
   "cell_type": "code",
   "execution_count": 644,
   "metadata": {},
   "outputs": [],
   "source": [
    "# af = df.groupby([\"home_team\", \"away_team\"])\\\n",
    "#     .size().rename(\"values\")\\\n",
    "#     .sort_values(ascending=False)\\\n",
    "#     .reset_index()\n",
    "\n",
    "\n",
    "# # TODO: could it be an issue? how to join by 2 keys avoiding duplication?\n",
    "# af = af.merge(\n",
    "#     af, \n",
    "#     left_on=[\"home_team\", \"away_team\"], \n",
    "#     right_on=[\"away_team\", \"home_team\"], \n",
    "#     how='left'\n",
    "# )[lambda df: (df.away_team_x == df.home_team_y)]\n",
    "\n",
    "# # to avoid duplication (T1,T2,T2,T1) is the same that (T2, T1, T1, T2)\n",
    "# memoryFilter = MemoryFilter()\n",
    "# af = af[af.apply(memoryFilter.filter_with_memory, axis=1)]\n",
    "\n",
    "# af = (\n",
    "#     af\n",
    "#     .assign(totals=lambda df: df.values_x + df.values_y)\n",
    "#     .drop(columns=[\"home_team_y\", \"away_team_y\", \"values_x\", \"values_y\"])\n",
    "#     .rename(\n",
    "#         columns={\n",
    "#             \"home_team_x\":\"Team_1\", \n",
    "#             \"away_team_x\": \"Team_2\"\n",
    "#     })\n",
    "#     .assign(match=lambda df: df.Team_1+\"-\"+df.Team_2)\n",
    "#     .drop(columns=[\"Team_1\", \"Team_2\"])\n",
    "#     .nlargest(20, \"totals\")\n",
    "# )"
   ]
  },
  {
   "cell_type": "code",
   "execution_count": 681,
   "metadata": {},
   "outputs": [],
   "source": [
    "# option 2, pythonic-pandas way.\n",
    "af = (\n",
    "    df.groupby(\n",
    "        df.filter(like=\"team\").apply(frozenset,axis=1)\n",
    "    )\n",
    "    .size()\n",
    "    .nlargest(20)\n",
    "    .sort_values(ascending=False)\n",
    "    .reset_index()\n",
    "    .rename(columns={'index':'match', 0:\"totals\"})\n",
    ")\n",
    "\n",
    "af.match = [\"-\".join([t1, t2]) for t1, t2 in af.match]"
   ]
  },
  {
   "cell_type": "code",
   "execution_count": 682,
   "metadata": {},
   "outputs": [
    {
     "data": {
      "image/png": "[encoded data removed]",
      "text/plain": [
       "<Figure size 648x360 with 1 Axes>"
      ]
     },
     "metadata": {},
     "output_type": "display_data"
    }
   ],
   "source": [
    "plt.bar(af.match, af.totals)\n",
    "plt.xticks(rotation=90)\n",
    "plt.title(\"How many time have countries faced against?\");"
   ]
  },
  {
   "cell_type": "markdown",
   "metadata": {},
   "source": [
    "We can see that Argentina-Uruguay is the rivarly that we have seen more times in history. It has a name also, [Clásico del Río de La Plata](https://es.wikipedia.org/wiki/Cl%C3%A1sico_del_R%C3%ADo_de_la_Plata)"
   ]
  },
  {
   "cell_type": "code",
   "execution_count": 631,
   "metadata": {},
   "outputs": [
    {
     "data": {
      "application/javascript": [
       "window.require && require([\"base/js/namespace\"],function(Jupyter){Jupyter.notebook.save_checkpoint()})"
      ],
      "text/plain": [
       "<IPython.core.display.Javascript object>"
      ]
     },
     "metadata": {},
     "output_type": "display_data"
    },
    {
     "name": "stdout",
     "output_type": "stream",
     "text": [
      "[jovian] Attempting to save notebook..\u001b[0m\n",
      "[jovian] Updating notebook \"jonathanloscalzo/zerotopandas-course-project-men-football-results\" on https://jovian.ml/\u001b[0m\n",
      "[jovian] Uploading notebook..\u001b[0m\n",
      "[jovian] Capturing environment..\u001b[0m\n"
     ]
    },
    {
     "name": "stderr",
     "output_type": "stream",
     "text": [
      "\u001b[31m[jovian] Error: Failed to read Anaconda environment using command: \"conda env export -n base --no-builds\"\u001b[0m\n"
     ]
    },
    {
     "name": "stdout",
     "output_type": "stream",
     "text": [
      "[jovian] Committed successfully! https://jovian.ml/jonathanloscalzo/zerotopandas-course-project-men-football-results\u001b[0m\n"
     ]
    },
    {
     "data": {
      "text/plain": [
       "'https://jovian.ml/jonathanloscalzo/zerotopandas-course-project-men-football-results'"
      ]
     },
     "execution_count": 631,
     "metadata": {},
     "output_type": "execute_result"
    }
   ],
   "source": [
    "jovian.commit(project=project_name)"
   ]
  },
  {
   "cell_type": "markdown",
   "metadata": {},
   "source": [
    "## Inferences and Conclusion\n",
    "\n",
    "- The dataset has 312 Teams\n",
    "- There are 112 tournament types.\n",
    "- The most winner of whole times is Brazil.\n",
    "- Most of matches are finished with 0 (23%),1(34%) or 2(20%) goals difference.\n",
    "- The most striker team is England.\n",
    "- You have and advantage at qualification to World Cup when you are a HOME team, however this advantage is reduced in the World Cup Tournament.\n",
    "- We have seen that the major rivarly is Argentina-Uruguay, but also are many others, such as: Belgium-Netherlands ( even in beers: Stella Artois and Heineken), Austria-Hungary faced many times but in un-official way.\n",
    "\n",
    "- To Answer last question, I've just asked in Stackoverflow. It wasn't easy to resolve in a \"pandas-way\". [URL](https://stackoverflow.com/questions/64202138/how-to-merge-a-dataframe-with-itself-by-two-keys-in-pandas/64202401#64202401)\n"
   ]
  },
  {
   "cell_type": "code",
   "execution_count": null,
   "metadata": {},
   "outputs": [
    {
     "data": {
      "application/javascript": [
       "window.require && require([\"base/js/namespace\"],function(Jupyter){Jupyter.notebook.save_checkpoint()})"
      ],
      "text/plain": [
       "<IPython.core.display.Javascript object>"
      ]
     },
     "metadata": {},
     "output_type": "display_data"
    },
    {
     "name": "stdout",
     "output_type": "stream",
     "text": [
      "[jovian] Attempting to save notebook..\u001b[0m\n"
     ]
    }
   ],
   "source": [
    "jovian.commit()"
   ]
  },
  {
   "cell_type": "code",
   "execution_count": null,
   "metadata": {},
   "outputs": [],
   "source": []
  }
 ],
 "metadata": {
  "kernelspec": {
   "display_name": "Python 3",
   "language": "python",
   "name": "python3"
  },
  "language_info": {
   "codemirror_mode": {
    "name": "ipython",
    "version": 3
   },
   "file_extension": ".py",
   "mimetype": "text/x-python",
   "name": "python",
   "nbconvert_exporter": "python",
   "pygments_lexer": "ipython3",
   "version": "3.7.9"
  }
 },
 "nbformat": 4,
 "nbformat_minor": 4
}
